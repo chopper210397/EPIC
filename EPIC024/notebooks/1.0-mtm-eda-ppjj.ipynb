{
 "cells": [
  {
   "cell_type": "code",
   "execution_count": 1,
   "metadata": {},
   "outputs": [],
   "source": [
    "# 1. Importación de librerias"
   ]
  },
  {
   "cell_type": "code",
   "execution_count": 2,
   "metadata": {},
   "outputs": [],
   "source": [
    "import pandas as pd\n",
    "import numpy as np\n",
    "import seaborn as sns\n",
    "\n",
    "import matplotlib.pyplot as plt\n",
    "from scipy import stats\n",
    "\n",
    "import warnings\n",
    "warnings.filterwarnings(\"ignore\")\n",
    "pd.set_option('display.max_columns', None)\n",
    "pd.set_option('display.max_rows', None)"
   ]
  },
  {
   "cell_type": "code",
   "execution_count": 3,
   "metadata": {},
   "outputs": [],
   "source": [
    "# 2. Importación de data"
   ]
  },
  {
   "cell_type": "code",
   "execution_count": 4,
   "metadata": {},
   "outputs": [
    {
     "data": {
      "text/html": [
       "<div>\n",
       "<style scoped>\n",
       "    .dataframe tbody tr th:only-of-type {\n",
       "        vertical-align: middle;\n",
       "    }\n",
       "\n",
       "    .dataframe tbody tr th {\n",
       "        vertical-align: top;\n",
       "    }\n",
       "\n",
       "    .dataframe thead th {\n",
       "        text-align: right;\n",
       "    }\n",
       "</style>\n",
       "<table border=\"1\" class=\"dataframe\">\n",
       "  <thead>\n",
       "    <tr style=\"text-align: right;\">\n",
       "      <th></th>\n",
       "      <th>PERIODO</th>\n",
       "      <th>CODCLAVECIC</th>\n",
       "      <th>EDAD</th>\n",
       "      <th>TIPPER</th>\n",
       "      <th>ANTIGUEDAD</th>\n",
       "      <th>CODACTECONOMICA</th>\n",
       "      <th>DESACTECONOMICA</th>\n",
       "      <th>FLG_ACTECO_NODEF</th>\n",
       "      <th>FLGNP</th>\n",
       "      <th>CTDNP</th>\n",
       "      <th>FLGLSB</th>\n",
       "      <th>CTDLSB</th>\n",
       "      <th>FLGARCHIVONEGATIVO</th>\n",
       "      <th>DESTIPMOTIVONEGATIVO</th>\n",
       "      <th>CTD_NP_LSB</th>\n",
       "      <th>CTDEVAL</th>\n",
       "      <th>CODSUBSEGMENTO</th>\n",
       "      <th>DESSUBSEGMENTO</th>\n",
       "      <th>CODSEGMENTO</th>\n",
       "      <th>DESSEGMENTO</th>\n",
       "      <th>TIPDIR</th>\n",
       "      <th>CODUBIGEO</th>\n",
       "      <th>CODDISTRITO</th>\n",
       "      <th>DESCODDISTRITO</th>\n",
       "      <th>CODPROVINCIA</th>\n",
       "      <th>DESCODPROVINCIA</th>\n",
       "      <th>CODDEPARTAMENTO</th>\n",
       "      <th>DESCODDEPARTAMENTO</th>\n",
       "      <th>CODPAISNACIONALIDAD</th>\n",
       "      <th>DESCODPAISNACIONALIDAD</th>\n",
       "      <th>FLGNACIONALIDAD</th>\n",
       "      <th>MTO_INGRESOS_MES</th>\n",
       "      <th>CTD_INGRESOS_MES</th>\n",
       "      <th>MEDIA_INGRESOS</th>\n",
       "      <th>DESV_INGRESOS</th>\n",
       "      <th>FLG_PERFIL_INGRESOS_3DS</th>\n",
       "      <th>MAX_CTDMTOSREDONDOS</th>\n",
       "      <th>SUM_MTOSREDONDOS</th>\n",
       "      <th>CTDMAXIMA</th>\n",
       "      <th>MTO_MAXIMOSREPETIDOS</th>\n",
       "      <th>MTOMAXDEMAXREPETIDOS</th>\n",
       "      <th>MTO_CONOTROSPROXIMOS</th>\n",
       "      <th>CTD_CONOTROSPROXIMOS</th>\n",
       "    </tr>\n",
       "  </thead>\n",
       "  <tbody>\n",
       "    <tr>\n",
       "      <th>0</th>\n",
       "      <td>202310</td>\n",
       "      <td>14746388</td>\n",
       "      <td>51</td>\n",
       "      <td>P</td>\n",
       "      <td>48</td>\n",
       "      <td>0099</td>\n",
       "      <td>INFORMACION NO DISPONIBLE</td>\n",
       "      <td>1</td>\n",
       "      <td>0</td>\n",
       "      <td>0</td>\n",
       "      <td>0</td>\n",
       "      <td>0</td>\n",
       "      <td>0</td>\n",
       "      <td>NaN</td>\n",
       "      <td>0</td>\n",
       "      <td>0</td>\n",
       "      <td>M1N</td>\n",
       "      <td>CONSUMO NORMAL</td>\n",
       "      <td>PM</td>\n",
       "      <td>CONSUMO</td>\n",
       "      <td>D</td>\n",
       "      <td>.</td>\n",
       "      <td>0000</td>\n",
       "      <td>LOCALIDAD PARA E-MAI</td>\n",
       "      <td>M7</td>\n",
       "      <td>LIMA</td>\n",
       "      <td>30.0</td>\n",
       "      <td>LIMA</td>\n",
       "      <td>PER</td>\n",
       "      <td>PERU</td>\n",
       "      <td>0</td>\n",
       "      <td>1000.0</td>\n",
       "      <td>1</td>\n",
       "      <td>933.33</td>\n",
       "      <td>115.47</td>\n",
       "      <td>0</td>\n",
       "      <td>1</td>\n",
       "      <td>1000.0</td>\n",
       "      <td>1</td>\n",
       "      <td>1000.0</td>\n",
       "      <td>1000.0</td>\n",
       "      <td>1000.0</td>\n",
       "      <td>1</td>\n",
       "    </tr>\n",
       "    <tr>\n",
       "      <th>1</th>\n",
       "      <td>202310</td>\n",
       "      <td>4304832</td>\n",
       "      <td>39</td>\n",
       "      <td>P</td>\n",
       "      <td>234</td>\n",
       "      <td>0099</td>\n",
       "      <td>INFORMACION NO DISPONIBLE</td>\n",
       "      <td>1</td>\n",
       "      <td>0</td>\n",
       "      <td>0</td>\n",
       "      <td>0</td>\n",
       "      <td>0</td>\n",
       "      <td>0</td>\n",
       "      <td>NaN</td>\n",
       "      <td>0</td>\n",
       "      <td>0</td>\n",
       "      <td>Q1N</td>\n",
       "      <td>PEQ. EMPRESA NORMAL</td>\n",
       "      <td>PQ</td>\n",
       "      <td>PEQ. EMPRESA</td>\n",
       "      <td>D</td>\n",
       "      <td>150137</td>\n",
       "      <td>1782</td>\n",
       "      <td>SANTA ANITA-LIMA</td>\n",
       "      <td>M7</td>\n",
       "      <td>LIMA</td>\n",
       "      <td>30.0</td>\n",
       "      <td>LIMA</td>\n",
       "      <td>PER</td>\n",
       "      <td>PERU</td>\n",
       "      <td>0</td>\n",
       "      <td>600.0</td>\n",
       "      <td>2</td>\n",
       "      <td>300.00</td>\n",
       "      <td>0.00</td>\n",
       "      <td>0</td>\n",
       "      <td>2</td>\n",
       "      <td>600.0</td>\n",
       "      <td>2</td>\n",
       "      <td>600.0</td>\n",
       "      <td>300.0</td>\n",
       "      <td>600.0</td>\n",
       "      <td>2</td>\n",
       "    </tr>\n",
       "    <tr>\n",
       "      <th>2</th>\n",
       "      <td>202310</td>\n",
       "      <td>23699623</td>\n",
       "      <td>39</td>\n",
       "      <td>P</td>\n",
       "      <td>46</td>\n",
       "      <td>9309</td>\n",
       "      <td>OTRAS ACTIVIDS.DE SERVS.</td>\n",
       "      <td>1</td>\n",
       "      <td>0</td>\n",
       "      <td>0</td>\n",
       "      <td>0</td>\n",
       "      <td>0</td>\n",
       "      <td>0</td>\n",
       "      <td>NaN</td>\n",
       "      <td>0</td>\n",
       "      <td>0</td>\n",
       "      <td>NBN</td>\n",
       "      <td>NO BANCO NORMAL</td>\n",
       "      <td>SN</td>\n",
       "      <td>NO BANCO</td>\n",
       "      <td>D</td>\n",
       "      <td>150101</td>\n",
       "      <td>1311</td>\n",
       "      <td>LIMA CERCADO-LIMA</td>\n",
       "      <td>M7</td>\n",
       "      <td>LIMA</td>\n",
       "      <td>30.0</td>\n",
       "      <td>LIMA</td>\n",
       "      <td>PER</td>\n",
       "      <td>PERU</td>\n",
       "      <td>0</td>\n",
       "      <td>600.0</td>\n",
       "      <td>2</td>\n",
       "      <td>300.00</td>\n",
       "      <td>0.00</td>\n",
       "      <td>0</td>\n",
       "      <td>2</td>\n",
       "      <td>600.0</td>\n",
       "      <td>2</td>\n",
       "      <td>600.0</td>\n",
       "      <td>300.0</td>\n",
       "      <td>600.0</td>\n",
       "      <td>2</td>\n",
       "    </tr>\n",
       "    <tr>\n",
       "      <th>3</th>\n",
       "      <td>202310</td>\n",
       "      <td>3859377</td>\n",
       "      <td>46</td>\n",
       "      <td>P</td>\n",
       "      <td>242</td>\n",
       "      <td>0091</td>\n",
       "      <td>EMPLEADOS</td>\n",
       "      <td>0</td>\n",
       "      <td>0</td>\n",
       "      <td>0</td>\n",
       "      <td>0</td>\n",
       "      <td>0</td>\n",
       "      <td>0</td>\n",
       "      <td>NaN</td>\n",
       "      <td>0</td>\n",
       "      <td>0</td>\n",
       "      <td>M1N</td>\n",
       "      <td>CONSUMO NORMAL</td>\n",
       "      <td>PM</td>\n",
       "      <td>CONSUMO</td>\n",
       "      <td>D</td>\n",
       "      <td>150605</td>\n",
       "      <td>1244</td>\n",
       "      <td>CHANCAY-LIMA</td>\n",
       "      <td>M4</td>\n",
       "      <td>HUARAL</td>\n",
       "      <td>30.0</td>\n",
       "      <td>LIMA</td>\n",
       "      <td>PER</td>\n",
       "      <td>PERU</td>\n",
       "      <td>0</td>\n",
       "      <td>200.0</td>\n",
       "      <td>1</td>\n",
       "      <td>475.25</td>\n",
       "      <td>459.27</td>\n",
       "      <td>0</td>\n",
       "      <td>1</td>\n",
       "      <td>200.0</td>\n",
       "      <td>1</td>\n",
       "      <td>200.0</td>\n",
       "      <td>200.0</td>\n",
       "      <td>200.0</td>\n",
       "      <td>1</td>\n",
       "    </tr>\n",
       "    <tr>\n",
       "      <th>4</th>\n",
       "      <td>202310</td>\n",
       "      <td>18395633</td>\n",
       "      <td>40</td>\n",
       "      <td>P</td>\n",
       "      <td>0</td>\n",
       "      <td>NaN</td>\n",
       "      <td>NaN</td>\n",
       "      <td>1</td>\n",
       "      <td>0</td>\n",
       "      <td>0</td>\n",
       "      <td>0</td>\n",
       "      <td>0</td>\n",
       "      <td>0</td>\n",
       "      <td>NaN</td>\n",
       "      <td>0</td>\n",
       "      <td>0</td>\n",
       "      <td>NBN</td>\n",
       "      <td>NO BANCO NORMAL</td>\n",
       "      <td>SN</td>\n",
       "      <td>NO BANCO</td>\n",
       "      <td>D</td>\n",
       "      <td>.</td>\n",
       "      <td>0000</td>\n",
       "      <td>LOCALIDAD PARA E-MAI</td>\n",
       "      <td>M7</td>\n",
       "      <td>LIMA</td>\n",
       "      <td>30.0</td>\n",
       "      <td>LIMA</td>\n",
       "      <td>PER</td>\n",
       "      <td>PERU</td>\n",
       "      <td>0</td>\n",
       "      <td>150.0</td>\n",
       "      <td>1</td>\n",
       "      <td>0.00</td>\n",
       "      <td>0.00</td>\n",
       "      <td>0</td>\n",
       "      <td>1</td>\n",
       "      <td>150.0</td>\n",
       "      <td>1</td>\n",
       "      <td>150.0</td>\n",
       "      <td>150.0</td>\n",
       "      <td>150.0</td>\n",
       "      <td>1</td>\n",
       "    </tr>\n",
       "  </tbody>\n",
       "</table>\n",
       "</div>"
      ],
      "text/plain": [
       "   PERIODO  CODCLAVECIC  EDAD TIPPER  ANTIGUEDAD CODACTECONOMICA  \\\n",
       "0   202310     14746388    51      P          48            0099   \n",
       "1   202310      4304832    39      P         234            0099   \n",
       "2   202310     23699623    39      P          46            9309   \n",
       "3   202310      3859377    46      P         242            0091   \n",
       "4   202310     18395633    40      P           0             NaN   \n",
       "\n",
       "                            DESACTECONOMICA  FLG_ACTECO_NODEF  FLGNP  CTDNP  \\\n",
       "0  INFORMACION NO DISPONIBLE                                1      0      0   \n",
       "1  INFORMACION NO DISPONIBLE                                1      0      0   \n",
       "2  OTRAS ACTIVIDS.DE SERVS.                                 1      0      0   \n",
       "3  EMPLEADOS                                                0      0      0   \n",
       "4                                       NaN                 1      0      0   \n",
       "\n",
       "   FLGLSB  CTDLSB  FLGARCHIVONEGATIVO DESTIPMOTIVONEGATIVO  CTD_NP_LSB  \\\n",
       "0       0       0                   0                  NaN           0   \n",
       "1       0       0                   0                  NaN           0   \n",
       "2       0       0                   0                  NaN           0   \n",
       "3       0       0                   0                  NaN           0   \n",
       "4       0       0                   0                  NaN           0   \n",
       "\n",
       "   CTDEVAL CODSUBSEGMENTO       DESSUBSEGMENTO CODSEGMENTO   DESSEGMENTO  \\\n",
       "0        0            M1N       CONSUMO NORMAL          PM       CONSUMO   \n",
       "1        0            Q1N  PEQ. EMPRESA NORMAL          PQ  PEQ. EMPRESA   \n",
       "2        0            NBN      NO BANCO NORMAL          SN      NO BANCO   \n",
       "3        0            M1N       CONSUMO NORMAL          PM       CONSUMO   \n",
       "4        0            NBN      NO BANCO NORMAL          SN      NO BANCO   \n",
       "\n",
       "  TIPDIR CODUBIGEO CODDISTRITO        DESCODDISTRITO CODPROVINCIA  \\\n",
       "0      D    .             0000  LOCALIDAD PARA E-MAI        M7      \n",
       "1      D    150137        1782  SANTA ANITA-LIMA            M7      \n",
       "2      D    150101        1311  LIMA CERCADO-LIMA           M7      \n",
       "3      D    150605        1244  CHANCAY-LIMA                M4      \n",
       "4      D    .             0000  LOCALIDAD PARA E-MAI        M7      \n",
       "\n",
       "             DESCODPROVINCIA  CODDEPARTAMENTO         DESCODDEPARTAMENTO  \\\n",
       "0  LIMA                                  30.0  LIMA                        \n",
       "1  LIMA                                  30.0  LIMA                        \n",
       "2  LIMA                                  30.0  LIMA                        \n",
       "3  HUARAL                                30.0  LIMA                        \n",
       "4  LIMA                                  30.0  LIMA                        \n",
       "\n",
       "  CODPAISNACIONALIDAD DESCODPAISNACIONALIDAD  FLGNACIONALIDAD  \\\n",
       "0                 PER                   PERU                0   \n",
       "1                 PER                   PERU                0   \n",
       "2                 PER                   PERU                0   \n",
       "3                 PER                   PERU                0   \n",
       "4                 PER                   PERU                0   \n",
       "\n",
       "   MTO_INGRESOS_MES  CTD_INGRESOS_MES  MEDIA_INGRESOS  DESV_INGRESOS  \\\n",
       "0            1000.0                 1          933.33         115.47   \n",
       "1             600.0                 2          300.00           0.00   \n",
       "2             600.0                 2          300.00           0.00   \n",
       "3             200.0                 1          475.25         459.27   \n",
       "4             150.0                 1            0.00           0.00   \n",
       "\n",
       "   FLG_PERFIL_INGRESOS_3DS  MAX_CTDMTOSREDONDOS  SUM_MTOSREDONDOS  CTDMAXIMA  \\\n",
       "0                        0                    1            1000.0          1   \n",
       "1                        0                    2             600.0          2   \n",
       "2                        0                    2             600.0          2   \n",
       "3                        0                    1             200.0          1   \n",
       "4                        0                    1             150.0          1   \n",
       "\n",
       "   MTO_MAXIMOSREPETIDOS  MTOMAXDEMAXREPETIDOS  MTO_CONOTROSPROXIMOS  \\\n",
       "0                1000.0                1000.0                1000.0   \n",
       "1                 600.0                 300.0                 600.0   \n",
       "2                 600.0                 300.0                 600.0   \n",
       "3                 200.0                 200.0                 200.0   \n",
       "4                 150.0                 150.0                 150.0   \n",
       "\n",
       "   CTD_CONOTROSPROXIMOS  \n",
       "0                     1  \n",
       "1                     2  \n",
       "2                     2  \n",
       "3                     1  \n",
       "4                     1  "
      ]
     },
     "execution_count": 4,
     "metadata": {},
     "output_type": "execute_result"
    }
   ],
   "source": [
    "dat=pd.read_csv('../data/modeling/01_raw.csv',sep='|',encoding='latin-1')\n",
    "dat.head()"
   ]
  },
  {
   "cell_type": "code",
   "execution_count": 5,
   "metadata": {},
   "outputs": [],
   "source": [
    "# 3. Extracción de las personas jurídicas"
   ]
  },
  {
   "cell_type": "code",
   "execution_count": 6,
   "metadata": {},
   "outputs": [
    {
     "data": {
      "text/plain": [
       "(41011, 43)"
      ]
     },
     "execution_count": 6,
     "metadata": {},
     "output_type": "execute_result"
    }
   ],
   "source": [
    "jur=dat[dat.TIPPER=='E']\n",
    "jur.shape"
   ]
  },
  {
   "cell_type": "code",
   "execution_count": 7,
   "metadata": {},
   "outputs": [],
   "source": [
    "# 4. Descripción de la información"
   ]
  },
  {
   "cell_type": "code",
   "execution_count": 8,
   "metadata": {},
   "outputs": [
    {
     "data": {
      "text/plain": [
       "Index(['PERIODO', 'CODCLAVECIC', 'EDAD', 'TIPPER', 'ANTIGUEDAD',\n",
       "       'CODACTECONOMICA', 'DESACTECONOMICA', 'FLG_ACTECO_NODEF', 'FLGNP',\n",
       "       'CTDNP', 'FLGLSB', 'CTDLSB', 'FLGARCHIVONEGATIVO',\n",
       "       'DESTIPMOTIVONEGATIVO', 'CTD_NP_LSB', 'CTDEVAL', 'CODSUBSEGMENTO',\n",
       "       'DESSUBSEGMENTO', 'CODSEGMENTO', 'DESSEGMENTO', 'TIPDIR', 'CODUBIGEO',\n",
       "       'CODDISTRITO', 'DESCODDISTRITO', 'CODPROVINCIA', 'DESCODPROVINCIA',\n",
       "       'CODDEPARTAMENTO', 'DESCODDEPARTAMENTO', 'CODPAISNACIONALIDAD',\n",
       "       'DESCODPAISNACIONALIDAD', 'FLGNACIONALIDAD', 'MTO_INGRESOS_MES',\n",
       "       'CTD_INGRESOS_MES', 'MEDIA_INGRESOS', 'DESV_INGRESOS',\n",
       "       'FLG_PERFIL_INGRESOS_3DS', 'MAX_CTDMTOSREDONDOS', 'SUM_MTOSREDONDOS',\n",
       "       'CTDMAXIMA', 'MTO_MAXIMOSREPETIDOS', 'MTOMAXDEMAXREPETIDOS',\n",
       "       'MTO_CONOTROSPROXIMOS', 'CTD_CONOTROSPROXIMOS'],\n",
       "      dtype='object')"
      ]
     },
     "execution_count": 8,
     "metadata": {},
     "output_type": "execute_result"
    }
   ],
   "source": [
    "# Variables de la información\n",
    "jur.columns"
   ]
  },
  {
   "cell_type": "code",
   "execution_count": 9,
   "metadata": {},
   "outputs": [],
   "source": [
    "# Evaluación de duplicados"
   ]
  },
  {
   "cell_type": "code",
   "execution_count": 10,
   "metadata": {},
   "outputs": [
    {
     "data": {
      "text/html": [
       "<div>\n",
       "<style scoped>\n",
       "    .dataframe tbody tr th:only-of-type {\n",
       "        vertical-align: middle;\n",
       "    }\n",
       "\n",
       "    .dataframe tbody tr th {\n",
       "        vertical-align: top;\n",
       "    }\n",
       "\n",
       "    .dataframe thead th {\n",
       "        text-align: right;\n",
       "    }\n",
       "</style>\n",
       "<table border=\"1\" class=\"dataframe\">\n",
       "  <thead>\n",
       "    <tr style=\"text-align: right;\">\n",
       "      <th></th>\n",
       "      <th>PERIODO</th>\n",
       "      <th>CODCLAVECIC</th>\n",
       "      <th>EDAD</th>\n",
       "      <th>TIPPER</th>\n",
       "      <th>ANTIGUEDAD</th>\n",
       "      <th>CODACTECONOMICA</th>\n",
       "      <th>DESACTECONOMICA</th>\n",
       "      <th>FLG_ACTECO_NODEF</th>\n",
       "      <th>FLGNP</th>\n",
       "      <th>CTDNP</th>\n",
       "      <th>FLGLSB</th>\n",
       "      <th>CTDLSB</th>\n",
       "      <th>FLGARCHIVONEGATIVO</th>\n",
       "      <th>DESTIPMOTIVONEGATIVO</th>\n",
       "      <th>CTD_NP_LSB</th>\n",
       "      <th>CTDEVAL</th>\n",
       "      <th>CODSUBSEGMENTO</th>\n",
       "      <th>DESSUBSEGMENTO</th>\n",
       "      <th>CODSEGMENTO</th>\n",
       "      <th>DESSEGMENTO</th>\n",
       "      <th>TIPDIR</th>\n",
       "      <th>CODUBIGEO</th>\n",
       "      <th>CODDISTRITO</th>\n",
       "      <th>DESCODDISTRITO</th>\n",
       "      <th>CODPROVINCIA</th>\n",
       "      <th>DESCODPROVINCIA</th>\n",
       "      <th>CODDEPARTAMENTO</th>\n",
       "      <th>DESCODDEPARTAMENTO</th>\n",
       "      <th>CODPAISNACIONALIDAD</th>\n",
       "      <th>DESCODPAISNACIONALIDAD</th>\n",
       "      <th>FLGNACIONALIDAD</th>\n",
       "      <th>MTO_INGRESOS_MES</th>\n",
       "      <th>CTD_INGRESOS_MES</th>\n",
       "      <th>MEDIA_INGRESOS</th>\n",
       "      <th>DESV_INGRESOS</th>\n",
       "      <th>FLG_PERFIL_INGRESOS_3DS</th>\n",
       "      <th>MAX_CTDMTOSREDONDOS</th>\n",
       "      <th>SUM_MTOSREDONDOS</th>\n",
       "      <th>CTDMAXIMA</th>\n",
       "      <th>MTO_MAXIMOSREPETIDOS</th>\n",
       "      <th>MTOMAXDEMAXREPETIDOS</th>\n",
       "      <th>MTO_CONOTROSPROXIMOS</th>\n",
       "      <th>CTD_CONOTROSPROXIMOS</th>\n",
       "    </tr>\n",
       "  </thead>\n",
       "  <tbody>\n",
       "  </tbody>\n",
       "</table>\n",
       "</div>"
      ],
      "text/plain": [
       "Empty DataFrame\n",
       "Columns: [PERIODO, CODCLAVECIC, EDAD, TIPPER, ANTIGUEDAD, CODACTECONOMICA, DESACTECONOMICA, FLG_ACTECO_NODEF, FLGNP, CTDNP, FLGLSB, CTDLSB, FLGARCHIVONEGATIVO, DESTIPMOTIVONEGATIVO, CTD_NP_LSB, CTDEVAL, CODSUBSEGMENTO, DESSUBSEGMENTO, CODSEGMENTO, DESSEGMENTO, TIPDIR, CODUBIGEO, CODDISTRITO, DESCODDISTRITO, CODPROVINCIA, DESCODPROVINCIA, CODDEPARTAMENTO, DESCODDEPARTAMENTO, CODPAISNACIONALIDAD, DESCODPAISNACIONALIDAD, FLGNACIONALIDAD, MTO_INGRESOS_MES, CTD_INGRESOS_MES, MEDIA_INGRESOS, DESV_INGRESOS, FLG_PERFIL_INGRESOS_3DS, MAX_CTDMTOSREDONDOS, SUM_MTOSREDONDOS, CTDMAXIMA, MTO_MAXIMOSREPETIDOS, MTOMAXDEMAXREPETIDOS, MTO_CONOTROSPROXIMOS, CTD_CONOTROSPROXIMOS]\n",
       "Index: []"
      ]
     },
     "execution_count": 10,
     "metadata": {},
     "output_type": "execute_result"
    }
   ],
   "source": [
    "jur[jur.duplicated(subset=['PERIODO','CODCLAVECIC'])].head()"
   ]
  },
  {
   "cell_type": "code",
   "execution_count": 11,
   "metadata": {},
   "outputs": [],
   "source": [
    "# Estabilidad Poblacional"
   ]
  },
  {
   "cell_type": "code",
   "execution_count": 12,
   "metadata": {},
   "outputs": [
    {
     "data": {
      "text/plain": [
       "202310    6195\n",
       "202309    6055\n",
       "202308    5967\n",
       "202305    5877\n",
       "202306    5796\n",
       "202307    5770\n",
       "202304    5351\n",
       "Name: PERIODO, dtype: int64"
      ]
     },
     "execution_count": 12,
     "metadata": {},
     "output_type": "execute_result"
    }
   ],
   "source": [
    "jur.PERIODO.value_counts()"
   ]
  },
  {
   "cell_type": "code",
   "execution_count": 13,
   "metadata": {},
   "outputs": [
    {
     "data": {
      "text/plain": [
       "202310    0.151057\n",
       "202309    0.147643\n",
       "202308    0.145498\n",
       "202305    0.143303\n",
       "202306    0.141328\n",
       "202307    0.140694\n",
       "202304    0.130477\n",
       "Name: PERIODO, dtype: float64"
      ]
     },
     "execution_count": 13,
     "metadata": {},
     "output_type": "execute_result"
    }
   ],
   "source": [
    "jur.PERIODO.value_counts()/len(jur)"
   ]
  },
  {
   "cell_type": "code",
   "execution_count": 14,
   "metadata": {},
   "outputs": [],
   "source": [
    "# Valores perdidos"
   ]
  },
  {
   "cell_type": "code",
   "execution_count": 15,
   "metadata": {},
   "outputs": [
    {
     "data": {
      "text/plain": [
       "PERIODO                    0.000000\n",
       "CODCLAVECIC                0.000000\n",
       "EDAD                       0.000000\n",
       "TIPPER                     0.000000\n",
       "ANTIGUEDAD                 0.000000\n",
       "CODACTECONOMICA            0.000219\n",
       "DESACTECONOMICA            0.000219\n",
       "FLG_ACTECO_NODEF           0.000000\n",
       "FLGNP                      0.000000\n",
       "CTDNP                      0.000000\n",
       "FLGLSB                     0.000000\n",
       "CTDLSB                     0.000000\n",
       "FLGARCHIVONEGATIVO         0.000000\n",
       "DESTIPMOTIVONEGATIVO       0.999902\n",
       "CTD_NP_LSB                 0.000000\n",
       "CTDEVAL                    0.000000\n",
       "CODSUBSEGMENTO             0.000000\n",
       "DESSUBSEGMENTO             0.000000\n",
       "CODSEGMENTO                0.000000\n",
       "DESSEGMENTO                0.000000\n",
       "TIPDIR                     0.003755\n",
       "CODUBIGEO                  0.011046\n",
       "CODDISTRITO                0.003755\n",
       "DESCODDISTRITO             0.011046\n",
       "CODPROVINCIA               0.011046\n",
       "DESCODPROVINCIA            0.011046\n",
       "CODDEPARTAMENTO            0.011046\n",
       "DESCODDEPARTAMENTO         0.011046\n",
       "CODPAISNACIONALIDAD        0.000415\n",
       "DESCODPAISNACIONALIDAD     0.000415\n",
       "FLGNACIONALIDAD            0.000000\n",
       "MTO_INGRESOS_MES           0.000000\n",
       "CTD_INGRESOS_MES           0.000000\n",
       "MEDIA_INGRESOS             0.000000\n",
       "DESV_INGRESOS              0.000000\n",
       "FLG_PERFIL_INGRESOS_3DS    0.000000\n",
       "MAX_CTDMTOSREDONDOS        0.000000\n",
       "SUM_MTOSREDONDOS           0.000000\n",
       "CTDMAXIMA                  0.000000\n",
       "MTO_MAXIMOSREPETIDOS       0.000000\n",
       "MTOMAXDEMAXREPETIDOS       0.000000\n",
       "MTO_CONOTROSPROXIMOS       0.000000\n",
       "CTD_CONOTROSPROXIMOS       0.000000\n",
       "dtype: float64"
      ]
     },
     "execution_count": 15,
     "metadata": {},
     "output_type": "execute_result"
    }
   ],
   "source": [
    "jur.isna().sum()/len(jur)"
   ]
  },
  {
   "cell_type": "code",
   "execution_count": 16,
   "metadata": {},
   "outputs": [],
   "source": [
    "# Variables utilizadas en el anterior modelo"
   ]
  },
  {
   "cell_type": "code",
   "execution_count": 17,
   "metadata": {},
   "outputs": [],
   "source": [
    "x_model=['FLG_PERFIL_INGRESOS_3DS','MTO_CONOTROSPROXIMOS', 'CTD_CONOTROSPROXIMOS']"
   ]
  },
  {
   "cell_type": "code",
   "execution_count": 18,
   "metadata": {},
   "outputs": [],
   "source": [
    "# 5. EDA"
   ]
  },
  {
   "cell_type": "code",
   "execution_count": 19,
   "metadata": {},
   "outputs": [
    {
     "data": {
      "application/vnd.jupyter.widget-view+json": {
       "model_id": "1ff7949a70ea4e02967c8c748c06282b",
       "version_major": 2,
       "version_minor": 0
      },
      "text/plain": [
       "Summarize dataset:   0%|          | 0/5 [00:00<?, ?it/s]"
      ]
     },
     "metadata": {},
     "output_type": "display_data"
    },
    {
     "data": {
      "application/vnd.jupyter.widget-view+json": {
       "model_id": "0067fbc95c5c4b7ab3b73b35b9a51b98",
       "version_major": 2,
       "version_minor": 0
      },
      "text/plain": [
       "Generate report structure:   0%|          | 0/1 [00:00<?, ?it/s]"
      ]
     },
     "metadata": {},
     "output_type": "display_data"
    },
    {
     "data": {
      "application/vnd.jupyter.widget-view+json": {
       "model_id": "1d2071dabc90480fa78a30c8052838a1",
       "version_major": 2,
       "version_minor": 0
      },
      "text/plain": [
       "Render HTML:   0%|          | 0/1 [00:00<?, ?it/s]"
      ]
     },
     "metadata": {},
     "output_type": "display_data"
    },
    {
     "data": {
      "application/vnd.jupyter.widget-view+json": {
       "model_id": "3e370838fe444e9d8ba3b838fa397c3f",
       "version_major": 2,
       "version_minor": 0
      },
      "text/plain": [
       "Export report to file:   0%|          | 0/1 [00:00<?, ?it/s]"
      ]
     },
     "metadata": {},
     "output_type": "display_data"
    }
   ],
   "source": [
    "from pandas_profiling import ProfileReport\n",
    "prof = ProfileReport(jur[x_model])\n",
    "prof.to_file(output_file='EDA_PPJJ.html') # correr sólo para la documentación"
   ]
  },
  {
   "cell_type": "code",
   "execution_count": 20,
   "metadata": {},
   "outputs": [],
   "source": [
    "# EDA de la varaiable: MTO_CONOTROSPROXIMOS"
   ]
  },
  {
   "cell_type": "code",
   "execution_count": 21,
   "metadata": {},
   "outputs": [
    {
     "data": {
      "text/plain": [
       "<AxesSubplot:xlabel='MTO_CONOTROSPROXIMOS'>"
      ]
     },
     "execution_count": 21,
     "metadata": {},
     "output_type": "execute_result"
    }
   ],
   "source": [
    "sns.boxplot(x=jur['MTO_CONOTROSPROXIMOS'])"
   ]
  },
  {
   "cell_type": "code",
   "execution_count": 22,
   "metadata": {},
   "outputs": [
    {
     "data": {
      "image/png": "[encoded data removed]",
      "text/plain": [
       "<Figure size 640x480 with 1 Axes>"
      ]
     },
     "metadata": {},
     "output_type": "display_data"
    },
    {
     "data": {
      "image/png": "[encoded data removed]",
      "text/plain": [
       "<Figure size 1000x800 with 1 Axes>"
      ]
     },
     "metadata": {},
     "output_type": "display_data"
    }
   ],
   "source": [
    "plt.figure(figsize=(10,8))\n",
    "sns.boxplot(x='PERIODO', y='MTO_CONOTROSPROXIMOS', data=jur)\n",
    "plt.yticks(range(0,280000000,10000000))\n",
    "\n",
    "plt.xticks(fontsize=13)\n",
    "plt.yticks(fontsize=13)\n",
    "#plt.ticklabel_format(axis='y',style='sci',scilimits=(0,0),useMathText=True)\n",
    "\n",
    "#plt.savefig('mnt_conotrosproximos_ppjj.png')\n",
    "plt.show()"
   ]
  },
  {
   "cell_type": "code",
   "execution_count": 23,
   "metadata": {},
   "outputs": [],
   "source": [
    "# EDA de la varaiable: MTO_INGRESOS_MES"
   ]
  },
  {
   "cell_type": "code",
   "execution_count": 24,
   "metadata": {},
   "outputs": [
    {
     "data": {
      "image/png": "[encoded data removed]",
      "text/plain": [
       "<Figure size 1000x800 with 1 Axes>"
      ]
     },
     "metadata": {},
     "output_type": "display_data"
    }
   ],
   "source": [
    "plt.figure(figsize=(10,8))\n",
    "sns.boxplot(x='PERIODO', y='MTO_INGRESOS_MES', data=jur)\n",
    "plt.yticks(range(0,500000000,10000000))\n",
    "\n",
    "plt.xticks(fontsize=11)\n",
    "plt.yticks(fontsize=10)\n",
    "#plt.ticklabel_format(axis='y',style='sci',scilimits=(0,0),useMathText=True)\n",
    "\n",
    "#plt.savefig('mnt_conotrosproximos_ppjj.png')\n",
    "plt.show()"
   ]
  },
  {
   "cell_type": "code",
   "execution_count": 25,
   "metadata": {},
   "outputs": [],
   "source": [
    "# EDA de la varaiable: CTD_CONOTROSPROXIMOS"
   ]
  },
  {
   "cell_type": "code",
   "execution_count": 26,
   "metadata": {},
   "outputs": [
    {
     "data": {
      "text/plain": [
       "<AxesSubplot:xlabel='CTD_CONOTROSPROXIMOS'>"
      ]
     },
     "execution_count": 26,
     "metadata": {},
     "output_type": "execute_result"
    }
   ],
   "source": [
    "sns.boxplot(x=jur['CTD_CONOTROSPROXIMOS'])# filtrar para kmeasn"
   ]
  },
  {
   "cell_type": "code",
   "execution_count": 27,
   "metadata": {},
   "outputs": [
    {
     "data": {
      "image/png": "[encoded data removed]",
      "text/plain": [
       "<Figure size 640x480 with 1 Axes>"
      ]
     },
     "metadata": {},
     "output_type": "display_data"
    },
    {
     "data": {
      "image/png": "[encoded data removed]",
      "text/plain": [
       "<Figure size 800x500 with 1 Axes>"
      ]
     },
     "metadata": {},
     "output_type": "display_data"
    }
   ],
   "source": [
    "plt.figure(figsize=(8,5))\n",
    "sns.boxplot(x='PERIODO', y='CTD_CONOTROSPROXIMOS', data=jur)\n",
    "plt.show()"
   ]
  },
  {
   "cell_type": "code",
   "execution_count": 28,
   "metadata": {},
   "outputs": [],
   "source": [
    "# 6. Análisis Estadístico"
   ]
  },
  {
   "cell_type": "code",
   "execution_count": 29,
   "metadata": {},
   "outputs": [],
   "source": [
    "def estadisticos_numericos(df, colum_numericas):\n",
    "    estadis_num = pd.DataFrame()     \n",
    "    \n",
    "    for col in colum_numericas:         \n",
    "        col_data = df[col]         \n",
    "        val = [             \n",
    "            col,             \n",
    "            col_data.isnull().sum(),             \n",
    "            col_data.isnull().mean(),             \n",
    "            col_data.mean(),             \n",
    "            col_data.min(),    \n",
    "            col_data.quantile(0.05),         \n",
    "            col_data.quantile(0.1),\n",
    "            col_data.quantile(0.2),             \n",
    "            col_data.quantile(0.25),             \n",
    "            col_data.quantile(0.5),             \n",
    "            col_data.quantile(0.75),             \n",
    "            col_data.quantile(0.8),             \n",
    "            col_data.quantile(0.85),             \n",
    "            col_data.quantile(0.9),             \n",
    "            col_data.quantile(0.95),             \n",
    "            col_data.quantile(0.99),             \n",
    "            col_data.max()         \n",
    "            ]         \n",
    "        columna = ['Variable', 'Missing', '%Missing', 'Promedio', 'Minimo', 'P5','P10','P20', 'P25', 'P50', 'P75', 'P80', 'P85', 'P90', 'P95', 'P99', 'Maximo']         \n",
    "        tabla = pd.DataFrame([val], columns=columna)         \n",
    "        estadis_num = estadis_num.append(tabla, ignore_index=True)     \n",
    "        \n",
    "    return estadis_num"
   ]
  },
  {
   "cell_type": "code",
   "execution_count": 30,
   "metadata": {},
   "outputs": [
    {
     "data": {
      "text/html": [
       "<div>\n",
       "<style scoped>\n",
       "    .dataframe tbody tr th:only-of-type {\n",
       "        vertical-align: middle;\n",
       "    }\n",
       "\n",
       "    .dataframe tbody tr th {\n",
       "        vertical-align: top;\n",
       "    }\n",
       "\n",
       "    .dataframe thead th {\n",
       "        text-align: right;\n",
       "    }\n",
       "</style>\n",
       "<table border=\"1\" class=\"dataframe\">\n",
       "  <thead>\n",
       "    <tr style=\"text-align: right;\">\n",
       "      <th></th>\n",
       "      <th>Variable</th>\n",
       "      <th>Missing</th>\n",
       "      <th>%Missing</th>\n",
       "      <th>Promedio</th>\n",
       "      <th>Minimo</th>\n",
       "      <th>P5</th>\n",
       "      <th>P10</th>\n",
       "      <th>P20</th>\n",
       "      <th>P25</th>\n",
       "      <th>P50</th>\n",
       "      <th>P75</th>\n",
       "      <th>P80</th>\n",
       "      <th>P85</th>\n",
       "      <th>P90</th>\n",
       "      <th>P95</th>\n",
       "      <th>P99</th>\n",
       "      <th>Maximo</th>\n",
       "    </tr>\n",
       "  </thead>\n",
       "  <tbody>\n",
       "    <tr>\n",
       "      <th>0</th>\n",
       "      <td>FLG_PERFIL_INGRESOS_3DS</td>\n",
       "      <td>0</td>\n",
       "      <td>0.0</td>\n",
       "      <td>0.066860</td>\n",
       "      <td>0.00</td>\n",
       "      <td>0.00</td>\n",
       "      <td>0.0</td>\n",
       "      <td>0.0</td>\n",
       "      <td>0.0</td>\n",
       "      <td>0.0</td>\n",
       "      <td>0.0</td>\n",
       "      <td>0.0</td>\n",
       "      <td>0.00</td>\n",
       "      <td>0.0</td>\n",
       "      <td>1.000</td>\n",
       "      <td>1.000</td>\n",
       "      <td>1.0</td>\n",
       "    </tr>\n",
       "    <tr>\n",
       "      <th>1</th>\n",
       "      <td>MTO_CONOTROSPROXIMOS</td>\n",
       "      <td>0</td>\n",
       "      <td>0.0</td>\n",
       "      <td>253078.309611</td>\n",
       "      <td>100.26</td>\n",
       "      <td>546.24</td>\n",
       "      <td>1083.0</td>\n",
       "      <td>2500.0</td>\n",
       "      <td>3459.0</td>\n",
       "      <td>13000.0</td>\n",
       "      <td>54000.0</td>\n",
       "      <td>79965.0</td>\n",
       "      <td>120050.77</td>\n",
       "      <td>220000.0</td>\n",
       "      <td>506288.185</td>\n",
       "      <td>3747233.199</td>\n",
       "      <td>274312321.0</td>\n",
       "    </tr>\n",
       "    <tr>\n",
       "      <th>2</th>\n",
       "      <td>CTD_CONOTROSPROXIMOS</td>\n",
       "      <td>0</td>\n",
       "      <td>0.0</td>\n",
       "      <td>1.213333</td>\n",
       "      <td>1.00</td>\n",
       "      <td>1.00</td>\n",
       "      <td>1.0</td>\n",
       "      <td>1.0</td>\n",
       "      <td>1.0</td>\n",
       "      <td>1.0</td>\n",
       "      <td>1.0</td>\n",
       "      <td>1.0</td>\n",
       "      <td>1.00</td>\n",
       "      <td>2.0</td>\n",
       "      <td>2.000</td>\n",
       "      <td>4.000</td>\n",
       "      <td>61.0</td>\n",
       "    </tr>\n",
       "  </tbody>\n",
       "</table>\n",
       "</div>"
      ],
      "text/plain": [
       "                  Variable  Missing  %Missing       Promedio  Minimo      P5  \\\n",
       "0  FLG_PERFIL_INGRESOS_3DS        0       0.0       0.066860    0.00    0.00   \n",
       "1     MTO_CONOTROSPROXIMOS        0       0.0  253078.309611  100.26  546.24   \n",
       "2     CTD_CONOTROSPROXIMOS        0       0.0       1.213333    1.00    1.00   \n",
       "\n",
       "      P10     P20     P25      P50      P75      P80        P85       P90  \\\n",
       "0     0.0     0.0     0.0      0.0      0.0      0.0       0.00       0.0   \n",
       "1  1083.0  2500.0  3459.0  13000.0  54000.0  79965.0  120050.77  220000.0   \n",
       "2     1.0     1.0     1.0      1.0      1.0      1.0       1.00       2.0   \n",
       "\n",
       "          P95          P99       Maximo  \n",
       "0       1.000        1.000          1.0  \n",
       "1  506288.185  3747233.199  274312321.0  \n",
       "2       2.000        4.000         61.0  "
      ]
     },
     "execution_count": 30,
     "metadata": {},
     "output_type": "execute_result"
    }
   ],
   "source": [
    "estadisticos_numericos(jur,x_model)"
   ]
  },
  {
   "cell_type": "code",
   "execution_count": 31,
   "metadata": {},
   "outputs": [],
   "source": [
    "# 7. Correlación de varaiables"
   ]
  },
  {
   "cell_type": "code",
   "execution_count": 32,
   "metadata": {},
   "outputs": [
    {
     "name": "stdout",
     "output_type": "stream",
     "text": [
      "interval columns not set, guessing: ['FLG_PERFIL_INGRESOS_3DS', 'MTO_CONOTROSPROXIMOS', 'CTD_CONOTROSPROXIMOS']\n"
     ]
    },
    {
     "data": {
      "image/png": "[encoded data removed]",
      "text/plain": [
       "<Figure size 1000x800 with 2 Axes>"
      ]
     },
     "metadata": {},
     "output_type": "display_data"
    }
   ],
   "source": [
    "plt.figure(figsize=[10,8])\n",
    "import phik\n",
    "corr=round(jur[x_model].phik_matrix(),2)\n",
    "sns.heatmap(corr, \n",
    "        xticklabels=corr.columns,\n",
    "        yticklabels=corr.columns,\n",
    "        cmap=\"Blues\",\n",
    "        vmin=-1, vmax=1,\n",
    "        annot=True)\n",
    "plt.show()"
   ]
  },
  {
   "cell_type": "code",
   "execution_count": 33,
   "metadata": {},
   "outputs": [],
   "source": [
    "# 8. Número de outliers"
   ]
  },
  {
   "cell_type": "code",
   "execution_count": 34,
   "metadata": {},
   "outputs": [],
   "source": [
    "def outlier(data,var_num):\n",
    "    dfcorr=data[var_num]\n",
    "    mean = dfcorr.mean()\n",
    "    std = dfcorr.std()\n",
    "    out=(dfcorr > (mean+3*std)).sum()\n",
    "    out_df=pd.DataFrame(out)\n",
    "    out_df.columns=[\"N° Outliers\"]\n",
    "    return(out_df)"
   ]
  },
  {
   "cell_type": "code",
   "execution_count": 35,
   "metadata": {},
   "outputs": [
    {
     "data": {
      "text/html": [
       "<div>\n",
       "<style scoped>\n",
       "    .dataframe tbody tr th:only-of-type {\n",
       "        vertical-align: middle;\n",
       "    }\n",
       "\n",
       "    .dataframe tbody tr th {\n",
       "        vertical-align: top;\n",
       "    }\n",
       "\n",
       "    .dataframe thead th {\n",
       "        text-align: right;\n",
       "    }\n",
       "</style>\n",
       "<table border=\"1\" class=\"dataframe\">\n",
       "  <thead>\n",
       "    <tr style=\"text-align: right;\">\n",
       "      <th></th>\n",
       "      <th>N° Outliers</th>\n",
       "    </tr>\n",
       "  </thead>\n",
       "  <tbody>\n",
       "    <tr>\n",
       "      <th>FLG_PERFIL_INGRESOS_3DS</th>\n",
       "      <td>2742</td>\n",
       "    </tr>\n",
       "    <tr>\n",
       "      <th>MTO_CONOTROSPROXIMOS</th>\n",
       "      <td>167</td>\n",
       "    </tr>\n",
       "    <tr>\n",
       "      <th>CTD_CONOTROSPROXIMOS</th>\n",
       "      <td>378</td>\n",
       "    </tr>\n",
       "  </tbody>\n",
       "</table>\n",
       "</div>"
      ],
      "text/plain": [
       "                         N° Outliers\n",
       "FLG_PERFIL_INGRESOS_3DS         2742\n",
       "MTO_CONOTROSPROXIMOS             167\n",
       "CTD_CONOTROSPROXIMOS             378"
      ]
     },
     "execution_count": 35,
     "metadata": {},
     "output_type": "execute_result"
    }
   ],
   "source": [
    "outlier(jur,x_model)"
   ]
  },
  {
   "cell_type": "code",
   "execution_count": 36,
   "metadata": {},
   "outputs": [],
   "source": [
    "# 9. Estabilidad de varaibles"
   ]
  },
  {
   "cell_type": "code",
   "execution_count": 37,
   "metadata": {},
   "outputs": [],
   "source": [
    "# PSI"
   ]
  },
  {
   "cell_type": "code",
   "execution_count": 38,
   "metadata": {},
   "outputs": [],
   "source": [
    "train_jur=jur[jur.PERIODO!=202310]\n",
    "test_jur=jur[jur.PERIODO==202310]"
   ]
  },
  {
   "cell_type": "code",
   "execution_count": 39,
   "metadata": {},
   "outputs": [],
   "source": [
    "# MTO_CONOTROSPROXIMOS"
   ]
  },
  {
   "cell_type": "code",
   "execution_count": 40,
   "metadata": {},
   "outputs": [
    {
     "data": {
      "text/plain": [
       "monto_q1    0.333352\n",
       "monto_q2    0.333324\n",
       "monto_q3    0.333324\n",
       "Name: MTO_CONOTROSPROXIMOS_transf, dtype: float64"
      ]
     },
     "execution_count": 40,
     "metadata": {},
     "output_type": "execute_result"
    }
   ],
   "source": [
    "train_jur['MTO_CONOTROSPROXIMOS_transf']=pd.qcut(train_jur['MTO_CONOTROSPROXIMOS'],3,duplicates='drop',labels=['monto_q1','monto_q2','monto_q3'])\n",
    "train_jur['MTO_CONOTROSPROXIMOS_transf'].value_counts(True)"
   ]
  },
  {
   "cell_type": "code",
   "execution_count": 41,
   "metadata": {},
   "outputs": [
    {
     "data": {
      "text/plain": [
       "array([1.00260000e+02, 5.60740000e+03, 3.22037500e+04, 2.74312321e+08])"
      ]
     },
     "execution_count": 41,
     "metadata": {},
     "output_type": "execute_result"
    }
   ],
   "source": [
    "bins_MTO_CONOTROSPROXIMOS=pd.qcut(train_jur['MTO_CONOTROSPROXIMOS'],3,duplicates='drop',retbins=True,labels=False)\n",
    "bins_MTO_CONOTROSPROXIMOS[1]"
   ]
  },
  {
   "cell_type": "code",
   "execution_count": 42,
   "metadata": {},
   "outputs": [],
   "source": [
    "bins_MTO_CONOTROSPROXIMOS=[float('-Inf'),7.93352667e+03, 3.94931733e+04,float('Inf')]\n",
    "test_jur['MTO_CONOTROSPROXIMOS_transf']=pd.cut(test_jur['MTO_CONOTROSPROXIMOS'],bins=bins_MTO_CONOTROSPROXIMOS,labels=['monto_q1','monto_q2','monto_q3'])"
   ]
  },
  {
   "cell_type": "code",
   "execution_count": 43,
   "metadata": {},
   "outputs": [
    {
     "data": {
      "text/plain": [
       "monto_q1    0.404197\n",
       "monto_q3    0.307345\n",
       "monto_q2    0.288458\n",
       "Name: MTO_CONOTROSPROXIMOS_transf, dtype: float64"
      ]
     },
     "execution_count": 43,
     "metadata": {},
     "output_type": "execute_result"
    }
   ],
   "source": [
    "test_jur['MTO_CONOTROSPROXIMOS_transf'].value_counts(True)"
   ]
  },
  {
   "cell_type": "code",
   "execution_count": 44,
   "metadata": {},
   "outputs": [],
   "source": [
    "porc_train=pd.DataFrame(train_jur['MTO_CONOTROSPROXIMOS_transf'].value_counts(True)).reset_index()\n",
    "porc_train.columns=['MTO_CONOTROSPROXIMOS_transf','initial_percent']\n",
    "\n",
    "porc_test=pd.DataFrame(test_jur['MTO_CONOTROSPROXIMOS_transf'].value_counts(True)).reset_index()\n",
    "porc_test.columns=['MTO_CONOTROSPROXIMOS_transf','new_percent']"
   ]
  },
  {
   "cell_type": "code",
   "execution_count": 45,
   "metadata": {},
   "outputs": [
    {
     "data": {
      "text/plain": [
       "0.022245795083533252"
      ]
     },
     "execution_count": 45,
     "metadata": {},
     "output_type": "execute_result"
    }
   ],
   "source": [
    "tabla_psi=porc_train.merge(porc_test,how='left',on='MTO_CONOTROSPROXIMOS_transf')\n",
    "tabla_psi['PSI']=(tabla_psi['initial_percent']-tabla_psi['new_percent'])*np.log(tabla_psi['initial_percent']/tabla_psi['new_percent'])\n",
    "tabla_psi.PSI.sum()"
   ]
  },
  {
   "cell_type": "code",
   "execution_count": 46,
   "metadata": {},
   "outputs": [],
   "source": [
    "# CTD_CONOTROSPROXIMOS"
   ]
  },
  {
   "cell_type": "code",
   "execution_count": 47,
   "metadata": {},
   "outputs": [
    {
     "name": "stdout",
     "output_type": "stream",
     "text": [
      "1    0.876436\n",
      "0    0.123564\n",
      "Name: CTD_CONOTROSPROXIMOS_transf, dtype: float64 1    0.875545\n",
      "0    0.124455\n",
      "Name: CTD_CONOTROSPROXIMOS_transf, dtype: float64\n"
     ]
    }
   ],
   "source": [
    "train_jur['CTD_CONOTROSPROXIMOS_transf']=np.select(\n",
    "    [\n",
    "        (train_jur['CTD_CONOTROSPROXIMOS']==1)\n",
    "    ],\n",
    "    [1],\n",
    "    default=0\n",
    ")\n",
    "\n",
    "test_jur['CTD_CONOTROSPROXIMOS_transf']=np.select(\n",
    "    [\n",
    "        (test_jur['CTD_CONOTROSPROXIMOS']==1)\n",
    "    ],\n",
    "    [1],\n",
    "    default=0\n",
    ")\n",
    "print(train_jur.CTD_CONOTROSPROXIMOS_transf.value_counts(True),test_jur.CTD_CONOTROSPROXIMOS_transf.value_counts(True))"
   ]
  },
  {
   "cell_type": "code",
   "execution_count": 48,
   "metadata": {},
   "outputs": [
    {
     "data": {
      "text/plain": [
       "7.313435214823627e-06"
      ]
     },
     "execution_count": 48,
     "metadata": {},
     "output_type": "execute_result"
    }
   ],
   "source": [
    "porc_train=pd.DataFrame(train_jur['CTD_CONOTROSPROXIMOS_transf'].value_counts(True)).reset_index()\n",
    "porc_train.columns=['CTD_CONOTROSPROXIMOS_transf','initial_percent']\n",
    "\n",
    "porc_test=pd.DataFrame(test_jur['CTD_CONOTROSPROXIMOS_transf'].value_counts(True)).reset_index()\n",
    "porc_test.columns=['CTD_CONOTROSPROXIMOS_transf','new_percent']\n",
    "\n",
    "tabla_psi=porc_train.merge(porc_test,how='left',on='CTD_CONOTROSPROXIMOS_transf')\n",
    "tabla_psi['PSI']=(tabla_psi['initial_percent']-tabla_psi['new_percent'])*np.log(tabla_psi['initial_percent']/tabla_psi['new_percent'])\n",
    "tabla_psi.PSI.sum()"
   ]
  },
  {
   "cell_type": "code",
   "execution_count": 49,
   "metadata": {},
   "outputs": [],
   "source": [
    "# FLG_PERFIL_INGRESOS_3DS"
   ]
  },
  {
   "cell_type": "code",
   "execution_count": 50,
   "metadata": {},
   "outputs": [
    {
     "data": {
      "text/plain": [
       "0.00046853897241373044"
      ]
     },
     "execution_count": 50,
     "metadata": {},
     "output_type": "execute_result"
    }
   ],
   "source": [
    "porc_train=pd.DataFrame(train_jur['FLG_PERFIL_INGRESOS_3DS'].value_counts(True)).reset_index()\n",
    "porc_train.columns=['FLG_PERFIL_INGRESOS_3DS','initial_percent']\n",
    "\n",
    "porc_test=pd.DataFrame(test_jur['FLG_PERFIL_INGRESOS_3DS'].value_counts(True)).reset_index()\n",
    "porc_test.columns=['FLG_PERFIL_INGRESOS_3DS','new_percent']\n",
    "\n",
    "tabla_psi=porc_train.merge(porc_test,how='left',on='FLG_PERFIL_INGRESOS_3DS')\n",
    "tabla_psi['PSI']=(tabla_psi['initial_percent']-tabla_psi['new_percent'])*np.log(tabla_psi['initial_percent']/tabla_psi['new_percent'])\n",
    "tabla_psi.PSI.sum()"
   ]
  }
 ],
 "metadata": {
  "kernelspec": {
   "display_name": "base",
   "language": "python",
   "name": "python3"
  },
  "language_info": {
   "codemirror_mode": {
    "name": "ipython",
    "version": 3
   },
   "file_extension": ".py",
   "mimetype": "text/x-python",
   "name": "python",
   "nbconvert_exporter": "python",
   "pygments_lexer": "ipython3",
   "version": "3.9.12"
  }
 },
 "nbformat": 4,
 "nbformat_minor": 2
}
