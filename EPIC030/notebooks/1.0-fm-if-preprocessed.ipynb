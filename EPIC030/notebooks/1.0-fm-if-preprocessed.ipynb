{
 "cells": [
  {
   "cell_type": "markdown",
   "metadata": {},
   "source": [
    "## Isolation Forest Estimador"
   ]
  },
  {
   "cell_type": "code",
   "execution_count": null,
   "metadata": {},
   "outputs": [],
   "source": [
    "import numpy as np\n",
    "import pandas as pd\n",
    "\n",
    "#Mostrar todas las columnas de un dataframe\n",
    "pd.set_option('display.max_columns', None)\n",
    "\n",
    "import warnings\n",
    "warnings.filterwarnings('ignore')\n"
   ]
  },
  {
   "cell_type": "code",
   "execution_count": null,
   "metadata": {},
   "outputs": [],
   "source": [
    "#Seleccionar ruta de la data\n",
    "dataframe = pd.read_csv('../data/modeling/01_raw.csv', encoding='latin')"
   ]
  },
  {
   "cell_type": "code",
   "execution_count": null,
   "metadata": {},
   "outputs": [],
   "source": [
    "#Transformaciones\n",
    "\n",
    "dataframe.rename(columns={'CODMES':'PERIODO'},inplace=True)\n",
    "\n",
    "condlist=[dataframe['PERIODO']==202109,dataframe['PERIODO']==202110,dataframe['PERIODO']==202111,\n",
    "          dataframe['PERIODO']==202112,dataframe['PERIODO']==202201,dataframe['PERIODO']==202202,dataframe['PERIODO']==202203]\n",
    "choicelist=[dataframe['MTO_ESTIMADOR']*0.241896,dataframe['MTO_ESTIMADOR']*0.250689,dataframe['MTO_ESTIMADOR']*0.246184,\n",
    "            dataframe['MTO_ESTIMADOR']*0.250815,dataframe['MTO_ESTIMADOR']*0.260213,dataframe['MTO_ESTIMADOR']*0.266241,dataframe['MTO_ESTIMADOR']*0.270416]\n",
    "dataframe['MTO_ESTIMADOR_DOL']=np.select(condlist,choicelist)\n",
    "\n",
    "dataframe['FLG_50K']=np.where(dataframe['MTO_INGRESO']>50000,1,0)\n",
    "dataframe['RATIO']=dataframe['MTO_INGRESO']/dataframe['MTO_ESTIMADOR_DOL']"
   ]
  },
  {
   "cell_type": "code",
   "execution_count": null,
   "metadata": {},
   "outputs": [],
   "source": [
    "dataframe=dataframe.loc[dataframe['MTO_ESTIMADOR_DOL'].notnull()]"
   ]
  },
  {
   "cell_type": "code",
   "execution_count": null,
   "metadata": {},
   "outputs": [],
   "source": [
    "dataframe.to_csv('../data/modeling/02_preprocessed.csv', sep=\"|\", index = False)"
   ]
  }
 ],
 "metadata": {
  "kernelspec": {
   "display_name": "Python 3",
   "language": "python",
   "name": "python3"
  },
  "language_info": {
   "codemirror_mode": {
    "name": "ipython",
    "version": 3
   },
   "file_extension": ".py",
   "mimetype": "text/x-python",
   "name": "python",
   "nbconvert_exporter": "python",
   "pygments_lexer": "ipython3",
   "version": "3.9.12"
  }
 },
 "nbformat": 4,
 "nbformat_minor": 4
}
