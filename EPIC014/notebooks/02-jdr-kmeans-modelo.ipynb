{
 "cells": [
  {
   "cell_type": "markdown",
   "metadata": {},
   "source": [
    "## **Modelo K-Means Perfil de Ingreso Banca I-C-E**"
   ]
  },
  {
   "cell_type": "markdown",
   "metadata": {},
   "source": [
    "### **Setup inicial**\n",
    "Configuraciones iniciales de los módulos y la importación de la data para el modelamiento"
   ]
  },
  {
   "cell_type": "code",
   "execution_count": null,
   "metadata": {},
   "outputs": [],
   "source": [
    "import numpy as np\n",
    "import pandas as pd\n",
    "from sklearn.preprocessing import StandardScaler\n",
    "from sklearn.cluster import KMeans\n",
    "import warnings\n",
    "warnings.filterwarnings('ignore')\n",
    "pd.set_option('display.max_columns', None)"
   ]
  },
  {
   "cell_type": "code",
   "execution_count": null,
   "metadata": {},
   "outputs": [],
   "source": [
    "ds = pd.read_csv('../data/modeling/02_preprocessed.csv', encoding='ansi',infer_datetime_format=True, sep = \"|\")\n",
    "ds"
   ]
  },
  {
   "cell_type": "code",
   "execution_count": null,
   "metadata": {},
   "outputs": [],
   "source": [
    "#Tomo solo las variables para el modelo\n",
    "ds2 = ds[['MTO_RECIBIDO', 'FLG_ROS_REL', 'FLG_LSB_NP_REL', 'FLG_PERFIL_3DESVT_TRX']]"
   ]
  },
  {
   "cell_type": "markdown",
   "metadata": {},
   "source": [
    "### **Modelo final K Means**\n",
    "\n",
    "Elaboración del modelo final con 9 clusters"
   ]
  },
  {
   "cell_type": "code",
   "execution_count": null,
   "metadata": {},
   "outputs": [],
   "source": [
    "#Estandarizo los datos\n",
    "data_cluster = StandardScaler().fit_transform(ds2)"
   ]
  },
  {
   "cell_type": "code",
   "execution_count": null,
   "metadata": {},
   "outputs": [],
   "source": [
    "#Ejecuto modelo Kmeans\n",
    "clustering=KMeans(algorithm='auto', copy_x=True, init='k-means++', max_iter=300, n_clusters=9, n_init=10, random_state=101, tol=0.0001, verbose=0)\n",
    "clustering.fit(data_cluster)\n",
    "ds['N_Cluster']=clustering.labels_\n",
    "ds.groupby('N_Cluster').N_Cluster.count()"
   ]
  },
  {
   "cell_type": "code",
   "execution_count": null,
   "metadata": {},
   "outputs": [],
   "source": [
    "#Salida\n",
    "#Exporto el modelo para usarlo en data nueva\n",
    "import pickle\n",
    "pickle.dump(clustering, open(r'../src/02_models/kmeans_model_39.model', 'wb'))"
   ]
  },
  {
   "cell_type": "code",
   "execution_count": null,
   "metadata": {},
   "outputs": [],
   "source": [
    "#Exporto la tabla completa con el cluster al que pertenece cada registro\n",
    "ds.to_csv(r'../data/modeling/04_predicted.csv',index=False, sep =\"|\")"
   ]
  },
  {
   "cell_type": "code",
   "execution_count": null,
   "metadata": {},
   "outputs": [],
   "source": []
  }
 ],
 "metadata": {
  "kernelspec": {
   "display_name": "Python 3",
   "language": "python",
   "name": "python3"
  },
  "language_info": {
   "codemirror_mode": {
    "name": "ipython",
    "version": 3
   },
   "file_extension": ".py",
   "mimetype": "text/x-python",
   "name": "python",
   "nbconvert_exporter": "python",
   "pygments_lexer": "ipython3",
   "version": "3.9.12"
  }
 },
 "nbformat": 4,
 "nbformat_minor": 2
}
