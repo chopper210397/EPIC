{
 "cells": [
  {
   "cell_type": "code",
   "execution_count": null,
   "metadata": {},
   "outputs": [],
   "source": [
    "import numpy as np\n",
    "import pandas as pd\n",
    "import warnings\n",
    "warnings.filterwarnings('ignore')\n",
    "pd.set_option('display.max_columns', None)"
   ]
  },
  {
   "cell_type": "code",
   "execution_count": null,
   "metadata": {},
   "outputs": [],
   "source": [
    "#Seleccionar ruta de la data\n",
    "dataset = pd.read_csv('../data/modeling/01_raw.csv', encoding='ansi',infer_datetime_format=True)\n",
    "dataset= dataset[(dataset.NUMPERIODO>=201807) & (dataset.NUMPERIODO<=201912)]\n",
    "dataset.head(10)"
   ]
  },
  {
   "cell_type": "code",
   "execution_count": null,
   "metadata": {},
   "outputs": [],
   "source": [
    "dataset['RATIO_VTASNETAS_FIX'] = dataset['RATIO_VTASNETAS'].fillna(dataset.groupby('TIPBANCA')['RATIO_VTASNETAS'].transform('median'))"
   ]
  },
  {
   "cell_type": "code",
   "execution_count": null,
   "metadata": {},
   "outputs": [],
   "source": [
    "dataset['ANTIGUEDAD_CONST_FIX'] = dataset['ANTIGUEDAD_CONST'].fillna(dataset['ANTIGUEDADCLIENTE'])"
   ]
  },
  {
   "cell_type": "code",
   "execution_count": null,
   "metadata": {},
   "outputs": [],
   "source": [
    "#Trunco los outliers al valor del P90\n",
    "dataset['MTO_RECIBIDO'].clip(lower=-1,upper=dataset['MTO_RECIBIDO'].quantile(.95),inplace=True)\n",
    "dataset['NRO_INGRESOS'].clip(lower=-1,upper=dataset['NRO_INGRESOS'].quantile(.95),inplace=True)\n",
    "dataset['RATIO_VTASNETAS'].clip(lower=-1,upper=dataset['RATIO_VTASNETAS'].quantile(.95),inplace=True)\n",
    "dataset['RATIO_EMPREL'].clip(lower=-1,upper=dataset['RATIO_EMPREL'].quantile(.95),inplace=True)"
   ]
  },
  {
   "cell_type": "code",
   "execution_count": null,
   "metadata": {},
   "outputs": [],
   "source": [
    "dataset=pd.get_dummies(dataset, columns=['TIPBANCA'])"
   ]
  },
  {
   "cell_type": "code",
   "execution_count": null,
   "metadata": {},
   "outputs": [],
   "source": [
    "dataset.to_csv('../data/modeling/02_preprocessed.csv', index=False, sep = \"|\")"
   ]
  },
  {
   "cell_type": "code",
   "execution_count": null,
   "metadata": {},
   "outputs": [],
   "source": []
  }
 ],
 "metadata": {
  "kernelspec": {
   "display_name": "base",
   "language": "python",
   "name": "python3"
  },
  "language_info": {
   "codemirror_mode": {
    "name": "ipython",
    "version": 3
   },
   "file_extension": ".py",
   "mimetype": "text/x-python",
   "name": "python",
   "nbconvert_exporter": "python",
   "pygments_lexer": "ipython3",
   "version": "3.9.12"
  },
  "orig_nbformat": 4
 },
 "nbformat": 4,
 "nbformat_minor": 2
}
