{
 "cells": [
  {
   "attachments": {},
   "cell_type": "markdown",
   "metadata": {},
   "source": [
    "## Isolation Forest Yape"
   ]
  },
  {
   "cell_type": "code",
   "execution_count": 1,
   "metadata": {},
   "outputs": [],
   "source": [
    "import pandas as pd\n",
    "\n",
    "import warnings\n",
    "warnings.filterwarnings('ignore')"
   ]
  },
  {
   "cell_type": "code",
   "execution_count": 2,
   "metadata": {},
   "outputs": [],
   "source": [
    "#Seleccionar ruta de la data\n",
    "dataframe = pd.read_csv('../data/modeling/01_raw.csv', encoding='latin')"
   ]
  },
  {
   "cell_type": "code",
   "execution_count": 3,
   "metadata": {},
   "outputs": [],
   "source": [
    "#Transformaciones\n",
    "\n",
    "dataframe['FLG_PEP_TOT']=dataframe['FLG_PEP']+dataframe['FLG_PEP_REL']\n",
    "dataframe[\"ACT_ECO\"].fillna(4, inplace = True)\n",
    "dataframe[\"ACT_ECO\"].replace([1,2,3,4],[0,1,1,1],inplace=True)\n",
    "dataframe[\"CATPROFESION\"].fillna(4, inplace = True)\n",
    "dataframe[\"CATPROFESION\"].replace([0,1,2,4],[1,0,1,1],inplace=True)\n",
    "dataframe[\"ANT_CLI\"][dataframe[\"ANT_CLI\"]<0] = 0\n",
    "dataframe[\"ANT_YAPE\"].fillna(0, inplace = True)\n",
    "dataframe[\"ANT_YAPE\"][dataframe[\"ANT_CLI\"]<0] = 0\n",
    "dataframe['MTO_EGR'].fillna(0, inplace = True)\n",
    "dataframe['CTD_EGRESO'].fillna(0, inplace = True)\n",
    "dataframe['CTD_OPE_DIST_EGR'].fillna(0, inplace = True)\n",
    "dataframe['CTD_ALERTAS_PREV'].fillna(0, inplace = True)"
   ]
  },
  {
   "cell_type": "code",
   "execution_count": 5,
   "metadata": {},
   "outputs": [],
   "source": [
    "dataframe.to_csv(\"../data/modeling/02_preprocessed.csv\", sep=\"|\", index = False)"
   ]
  }
 ],
 "metadata": {
  "kernelspec": {
   "display_name": "Python 3",
   "language": "python",
   "name": "python3"
  },
  "language_info": {
   "codemirror_mode": {
    "name": "ipython",
    "version": 3
   },
   "file_extension": ".py",
   "mimetype": "text/x-python",
   "name": "python",
   "nbconvert_exporter": "python",
   "pygments_lexer": "ipython3",
   "version": "3.9.12"
  }
 },
 "nbformat": 4,
 "nbformat_minor": 4
}
