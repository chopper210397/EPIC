{
 "cells": [
  {
   "cell_type": "code",
   "execution_count": null,
   "metadata": {
    "id": "mIV_4MqY5392"
   },
   "outputs": [],
   "source": [
    "import pandas as pd\n",
    "import numpy as np\n",
    "from sklearn.preprocessing import MinMaxScaler\n",
    "from sklearn.neighbors import NearestNeighbors\n",
    "from sklearn.cluster import DBSCAN\n",
    "from sklearn.ensemble import RandomForestClassifier\n",
    "from sklearn.model_selection import train_test_split\n",
    "from sklearn import metrics\n",
    "import pickle\n",
    "import warnings\n",
    "warnings.filterwarnings('ignore')"
   ]
  },
  {
   "cell_type": "code",
   "execution_count": null,
   "metadata": {
    "colab": {
     "base_uri": "https://localhost:8080/"
    },
    "id": "yWbf36ck5399",
    "outputId": "512dd91d-7e9a-4cda-dd51-7895dfd9c53e"
   },
   "outputs": [],
   "source": [
    "#Seleccionar ruta de la data\n",
    "base=pd.read_csv('../data/modeling/02_preprocessed.csv',encoding= 'unicode_escape')\n",
    "base.shape"
   ]
  },
  {
   "cell_type": "code",
   "execution_count": null,
   "metadata": {
    "id": "_6HpH1PN53-h"
   },
   "outputs": [],
   "source": [
    "variables_numericas=['MTO_CASH_DEPO',\n",
    "                    'CTD_CASH_DEPO',\n",
    "                    'MTO_CASH_RET',\n",
    "                    'CTD_CASH_RET',\n",
    "                    'CTD_TRXS_SINCTAAGENTE',\n",
    "                    'ANTIGUEDAD',\n",
    "                    'FLG_ACTECO_NODEF',\n",
    "                    'FLG_PERFIL_CASH_DEPO_3DS',\n",
    "                    'CTD_TRXSFUERAHORARIO',\n",
    "                    'PROM_DEPODIARIOS',\n",
    "                    'CTD_DIASDEPO',\n",
    "                    'CTD_AN_NP_LSB',\n",
    "                    'MTO_AN_NP_LSB',\n",
    "                    'CTD_EVALS_PROP'\n",
    "                    ] #---------filter3 sin imputer\n",
    "\n",
    "columnas_flags=[\n",
    "                'FLG_ZAED'\n",
    "                ]"
   ]
  },
  {
   "cell_type": "code",
   "execution_count": null,
   "metadata": {
    "id": "P-jSdtS153-m"
   },
   "outputs": [],
   "source": [
    "variables_modelo=variables_numericas+columnas_flags\n"
   ]
  },
  {
   "cell_type": "code",
   "execution_count": null,
   "metadata": {
    "id": "bEtFRF-n53-0"
   },
   "outputs": [],
   "source": [
    "base_train=base[(base.PERIODO<=202001) & (base.PERIODO>=201907)]\n",
    "base_test=base[base.PERIODO==202002]"
   ]
  },
  {
   "cell_type": "code",
   "execution_count": null,
   "metadata": {
    "colab": {
     "base_uri": "https://localhost:8080/",
     "height": 224
    },
    "id": "rvrq1A0N53-9",
    "outputId": "b79c48b4-23e4-4a5a-a9aa-4a9e6f49630b"
   },
   "outputs": [],
   "source": [
    "minmax = MinMaxScaler()\n",
    "train_scalado = minmax.fit_transform(base_train[variables_modelo])\n",
    "train_scalado = pd.DataFrame(train_scalado, columns=[variables_modelo])\n",
    "train_scalado.head()"
   ]
  },
  {
   "cell_type": "code",
   "execution_count": null,
   "metadata": {
    "id": "FYLfVw-X53_T"
   },
   "outputs": [],
   "source": [
    "db = DBSCAN(eps=0.25, min_samples=20,metric='euclidean',metric_params=None, algorithm='auto', )\n",
    "db.fit(train_scalado)\n",
    "clusters = db.labels_"
   ]
  },
  {
   "cell_type": "markdown",
   "metadata": {
    "id": "Ra2P23gW53_h"
   },
   "source": [
    "#### Calculamos la sensibilidad de los cluster ante cambios en EPS"
   ]
  },
  {
   "cell_type": "code",
   "execution_count": null,
   "metadata": {
    "colab": {
     "base_uri": "https://localhost:8080/"
    },
    "id": "RwaXA1AC53_i",
    "outputId": "56077db3-0ea9-48af-cca5-84685a32b5e2"
   },
   "outputs": [],
   "source": [
    "# seleccionamos una muestra\n",
    "train_scalado_sample=train_scalado.sample(n=int(train_scalado.shape[0]*0.5),random_state=1)\n",
    "train_scalado_sample.shape"
   ]
  },
  {
   "cell_type": "markdown",
   "metadata": {
    "id": "1PexjeC753_8"
   },
   "source": [
    "#### Fijamos el valor de eps y min_samples"
   ]
  },
  {
   "cell_type": "code",
   "execution_count": null,
   "metadata": {
    "id": "hKXw981H53_9"
   },
   "outputs": [],
   "source": [
    "db = DBSCAN(eps=0.4, min_samples=20, metric='euclidean',\n",
    "            metric_params=None, algorithm='auto').fit(train_scalado)"
   ]
  },
  {
   "cell_type": "code",
   "execution_count": null,
   "metadata": {
    "id": "rIF16tGs54AB"
   },
   "outputs": [],
   "source": [
    "cluster_DBSCAN = db.labels_"
   ]
  },
  {
   "cell_type": "code",
   "execution_count": null,
   "metadata": {
    "colab": {
     "base_uri": "https://localhost:8080/"
    },
    "id": "RFd56zgF54AF",
    "outputId": "a8fea169-9266-4b63-8254-0f980fcd9286"
   },
   "outputs": [],
   "source": [
    "cluster_DBSCAN"
   ]
  },
  {
   "cell_type": "code",
   "execution_count": null,
   "metadata": {
    "colab": {
     "base_uri": "https://localhost:8080/"
    },
    "id": "clwLs1gx54AJ",
    "outputId": "6632d2cd-bd2e-4e04-ab3e-02243c5c5e1b"
   },
   "outputs": [],
   "source": [
    "scoreSilhoutte = metrics.silhouette_score(train_scalado, db.labels_, metric='euclidean')  \n",
    "scoreSilhoutte"
   ]
  },
  {
   "cell_type": "code",
   "execution_count": null,
   "metadata": {
    "colab": {
     "base_uri": "https://localhost:8080/"
    },
    "id": "3RbZmgdb54AP",
    "outputId": "815a8904-d482-41b6-9f66-15e194ab0600"
   },
   "outputs": [],
   "source": [
    "print(min(cluster_DBSCAN),max(cluster_DBSCAN))"
   ]
  },
  {
   "cell_type": "code",
   "execution_count": null,
   "metadata": {
    "colab": {
     "base_uri": "https://localhost:8080/"
    },
    "id": "Q_O2_XVF54AT",
    "outputId": "e96bd99b-675c-403f-ecbc-2ef3087cd4c6"
   },
   "outputs": [],
   "source": [
    "n_clusters_ = len(set(cluster_DBSCAN)) - (1 if -1 in cluster_DBSCAN else 0)\n",
    "n_clusters_"
   ]
  },
  {
   "cell_type": "markdown",
   "metadata": {
    "id": "3fnX4hUw54Aa"
   },
   "source": [
    "#### Asignamos los clusters"
   ]
  },
  {
   "cell_type": "code",
   "execution_count": null,
   "metadata": {
    "colab": {
     "base_uri": "https://localhost:8080/",
     "height": 581
    },
    "id": "ovyfO5Ve54Ab",
    "outputId": "dbb6fac9-4621-40c2-a133-98689c4c0f4c"
   },
   "outputs": [],
   "source": [
    "base_train['cluster_DBSCAN'] = cluster_DBSCAN\n",
    "base_train.head()"
   ]
  },
  {
   "cell_type": "code",
   "execution_count": null,
   "metadata": {
    "colab": {
     "base_uri": "https://localhost:8080/",
     "height": 224
    },
    "id": "cno5Tn5p54A2",
    "outputId": "f47213bf-6552-4ceb-9d94-9149b41ef470"
   },
   "outputs": [],
   "source": [
    "minmax = MinMaxScaler()\n",
    "test_scalado = minmax.fit_transform(base_test[variables_modelo])\n",
    "test_scalado = pd.DataFrame(test_scalado, columns=[variables_modelo])\n",
    "test_scalado.head()"
   ]
  },
  {
   "cell_type": "code",
   "execution_count": null,
   "metadata": {
    "colab": {
     "base_uri": "https://localhost:8080/",
     "height": 224
    },
    "id": "vuUsD1MTvIOV",
    "outputId": "fb5125bd-b752-4910-bb1d-ba63186e291f"
   },
   "outputs": [],
   "source": [
    "X_train_val=train_scalado\n",
    "y_train_val=base_train['cluster_DBSCAN']\n",
    "X_train_val.head()"
   ]
  },
  {
   "cell_type": "code",
   "execution_count": null,
   "metadata": {
    "id": "r_i1ViMVu_sC"
   },
   "outputs": [],
   "source": [
    "X_train, X_val, y_train, y_val = train_test_split(X_train_val, y_train_val, test_size=0.2, random_state=0)"
   ]
  },
  {
   "cell_type": "code",
   "execution_count": null,
   "metadata": {
    "colab": {
     "base_uri": "https://localhost:8080/"
    },
    "id": "ZxmV6pY9wU5c",
    "outputId": "ec958aca-31ed-40fa-d1df-20f6b02b1787"
   },
   "outputs": [],
   "source": [
    "mejor_score = 0\n",
    "mejor_n_estimators = None\n",
    "mejor_modelo_rf = None\n",
    "rf_error_train = []\n",
    "rf_error_val = []\n",
    "\n",
    "n_estimators_grid = np.linspace(2,80,40).astype(int)  # ~ [2, 4, 6, ..., 80]\n",
    "\n",
    "for n_estimators in n_estimators_grid:\n",
    "    modelo_rf = RandomForestClassifier(n_estimators=n_estimators, random_state=0)\n",
    "    modelo_rf.fit(X_train, y_train)\n",
    "\n",
    "    score_train = modelo_rf.score(X_train, y_train)\n",
    "    rf_error_train.append(1 - score_train)\n",
    "\n",
    "    score_val = modelo_rf.score(X_val, y_val)\n",
    "    rf_error_val.append(1 - score_val)\n",
    "\n",
    "    if score_val > mejor_score:\n",
    "        mejor_score = score_val\n",
    "        mejor_n_estimators = n_estimators\n",
    "        mejor_modelo_rf = modelo_rf\n",
    "\n",
    "modelo_rf = mejor_modelo_rf\n",
    "modelo_rf.fit(X_train, y_train)\n",
    "\n",
    "print (\"Mejor valor de n_estimators :\", mejor_n_estimators)\n",
    "print (\"Exactitud de RandomForest en conjunto de entrenamiento :\", modelo_rf.score(X_train, y_train))\n",
    "print (\"Exactitud de RandomForest en conjunto de validación    :\", modelo_rf.score(X_val, y_val))"
   ]
  },
  {
   "cell_type": "code",
   "execution_count": null,
   "metadata": {
    "id": "zT4NV1dRWOnp"
   },
   "outputs": [],
   "source": [
    "pickle.dump(modelo_rf,open('../src/02_models/random_forest_model_39.model','wb'))"
   ]
  },
  {
   "cell_type": "code",
   "execution_count": null,
   "metadata": {
    "colab": {
     "base_uri": "https://localhost:8080/"
    },
    "id": "3Dk5Upuvc0Cc",
    "outputId": "ac9c22a0-995c-45ca-f215-eb333fd95317"
   },
   "outputs": [],
   "source": [
    "base_test['cluster_DBSCAN_pred'] = modelo_rf.predict(test_scalado)"
   ]
  },
  {
   "cell_type": "code",
   "execution_count": null,
   "metadata": {
    "id": "TamCHiSjqcP4"
   },
   "outputs": [],
   "source": [
    "base_test.to_csv(r'../data/modeling/04_predicted.csv', sep='|', index = False)"
   ]
  }
 ],
 "metadata": {
  "colab": {
   "collapsed_sections": [],
   "name": "Copia_de_Agente_DBSCAN.ipynb",
   "provenance": []
  },
  "kernelspec": {
   "display_name": "Python 3",
   "language": "python",
   "name": "python3"
  },
  "language_info": {
   "codemirror_mode": {
    "name": "ipython",
    "version": 3
   },
   "file_extension": ".py",
   "mimetype": "text/x-python",
   "name": "python",
   "nbconvert_exporter": "python",
   "pygments_lexer": "ipython3",
   "version": "3.9.12"
  }
 },
 "nbformat": 4,
 "nbformat_minor": 4
}
