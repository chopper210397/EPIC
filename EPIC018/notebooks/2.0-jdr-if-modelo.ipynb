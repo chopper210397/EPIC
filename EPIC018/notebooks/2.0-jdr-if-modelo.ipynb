{
 "cells": [
  {
   "cell_type": "markdown",
   "metadata": {},
   "source": [
    "## Isolation Forest Mejora EPIC018 Producción"
   ]
  },
  {
   "cell_type": "code",
   "execution_count": null,
   "metadata": {},
   "outputs": [],
   "source": [
    "import numpy as np\n",
    "import pandas as pd\n",
    "from sklearn.ensemble import IsolationForest\n",
    "from sklearn import metrics\n",
    "#Mostrar todas las columnas de un dataframe\n",
    "pd.set_option('display.max_columns', None)\n",
    "import warnings\n",
    "import pickle\n",
    "warnings.filterwarnings('ignore')"
   ]
  },
  {
   "cell_type": "code",
   "execution_count": null,
   "metadata": {},
   "outputs": [],
   "source": [
    "#Seleccionar ruta de la data\n",
    "dataset = pd.read_csv('../data/modeling/02_preprocessed.csv', sep=\"|\", encoding='latin')\n",
    "dataset.shape"
   ]
  },
  {
   "cell_type": "code",
   "execution_count": null,
   "metadata": {},
   "outputs": [],
   "source": [
    "#- Selección de variables para el entrenamiento del modelo\n",
    "ds = dataset[['MTO_INGRESO',\n",
    "              'NUM_INGRESO',\n",
    "              'FLG_PERFIL',\n",
    "              'FLG_AN_LSB_NP',\n",
    "              'FLG_ACT_ECO',\n",
    "              'MTO_CTAS_RECIENTES',\n",
    "              'POR_CASH',\n",
    "              'CTD_DIAS_DEBAJOLAVA02',\n",
    "              'PORC_CASH_MESANTERIOR',\n",
    "              'FLG_REL_AN_LSB_NP',\n",
    "              'FLG_ACTECO_PLAFT',\n",
    "              'FLG_MARCASENSIBLE_PLAFT']]"
   ]
  },
  {
   "cell_type": "code",
   "execution_count": null,
   "metadata": {},
   "outputs": [],
   "source": [
    "#Modelo base IF\n",
    "clf_base = IsolationForest(n_estimators = 500, contamination=0.01,random_state=7)\n",
    "clf_base.fit(ds)\n",
    "\n",
    "#score de silueta\n",
    "datasetv1 = dataset.copy()\n",
    "datasetv1['IF_LABEL']=clf_base.predict(ds)\n",
    "scoreSilhoutte = metrics.silhouette_score(ds, datasetv1['IF_LABEL'], metric='euclidean')\n",
    "print('Silueta:',scoreSilhoutte)\n",
    "\n",
    "#Casos estimados\n",
    "datasetv2 = dataset.copy()\n",
    "datasetv2['IF_LABEL']=clf_base.predict(ds)\n",
    "datasetv2.groupby(['PERIODO','IF_LABEL']).size()"
   ]
  },
  {
   "cell_type": "code",
   "execution_count": null,
   "metadata": {},
   "outputs": [],
   "source": [
    "#Guardar el modelo\n",
    "pickle.dump(clf_base, open('../src/02_models/if_model_39.model', 'wb'))"
   ]
  },
  {
   "cell_type": "code",
   "execution_count": null,
   "metadata": {},
   "outputs": [],
   "source": [
    "datasetv1.to_csv('../data/modeling/04_predicted.csv',index=False,sep='|')"
   ]
  },
  {
   "cell_type": "code",
   "execution_count": null,
   "metadata": {},
   "outputs": [],
   "source": []
  }
 ],
 "metadata": {
  "kernelspec": {
   "display_name": ".venv",
   "language": "python",
   "name": "python3"
  },
  "language_info": {
   "codemirror_mode": {
    "name": "ipython",
    "version": 3
   },
   "file_extension": ".py",
   "mimetype": "text/x-python",
   "name": "python",
   "nbconvert_exporter": "python",
   "pygments_lexer": "ipython3",
   "version": "3.9.12"
  },
  "vscode": {
   "interpreter": {
    "hash": "97baa31f7e6f0b87d7bbbe73f1ec36e6ceabbb1deab23c2939af130f62502556"
   }
  }
 },
 "nbformat": 4,
 "nbformat_minor": 4
}
