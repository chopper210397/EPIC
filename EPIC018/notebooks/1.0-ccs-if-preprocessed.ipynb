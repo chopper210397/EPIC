{
 "cells": [
  {
   "cell_type": "code",
   "execution_count": null,
   "metadata": {},
   "outputs": [],
   "source": [
    "#Importación de librerias\n",
    "import numpy as np\n",
    "import pandas as pd"
   ]
  },
  {
   "cell_type": "code",
   "execution_count": null,
   "metadata": {},
   "outputs": [],
   "source": [
    "#Lectura de la data obtenida mediante ETL\n",
    "dataframe = pd.read_csv('../data/modeling/01_raw.csv', encoding='latin')\n",
    "dataframe.shape"
   ]
  },
  {
   "cell_type": "code",
   "execution_count": null,
   "metadata": {},
   "outputs": [],
   "source": [
    "#Transformaciones\n",
    "dataframe.rename(columns = {'NUMPERIODO':'PERIODO'}, inplace = True)\n",
    "dataframe['PORC_CASH_MESANTERIOR']=round(dataframe['PORC_CASH_MESANTERIOR'])\n",
    "dataframe['PORC_CASH_MESANTERIOR'] = dataframe['PORC_CASH_MESANTERIOR'].astype(int)\n",
    "dataframe.shape"
   ]
  },
  {
   "cell_type": "code",
   "execution_count": null,
   "metadata": {},
   "outputs": [],
   "source": [
    "# Selección del universo\n",
    "dataset=dataframe.loc[(dataframe['PERIODO']<202206) & (dataframe['MTO_INGRESO']>50000)]\n",
    "dataset.shape"
   ]
  },
  {
   "cell_type": "code",
   "execution_count": null,
   "metadata": {},
   "outputs": [],
   "source": [
    "dataset.to_csv('../data/modeling/02_preprocessed.csv', sep=\"|\", index = False)"
   ]
  },
  {
   "cell_type": "code",
   "execution_count": null,
   "metadata": {},
   "outputs": [],
   "source": []
  }
 ],
 "metadata": {
  "kernelspec": {
   "display_name": ".venv",
   "language": "python",
   "name": "python3"
  },
  "language_info": {
   "codemirror_mode": {
    "name": "ipython",
    "version": 3
   },
   "file_extension": ".py",
   "mimetype": "text/x-python",
   "name": "python",
   "nbconvert_exporter": "python",
   "pygments_lexer": "ipython3",
   "version": "3.9.12"
  },
  "orig_nbformat": 4,
  "vscode": {
   "interpreter": {
    "hash": "97baa31f7e6f0b87d7bbbe73f1ec36e6ceabbb1deab23c2939af130f62502556"
   }
  }
 },
 "nbformat": 4,
 "nbformat_minor": 2
}
