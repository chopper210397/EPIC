{
 "cells": [
  {
   "cell_type": "markdown",
   "metadata": {},
   "source": [
    "# Creación archivos de datos"
   ]
  },
  {
   "cell_type": "markdown",
   "metadata": {},
   "source": [
    "## 1. Importación de librerías"
   ]
  },
  {
   "cell_type": "code",
   "execution_count": 2,
   "metadata": {},
   "outputs": [],
   "source": [
    "import numpy as np\n",
    "import pandas as pd"
   ]
  },
  {
   "cell_type": "markdown",
   "metadata": {},
   "source": [
    "## 2. Importación de data"
   ]
  },
  {
   "cell_type": "code",
   "execution_count": 3,
   "metadata": {},
   "outputs": [
    {
     "data": {
      "text/plain": [
       "(54558, 11)"
      ]
     },
     "execution_count": 3,
     "metadata": {},
     "output_type": "execute_result"
    }
   ],
   "source": [
    "#Seleccionar ruta de la data\n",
    "dataframe = pd.read_csv(r'C:\\GIT_Cumplimiento\\epic\\EPIC003\\data\\modeling\\01_raw.csv', encoding='latin')\n",
    "#Reviso filas y columnas\n",
    "dataframe.shape"
   ]
  },
  {
   "cell_type": "markdown",
   "id": "f712e996",
   "metadata": {},
   "source": [
    "## 3. Feature engineering"
   ]
  },
  {
   "cell_type": "code",
   "execution_count": 4,
   "metadata": {},
   "outputs": [],
   "source": [
    "#Corrijo nombre de variable PERIODO\n",
    "dataframe.rename(columns = {'ï»¿PERIODO':'PERIODO'}, inplace = True)\n",
    "\n",
    "\n",
    "#Creo variable FLG_PAIS que une las categorías de riesgo 1 y missing 2 de la variable FLG_PAR\n",
    "#Inicializo la variable en cero\n",
    "dataframe['FLG_PAIS']=0\n",
    "#Creo las condicionales donde dependiendo de la  categoría de la variable inical pinto como 1\n",
    "dataframe.loc[(dataframe.FLG_PAR==0),'FLG_PAIS' ] = 0\n",
    "dataframe.loc[(dataframe.FLG_PAR==1), 'FLG_PAIS' ] = 1\n",
    "dataframe.loc[(dataframe.FLG_PAR==2) ,'FLG_PAIS' ] = 1\n"
   ]
  },
  {
   "cell_type": "code",
   "execution_count": 5,
   "metadata": {},
   "outputs": [
    {
     "data": {
      "text/plain": [
       "0    29854\n",
       "1    24704\n",
       "Name: FLG_PAIS, dtype: int64"
      ]
     },
     "execution_count": 5,
     "metadata": {},
     "output_type": "execute_result"
    }
   ],
   "source": [
    "#Verifico creación de nueva variable\n",
    "dataframe['FLG_PAIS'].value_counts()"
   ]
  },
  {
   "cell_type": "markdown",
   "metadata": {},
   "source": [
    "## 4. Exportación data pre_processed"
   ]
  },
  {
   "cell_type": "code",
   "execution_count": 6,
   "metadata": {},
   "outputs": [],
   "source": [
    "dataset_pre=dataframe.loc[(dataframe['MTO_TRANSF']>10000) & (dataframe['MTO_TRANSF']<500000)]\n",
    "dataset_pre.to_csv(r'C:\\GIT_Cumplimiento\\epic\\EPIC003\\data\\modeling\\02_pre_processed_v3.csv',index='False')"
   ]
  },
  {
   "cell_type": "markdown",
   "metadata": {},
   "source": [
    "## 5. Exportación data train y test"
   ]
  },
  {
   "cell_type": "code",
   "execution_count": 7,
   "metadata": {},
   "outputs": [
    {
     "data": {
      "text/plain": [
       "(13516, 12)"
      ]
     },
     "execution_count": 7,
     "metadata": {},
     "output_type": "execute_result"
    }
   ],
   "source": [
    "dataset_train=dataframe.loc[(dataframe['PERIODO']>=202204) & (dataframe['PERIODO']<=202209) & (dataframe['MTO_TRANSF']>10000) & (dataframe['MTO_TRANSF']<500000)]\n",
    "dataset_train.shape"
   ]
  },
  {
   "cell_type": "code",
   "execution_count": 8,
   "metadata": {},
   "outputs": [],
   "source": [
    "dataset_train.to_csv(r'C:\\GIT_Cumplimiento\\epic\\EPIC003\\data\\modeling\\03_train_v4.csv',index='False')"
   ]
  },
  {
   "cell_type": "code",
   "execution_count": 10,
   "metadata": {},
   "outputs": [
    {
     "data": {
      "text/plain": [
       "(2021, 12)"
      ]
     },
     "execution_count": 10,
     "metadata": {},
     "output_type": "execute_result"
    }
   ],
   "source": [
    "dataset_test=dataframe.loc[(dataframe['PERIODO']==202210) & (dataframe['MTO_TRANSF']>10000) & (dataframe['MTO_TRANSF']<500000)]\n",
    "dataset_test.shape"
   ]
  },
  {
   "cell_type": "code",
   "execution_count": 11,
   "metadata": {},
   "outputs": [],
   "source": [
    "dataset_test.to_csv(r'C:\\GIT_Cumplimiento\\epic\\EPIC003\\data\\modeling\\04_test_v4.csv',index='False')"
   ]
  }
 ],
 "metadata": {
  "kernelspec": {
   "display_name": ".venv",
   "language": "python",
   "name": "python3"
  },
  "language_info": {
   "codemirror_mode": {
    "name": "ipython",
    "version": 3
   },
   "file_extension": ".py",
   "mimetype": "text/x-python",
   "name": "python",
   "nbconvert_exporter": "python",
   "pygments_lexer": "ipython3",
   "version": "3.9.12 (main, Apr  4 2022, 05:22:27) [MSC v.1916 64 bit (AMD64)]"
  },
  "orig_nbformat": 4,
  "vscode": {
   "interpreter": {
    "hash": "72eec4606e6c04cc8e93e45f096162633959ea3882dd3fa8cb9941b29dcd1cf0"
   }
  }
 },
 "nbformat": 4,
 "nbformat_minor": 2
}
