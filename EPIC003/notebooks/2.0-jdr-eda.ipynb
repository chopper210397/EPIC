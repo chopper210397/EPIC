{
 "cells": [
  {
   "cell_type": "markdown",
   "metadata": {},
   "source": [
    "# EDA EPIC003"
   ]
  },
  {
   "cell_type": "markdown",
   "metadata": {},
   "source": [
    "## 1.Instalación de librerías"
   ]
  },
  {
   "cell_type": "code",
   "execution_count": 1,
   "metadata": {},
   "outputs": [],
   "source": [
    "import numpy as np\n",
    "import pandas as pd\n",
    "import seaborn as sns\n",
    "import matplotlib.pyplot as plt\n",
    "from datetime import datetime\n",
    "\n",
    "#Elimino posibles warnings\n",
    "import warnings\n",
    "warnings.filterwarnings('ignore')\n",
    "\n",
    "# Comment this if the data visualisations doesn't work on your side\n",
    "%matplotlib inline\n",
    "\n",
    "\n",
    "#Mostrar todas las columnas de un dataframe\n",
    "pd.set_option('display.max_columns', None)"
   ]
  },
  {
   "cell_type": "markdown",
   "metadata": {},
   "source": [
    "## 2. Importación data"
   ]
  },
  {
   "cell_type": "code",
   "execution_count": 2,
   "metadata": {},
   "outputs": [
    {
     "data": {
      "text/plain": [
       "(54558, 11)"
      ]
     },
     "execution_count": 2,
     "metadata": {},
     "output_type": "execute_result"
    }
   ],
   "source": [
    "#Seleccionar ruta de la data\n",
    "dataframe = pd.read_csv(r'C:\\GIT_Cumplimiento\\epic\\EPIC003\\data\\modeling\\01_raw.csv', encoding='latin')\n",
    "dataframe.shape"
   ]
  },
  {
   "cell_type": "markdown",
   "metadata": {},
   "source": [
    "## 3. Análisis exploratorio"
   ]
  },
  {
   "cell_type": "code",
   "execution_count": 4,
   "metadata": {},
   "outputs": [
    {
     "data": {
      "text/html": [
       "<div>\n",
       "<style scoped>\n",
       "    .dataframe tbody tr th:only-of-type {\n",
       "        vertical-align: middle;\n",
       "    }\n",
       "\n",
       "    .dataframe tbody tr th {\n",
       "        vertical-align: top;\n",
       "    }\n",
       "\n",
       "    .dataframe thead th {\n",
       "        text-align: right;\n",
       "    }\n",
       "</style>\n",
       "<table border=\"1\" class=\"dataframe\">\n",
       "  <thead>\n",
       "    <tr style=\"text-align: right;\">\n",
       "      <th></th>\n",
       "      <th>ï»¿PERIODO</th>\n",
       "      <th>CODCLAVECIC</th>\n",
       "      <th>NBRCLIORDENANTE</th>\n",
       "      <th>SEGMENTO</th>\n",
       "      <th>MTO_TRANSF</th>\n",
       "      <th>CTD_OPE</th>\n",
       "      <th>FLG_PEP</th>\n",
       "      <th>FLG_PROF</th>\n",
       "      <th>FLG_PAR</th>\n",
       "      <th>FLG_PERFIL</th>\n",
       "      <th>CTDEVAL</th>\n",
       "    </tr>\n",
       "  </thead>\n",
       "  <tbody>\n",
       "    <tr>\n",
       "      <th>0</th>\n",
       "      <td>202206</td>\n",
       "      <td>812</td>\n",
       "      <td>CORTES DE POLAR SANDRA MIRIAN</td>\n",
       "      <td>ENALTA</td>\n",
       "      <td>100000.00</td>\n",
       "      <td>1</td>\n",
       "      <td>0</td>\n",
       "      <td>1</td>\n",
       "      <td>2</td>\n",
       "      <td>0</td>\n",
       "      <td>0</td>\n",
       "    </tr>\n",
       "    <tr>\n",
       "      <th>1</th>\n",
       "      <td>202204</td>\n",
       "      <td>898</td>\n",
       "      <td>FORNO CASTRO-POZO XENNIA MARIA</td>\n",
       "      <td>ENALTA</td>\n",
       "      <td>5416.06</td>\n",
       "      <td>1</td>\n",
       "      <td>0</td>\n",
       "      <td>0</td>\n",
       "      <td>0</td>\n",
       "      <td>0</td>\n",
       "      <td>0</td>\n",
       "    </tr>\n",
       "    <tr>\n",
       "      <th>2</th>\n",
       "      <td>202207</td>\n",
       "      <td>961</td>\n",
       "      <td>INOPE MANTERO CARLOS ALBERTO</td>\n",
       "      <td>ENALTA</td>\n",
       "      <td>1218.52</td>\n",
       "      <td>1</td>\n",
       "      <td>0</td>\n",
       "      <td>0</td>\n",
       "      <td>0</td>\n",
       "      <td>0</td>\n",
       "      <td>1</td>\n",
       "    </tr>\n",
       "    <tr>\n",
       "      <th>3</th>\n",
       "      <td>202209</td>\n",
       "      <td>961</td>\n",
       "      <td>INOPE MANTERO CARLOS ALBERTO</td>\n",
       "      <td>ENALTA</td>\n",
       "      <td>3703.35</td>\n",
       "      <td>1</td>\n",
       "      <td>0</td>\n",
       "      <td>0</td>\n",
       "      <td>2</td>\n",
       "      <td>0</td>\n",
       "      <td>1</td>\n",
       "    </tr>\n",
       "    <tr>\n",
       "      <th>4</th>\n",
       "      <td>202210</td>\n",
       "      <td>1006</td>\n",
       "      <td>STOCKHOLM BARRIOS CHRISTIAN</td>\n",
       "      <td>ENALTA</td>\n",
       "      <td>100000.00</td>\n",
       "      <td>1</td>\n",
       "      <td>0</td>\n",
       "      <td>0</td>\n",
       "      <td>0</td>\n",
       "      <td>0</td>\n",
       "      <td>2</td>\n",
       "    </tr>\n",
       "    <tr>\n",
       "      <th>5</th>\n",
       "      <td>202204</td>\n",
       "      <td>1604</td>\n",
       "      <td>MARIN ALCALDE WILDER JUAN</td>\n",
       "      <td>EXCLUSIVO</td>\n",
       "      <td>523.00</td>\n",
       "      <td>1</td>\n",
       "      <td>0</td>\n",
       "      <td>0</td>\n",
       "      <td>2</td>\n",
       "      <td>0</td>\n",
       "      <td>0</td>\n",
       "    </tr>\n",
       "    <tr>\n",
       "      <th>6</th>\n",
       "      <td>202209</td>\n",
       "      <td>1604</td>\n",
       "      <td>MARIN ALCALDE WILDER JUAN</td>\n",
       "      <td>EXCLUSIVO</td>\n",
       "      <td>2906.34</td>\n",
       "      <td>1</td>\n",
       "      <td>0</td>\n",
       "      <td>0</td>\n",
       "      <td>2</td>\n",
       "      <td>0</td>\n",
       "      <td>0</td>\n",
       "    </tr>\n",
       "    <tr>\n",
       "      <th>7</th>\n",
       "      <td>202208</td>\n",
       "      <td>1693</td>\n",
       "      <td>OREJUELA SEMINARIO MARISABEL</td>\n",
       "      <td>CONSUMO</td>\n",
       "      <td>400.00</td>\n",
       "      <td>1</td>\n",
       "      <td>0</td>\n",
       "      <td>0</td>\n",
       "      <td>0</td>\n",
       "      <td>0</td>\n",
       "      <td>0</td>\n",
       "    </tr>\n",
       "    <tr>\n",
       "      <th>8</th>\n",
       "      <td>202209</td>\n",
       "      <td>1750</td>\n",
       "      <td>CONROY DE MARSANO MARIA TERESA</td>\n",
       "      <td>PRIVADA</td>\n",
       "      <td>17357.00</td>\n",
       "      <td>1</td>\n",
       "      <td>0</td>\n",
       "      <td>0</td>\n",
       "      <td>0</td>\n",
       "      <td>0</td>\n",
       "      <td>15</td>\n",
       "    </tr>\n",
       "    <tr>\n",
       "      <th>9</th>\n",
       "      <td>202204</td>\n",
       "      <td>1973</td>\n",
       "      <td>APARCANA HERRERA MARIELA VILMA</td>\n",
       "      <td>CONSUMO</td>\n",
       "      <td>13931.65</td>\n",
       "      <td>1</td>\n",
       "      <td>0</td>\n",
       "      <td>1</td>\n",
       "      <td>0</td>\n",
       "      <td>0</td>\n",
       "      <td>0</td>\n",
       "    </tr>\n",
       "  </tbody>\n",
       "</table>\n",
       "</div>"
      ],
      "text/plain": [
       "   ï»¿PERIODO  CODCLAVECIC                 NBRCLIORDENANTE   SEGMENTO  \\\n",
       "0      202206          812   CORTES DE POLAR SANDRA MIRIAN     ENALTA   \n",
       "1      202204          898  FORNO CASTRO-POZO XENNIA MARIA     ENALTA   \n",
       "2      202207          961    INOPE MANTERO CARLOS ALBERTO     ENALTA   \n",
       "3      202209          961    INOPE MANTERO CARLOS ALBERTO     ENALTA   \n",
       "4      202210         1006     STOCKHOLM BARRIOS CHRISTIAN     ENALTA   \n",
       "5      202204         1604       MARIN ALCALDE WILDER JUAN  EXCLUSIVO   \n",
       "6      202209         1604       MARIN ALCALDE WILDER JUAN  EXCLUSIVO   \n",
       "7      202208         1693    OREJUELA SEMINARIO MARISABEL    CONSUMO   \n",
       "8      202209         1750  CONROY DE MARSANO MARIA TERESA    PRIVADA   \n",
       "9      202204         1973  APARCANA HERRERA MARIELA VILMA    CONSUMO   \n",
       "\n",
       "   MTO_TRANSF  CTD_OPE  FLG_PEP  FLG_PROF  FLG_PAR  FLG_PERFIL  CTDEVAL  \n",
       "0   100000.00        1        0         1        2           0        0  \n",
       "1     5416.06        1        0         0        0           0        0  \n",
       "2     1218.52        1        0         0        0           0        1  \n",
       "3     3703.35        1        0         0        2           0        1  \n",
       "4   100000.00        1        0         0        0           0        2  \n",
       "5      523.00        1        0         0        2           0        0  \n",
       "6     2906.34        1        0         0        2           0        0  \n",
       "7      400.00        1        0         0        0           0        0  \n",
       "8    17357.00        1        0         0        0           0       15  \n",
       "9    13931.65        1        0         1        0           0        0  "
      ]
     },
     "execution_count": 4,
     "metadata": {},
     "output_type": "execute_result"
    }
   ],
   "source": [
    "#Vistazo general\n",
    "dataframe.head(10)"
   ]
  },
  {
   "cell_type": "code",
   "execution_count": 5,
   "metadata": {},
   "outputs": [
    {
     "data": {
      "text/html": [
       "<div>\n",
       "<style scoped>\n",
       "    .dataframe tbody tr th:only-of-type {\n",
       "        vertical-align: middle;\n",
       "    }\n",
       "\n",
       "    .dataframe tbody tr th {\n",
       "        vertical-align: top;\n",
       "    }\n",
       "\n",
       "    .dataframe thead th {\n",
       "        text-align: right;\n",
       "    }\n",
       "</style>\n",
       "<table border=\"1\" class=\"dataframe\">\n",
       "  <thead>\n",
       "    <tr style=\"text-align: right;\">\n",
       "      <th></th>\n",
       "      <th>ï»¿PERIODO</th>\n",
       "      <th>CODCLAVECIC</th>\n",
       "      <th>MTO_TRANSF</th>\n",
       "      <th>CTD_OPE</th>\n",
       "      <th>FLG_PEP</th>\n",
       "      <th>FLG_PROF</th>\n",
       "      <th>FLG_PAR</th>\n",
       "      <th>FLG_PERFIL</th>\n",
       "      <th>CTDEVAL</th>\n",
       "    </tr>\n",
       "  </thead>\n",
       "  <tbody>\n",
       "    <tr>\n",
       "      <th>count</th>\n",
       "      <td>54558.000000</td>\n",
       "      <td>5.455800e+04</td>\n",
       "      <td>5.455800e+04</td>\n",
       "      <td>54558.000000</td>\n",
       "      <td>54558.000000</td>\n",
       "      <td>54558.000000</td>\n",
       "      <td>54558.000000</td>\n",
       "      <td>54558.000000</td>\n",
       "      <td>54558.000000</td>\n",
       "    </tr>\n",
       "    <tr>\n",
       "      <th>mean</th>\n",
       "      <td>202207.066406</td>\n",
       "      <td>7.887036e+06</td>\n",
       "      <td>2.304869e+04</td>\n",
       "      <td>1.320540</td>\n",
       "      <td>0.016295</td>\n",
       "      <td>0.340537</td>\n",
       "      <td>0.876755</td>\n",
       "      <td>0.042524</td>\n",
       "      <td>0.509623</td>\n",
       "    </tr>\n",
       "    <tr>\n",
       "      <th>std</th>\n",
       "      <td>1.984093</td>\n",
       "      <td>8.002663e+06</td>\n",
       "      <td>2.089800e+05</td>\n",
       "      <td>0.874583</td>\n",
       "      <td>0.126607</td>\n",
       "      <td>0.473894</td>\n",
       "      <td>0.977741</td>\n",
       "      <td>0.201782</td>\n",
       "      <td>2.819861</td>\n",
       "    </tr>\n",
       "    <tr>\n",
       "      <th>min</th>\n",
       "      <td>202204.000000</td>\n",
       "      <td>8.120000e+02</td>\n",
       "      <td>1.000000e+00</td>\n",
       "      <td>1.000000</td>\n",
       "      <td>0.000000</td>\n",
       "      <td>0.000000</td>\n",
       "      <td>0.000000</td>\n",
       "      <td>0.000000</td>\n",
       "      <td>0.000000</td>\n",
       "    </tr>\n",
       "    <tr>\n",
       "      <th>25%</th>\n",
       "      <td>202205.000000</td>\n",
       "      <td>1.633341e+06</td>\n",
       "      <td>1.495000e+03</td>\n",
       "      <td>1.000000</td>\n",
       "      <td>0.000000</td>\n",
       "      <td>0.000000</td>\n",
       "      <td>0.000000</td>\n",
       "      <td>0.000000</td>\n",
       "      <td>0.000000</td>\n",
       "    </tr>\n",
       "    <tr>\n",
       "      <th>50%</th>\n",
       "      <td>202207.000000</td>\n",
       "      <td>4.884700e+06</td>\n",
       "      <td>4.700000e+03</td>\n",
       "      <td>1.000000</td>\n",
       "      <td>0.000000</td>\n",
       "      <td>0.000000</td>\n",
       "      <td>0.000000</td>\n",
       "      <td>0.000000</td>\n",
       "      <td>0.000000</td>\n",
       "    </tr>\n",
       "    <tr>\n",
       "      <th>75%</th>\n",
       "      <td>202209.000000</td>\n",
       "      <td>1.208545e+07</td>\n",
       "      <td>1.300000e+04</td>\n",
       "      <td>1.000000</td>\n",
       "      <td>0.000000</td>\n",
       "      <td>1.000000</td>\n",
       "      <td>2.000000</td>\n",
       "      <td>0.000000</td>\n",
       "      <td>0.000000</td>\n",
       "    </tr>\n",
       "    <tr>\n",
       "      <th>max</th>\n",
       "      <td>202210.000000</td>\n",
       "      <td>2.806231e+07</td>\n",
       "      <td>2.500892e+07</td>\n",
       "      <td>36.000000</td>\n",
       "      <td>1.000000</td>\n",
       "      <td>1.000000</td>\n",
       "      <td>2.000000</td>\n",
       "      <td>1.000000</td>\n",
       "      <td>166.000000</td>\n",
       "    </tr>\n",
       "  </tbody>\n",
       "</table>\n",
       "</div>"
      ],
      "text/plain": [
       "          ï»¿PERIODO   CODCLAVECIC    MTO_TRANSF       CTD_OPE       FLG_PEP  \\\n",
       "count   54558.000000  5.455800e+04  5.455800e+04  54558.000000  54558.000000   \n",
       "mean   202207.066406  7.887036e+06  2.304869e+04      1.320540      0.016295   \n",
       "std         1.984093  8.002663e+06  2.089800e+05      0.874583      0.126607   \n",
       "min    202204.000000  8.120000e+02  1.000000e+00      1.000000      0.000000   \n",
       "25%    202205.000000  1.633341e+06  1.495000e+03      1.000000      0.000000   \n",
       "50%    202207.000000  4.884700e+06  4.700000e+03      1.000000      0.000000   \n",
       "75%    202209.000000  1.208545e+07  1.300000e+04      1.000000      0.000000   \n",
       "max    202210.000000  2.806231e+07  2.500892e+07     36.000000      1.000000   \n",
       "\n",
       "           FLG_PROF       FLG_PAR    FLG_PERFIL       CTDEVAL  \n",
       "count  54558.000000  54558.000000  54558.000000  54558.000000  \n",
       "mean       0.340537      0.876755      0.042524      0.509623  \n",
       "std        0.473894      0.977741      0.201782      2.819861  \n",
       "min        0.000000      0.000000      0.000000      0.000000  \n",
       "25%        0.000000      0.000000      0.000000      0.000000  \n",
       "50%        0.000000      0.000000      0.000000      0.000000  \n",
       "75%        1.000000      2.000000      0.000000      0.000000  \n",
       "max        1.000000      2.000000      1.000000    166.000000  "
      ]
     },
     "execution_count": 5,
     "metadata": {},
     "output_type": "execute_result"
    }
   ],
   "source": [
    "#Descriptivos básicos\n",
    "dataframe.describe()"
   ]
  },
  {
   "cell_type": "code",
   "execution_count": 3,
   "metadata": {},
   "outputs": [],
   "source": [
    "#Corrijo nombre variable periodo\n",
    "dataframe.rename(columns = {'ï»¿PERIODO':'PERIODO'}, inplace = True)"
   ]
  },
  {
   "cell_type": "code",
   "execution_count": 7,
   "metadata": {},
   "outputs": [
    {
     "data": {
      "text/plain": [
       "202204    7165\n",
       "202205    7924\n",
       "202206    7539\n",
       "202207    7127\n",
       "202208    8792\n",
       "202209    8320\n",
       "202210    7691\n",
       "Name: PERIODO, dtype: int64"
      ]
     },
     "execution_count": 7,
     "metadata": {},
     "output_type": "execute_result"
    }
   ],
   "source": [
    "#Validación casos por periodo\n",
    "dataframe['PERIODO'].value_counts().sort_index()"
   ]
  },
  {
   "cell_type": "markdown",
   "metadata": {},
   "source": [
    "## 4. Análisis estadístico"
   ]
  },
  {
   "cell_type": "code",
   "execution_count": 8,
   "metadata": {},
   "outputs": [
    {
     "data": {
      "text/plain": [
       "PERIODO            0\n",
       "CODCLAVECIC        0\n",
       "NBRCLIORDENANTE    0\n",
       "SEGMENTO           0\n",
       "MTO_TRANSF         0\n",
       "CTD_OPE            0\n",
       "FLG_PEP            0\n",
       "FLG_PROF           0\n",
       "FLG_PAR            0\n",
       "FLG_PERFIL         0\n",
       "CTDEVAL            0\n",
       "dtype: int64"
      ]
     },
     "execution_count": 8,
     "metadata": {},
     "output_type": "execute_result"
    }
   ],
   "source": [
    "#Valido número de nulos en la data\n",
    "dataframe.isnull().sum()"
   ]
  },
  {
   "cell_type": "code",
   "execution_count": 7,
   "metadata": {},
   "outputs": [
    {
     "data": {
      "text/plain": [
       "count       54558.00\n",
       "mean        23048.69\n",
       "std        208979.99\n",
       "min             1.00\n",
       "5%            247.13\n",
       "10%           500.00\n",
       "25%          1495.00\n",
       "50%          4700.00\n",
       "75%         13000.00\n",
       "90%         37500.00\n",
       "95%         75000.00\n",
       "99%        280494.50\n",
       "max      25008920.00\n",
       "Name: MTO_TRANSF, dtype: float64"
      ]
     },
     "execution_count": 7,
     "metadata": {},
     "output_type": "execute_result"
    }
   ],
   "source": [
    "dataframe['MTO_TRANSF'].describe([.05,.1,.25,.5,.75,.9,.95,.99]).round(2).transpose().to_clipboard()\n",
    "dataframe['MTO_TRANSF'].describe([.05,.1,.25,.5,.75,.9,.95,.99]).round(2).transpose()"
   ]
  },
  {
   "cell_type": "code",
   "execution_count": 9,
   "metadata": {},
   "outputs": [
    {
     "data": {
      "text/plain": [
       "Index(['PERIODO', 'CODCLAVECIC', 'NBRCLIORDENANTE', 'SEGMENTO', 'MTO_TRANSF',\n",
       "       'CTD_OPE', 'FLG_PEP', 'FLG_PROF', 'FLG_PAR', 'FLG_PERFIL', 'CTDEVAL'],\n",
       "      dtype='object')"
      ]
     },
     "execution_count": 9,
     "metadata": {},
     "output_type": "execute_result"
    }
   ],
   "source": [
    "dataframe.columns"
   ]
  },
  {
   "cell_type": "code",
   "execution_count": 10,
   "metadata": {},
   "outputs": [],
   "source": [
    "#Selecciono solo las variables para análisis, no ids, ni string.\n",
    "dataset=dataframe[['MTO_TRANSF','CTD_OPE', 'FLG_PEP', 'FLG_PROF', 'FLG_PAR', 'FLG_PERFIL', 'CTDEVAL']]\n",
    "#Elimino el index para que no aparezca en el pandas profiling como una variable analizada\n",
    "dataset.reset_index(drop=True, inplace=True)"
   ]
  },
  {
   "cell_type": "code",
   "execution_count": 11,
   "metadata": {},
   "outputs": [
    {
     "data": {
      "text/plain": [
       "MTO_TRANSF    float64\n",
       "CTD_OPE         int64\n",
       "FLG_PEP         int64\n",
       "FLG_PROF        int64\n",
       "FLG_PAR         int64\n",
       "FLG_PERFIL      int64\n",
       "CTDEVAL         int64\n",
       "dtype: object"
      ]
     },
     "execution_count": 11,
     "metadata": {},
     "output_type": "execute_result"
    }
   ],
   "source": [
    "#valido los tipos de vars.\n",
    "dataset.dtypes"
   ]
  },
  {
   "cell_type": "code",
   "execution_count": 13,
   "metadata": {},
   "outputs": [
    {
     "data": {
      "application/vnd.jupyter.widget-view+json": {
       "model_id": "60375bc644e444d18f4d66cded3748b2",
       "version_major": 2,
       "version_minor": 0
      },
      "text/plain": [
       "Summarize dataset:   0%|          | 0/5 [00:00<?, ?it/s]"
      ]
     },
     "metadata": {},
     "output_type": "display_data"
    },
    {
     "data": {
      "application/vnd.jupyter.widget-view+json": {
       "model_id": "87c5802a77f44e1099cd2b506e7a6523",
       "version_major": 2,
       "version_minor": 0
      },
      "text/plain": [
       "Generate report structure:   0%|          | 0/1 [00:00<?, ?it/s]"
      ]
     },
     "metadata": {},
     "output_type": "display_data"
    },
    {
     "data": {
      "application/vnd.jupyter.widget-view+json": {
       "model_id": "8847e88c475d43b7929171105d2c2ffb",
       "version_major": 2,
       "version_minor": 0
      },
      "text/plain": [
       "Render HTML:   0%|          | 0/1 [00:00<?, ?it/s]"
      ]
     },
     "metadata": {},
     "output_type": "display_data"
    },
    {
     "data": {
      "application/vnd.jupyter.widget-view+json": {
       "model_id": "ebcac2622c924e92bb7890fb1843149a",
       "version_major": 2,
       "version_minor": 0
      },
      "text/plain": [
       "Export report to file:   0%|          | 0/1 [00:00<?, ?it/s]"
      ]
     },
     "metadata": {},
     "output_type": "display_data"
    }
   ],
   "source": [
    "#Código de ejecución del pandas_profiling\n",
    "import pandas_profiling as peda\n",
    "report = peda.ProfileReport(dataset)\n",
    "#Guardo el reporte\n",
    "report.to_file(r\"C:\\GIT_Cumplimiento\\epic\\EPIC003\\reports\\others\\EDA_EPIC003.html\")"
   ]
  },
  {
   "cell_type": "code",
   "execution_count": 15,
   "metadata": {},
   "outputs": [],
   "source": [
    "#Selecciono solo las variables numéricas\n",
    "\n",
    "ds_num=dataset[[ 'MTO_TRANSF','CTD_OPE', 'CTDEVAL']]"
   ]
  },
  {
   "cell_type": "code",
   "execution_count": 16,
   "metadata": {},
   "outputs": [
    {
     "data": {
      "text/plain": [
       "MTO_TRANSF     154\n",
       "CTD_OPE       1364\n",
       "CTDEVAL        863\n",
       "dtype: int64"
      ]
     },
     "execution_count": 16,
     "metadata": {},
     "output_type": "execute_result"
    }
   ],
   "source": [
    "#Obtengo los outliers basado en un límite de 3desviaciones estándar sobre la media\n",
    "mean = ds_num.mean()\n",
    "std = ds_num.std()\n",
    "(ds_num > (mean+3*std)).sum()\n",
    "\n"
   ]
  }
 ],
 "metadata": {
  "kernelspec": {
   "display_name": ".venv",
   "language": "python",
   "name": "python3"
  },
  "language_info": {
   "codemirror_mode": {
    "name": "ipython",
    "version": 3
   },
   "file_extension": ".py",
   "mimetype": "text/x-python",
   "name": "python",
   "nbconvert_exporter": "python",
   "pygments_lexer": "ipython3",
   "version": "3.9.12"
  },
  "orig_nbformat": 4,
  "vscode": {
   "interpreter": {
    "hash": "72eec4606e6c04cc8e93e45f096162633959ea3882dd3fa8cb9941b29dcd1cf0"
   }
  }
 },
 "nbformat": 4,
 "nbformat_minor": 2
}
