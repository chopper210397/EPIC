{
 "cells": [
  {
   "cell_type": "markdown",
   "metadata": {},
   "source": [
    "# Estabilidad de variables"
   ]
  },
  {
   "cell_type": "markdown",
   "metadata": {},
   "source": [
    "## 1. Instalación de librerías"
   ]
  },
  {
   "cell_type": "code",
   "execution_count": 2,
   "metadata": {},
   "outputs": [],
   "source": [
    "import numpy as np\n",
    "import pandas as pd\n",
    "import seaborn as sns\n",
    "import matplotlib.pyplot as plt\n",
    "from datetime import datetime\n",
    "\n",
    "#Elimino posibles warnings\n",
    "import warnings\n",
    "warnings.filterwarnings('ignore')\n",
    "\n",
    "# Comment this if the data visualisations doesn't work on your side\n",
    "%matplotlib inline\n",
    "\n",
    "\n",
    "#Mostrar todas las columnas de un dataframe\n",
    "pd.set_option('display.max_columns', None)"
   ]
  },
  {
   "cell_type": "markdown",
   "metadata": {},
   "source": [
    "## 2. Importación data"
   ]
  },
  {
   "cell_type": "code",
   "execution_count": 3,
   "metadata": {},
   "outputs": [
    {
     "data": {
      "text/plain": [
       "(54558, 11)"
      ]
     },
     "execution_count": 3,
     "metadata": {},
     "output_type": "execute_result"
    }
   ],
   "source": [
    "#Seleccionar ruta de la data\n",
    "dataframe = pd.read_csv(r'C:\\GIT_Cumplimiento\\epic\\EPIC003\\data\\modeling\\01_raw.csv', encoding='latin')\n",
    "#Reviso filas y columnas\n",
    "dataframe.shape"
   ]
  },
  {
   "cell_type": "markdown",
   "id": "f712e996",
   "metadata": {},
   "source": [
    "## 3. Feature engineering"
   ]
  },
  {
   "cell_type": "code",
   "execution_count": 4,
   "metadata": {},
   "outputs": [],
   "source": [
    "#Corrijo nombre de variable PERIODO\n",
    "dataframe.rename(columns = {'ï»¿PERIODO':'PERIODO'}, inplace = True)"
   ]
  },
  {
   "cell_type": "markdown",
   "metadata": {},
   "source": [
    "## 4. Estabilidad de Variables"
   ]
  },
  {
   "cell_type": "code",
   "execution_count": 5,
   "metadata": {},
   "outputs": [
    {
     "data": {
      "text/plain": [
       "Index(['PERIODO', 'CODCLAVECIC', 'NBRCLIORDENANTE', 'SEGMENTO', 'MTO_TRANSF',\n",
       "       'CTD_OPE', 'FLG_PEP', 'FLG_PROF', 'FLG_PAR', 'FLG_PERFIL', 'CTDEVAL'],\n",
       "      dtype='object')"
      ]
     },
     "execution_count": 5,
     "metadata": {},
     "output_type": "execute_result"
    }
   ],
   "source": [
    "#Reviso variables a utilizar\n",
    "dataframe.columns"
   ]
  },
  {
   "cell_type": "markdown",
   "metadata": {},
   "source": [
    "### 4.1 Variables Categóricas"
   ]
  },
  {
   "cell_type": "code",
   "execution_count": 6,
   "metadata": {},
   "outputs": [],
   "source": [
    "#Selecciono variables categóricas\n",
    "col_cat=['FLG_PEP', 'FLG_PROF', 'FLG_PAR', 'FLG_PERFIL' ]"
   ]
  },
  {
   "cell_type": "code",
   "execution_count": 7,
   "metadata": {},
   "outputs": [
    {
     "name": "stdout",
     "output_type": "stream",
     "text": [
      "PERIODO    202204    202205    202206    202207    202208    202209    202210\n",
      "FLG_PEP                                                                      \n",
      "0        0.983112  0.984225  0.983154  0.982742  0.984759  0.983894  0.983747\n",
      "1        0.016888  0.015775  0.016846  0.017258  0.015241  0.016106  0.016253\n",
      "PERIODO     202204    202205    202206    202207    202208    202209    202210\n",
      "FLG_PROF                                                                      \n",
      "0         0.672994  0.660904  0.666003  0.667462  0.651729  0.656851  0.643219\n",
      "1         0.327006  0.339096  0.333997  0.332538  0.348271  0.343149  0.356781\n",
      "PERIODO    202204    202205    202206    202207    202208    202209    202210\n",
      "FLG_PAR                                                                      \n",
      "0        0.559805  0.533695  0.548481  0.547776  0.549477  0.542668  0.549863\n",
      "1        0.028751  0.027511  0.030641  0.028904  0.030710  0.027764  0.027565\n",
      "2        0.411445  0.438794  0.420878  0.423320  0.419813  0.429567  0.422572\n",
      "PERIODO       202204   202205    202206    202207    202208    202209  \\\n",
      "FLG_PERFIL                                                              \n",
      "0           0.955199  0.95318  0.955697  0.956363  0.955528  0.959495   \n",
      "1           0.044801  0.04682  0.044303  0.043637  0.044472  0.040505   \n",
      "\n",
      "PERIODO       202210  \n",
      "FLG_PERFIL            \n",
      "0           0.966844  \n",
      "1           0.033156  \n"
     ]
    }
   ],
   "source": [
    "#Pinto una tabla cruzada, distribución de periodo versus categorías\n",
    "for i in col_cat:\n",
    "    print(pd.crosstab(dataframe[i],dataframe['PERIODO'],normalize='columns'))"
   ]
  },
  {
   "cell_type": "markdown",
   "metadata": {},
   "source": [
    "#### No existen diferencias en la distribución de las variables categóricas a los largo de los periodos"
   ]
  },
  {
   "cell_type": "markdown",
   "metadata": {},
   "source": [
    "### 4.2 Variables Numéricas"
   ]
  },
  {
   "cell_type": "code",
   "execution_count": 9,
   "metadata": {},
   "outputs": [],
   "source": [
    "#Selecciono variables cuantitativas\n",
    "col_num=['MTO_TRANSF','CTD_OPE', 'CTDEVAL']"
   ]
  },
  {
   "cell_type": "code",
   "execution_count": 10,
   "metadata": {},
   "outputs": [
    {
     "name": "stdout",
     "output_type": "stream",
     "text": [
      "PERIODO                 202204    202205    202206    202207    202208  \\\n",
      "MTO_TRANSF                                                               \n",
      "(0.999, 2100.067]     0.323238  0.320924  0.334660  0.355269  0.329049   \n",
      "(2100.067, 9500.0]    0.329798  0.333670  0.335588  0.324260  0.341788   \n",
      "(9500.0, 25008920.0]  0.346964  0.345406  0.329752  0.320471  0.329163   \n",
      "\n",
      "PERIODO                 202209    202210  \n",
      "MTO_TRANSF                                \n",
      "(0.999, 2100.067]     0.332332  0.339878  \n",
      "(2100.067, 9500.0]    0.346875  0.350410  \n",
      "(9500.0, 25008920.0]  0.320793  0.309713  \n",
      "PERIODO        202204  202205  202206  202207  202208  202209  202210\n",
      "CTD_OPE                                                              \n",
      "(0.999, 36.0]     1.0     1.0     1.0     1.0     1.0     1.0     1.0\n",
      "PERIODO          202204  202205  202206  202207  202208  202209  202210\n",
      "CTDEVAL                                                                \n",
      "(-0.001, 166.0]     1.0     1.0     1.0     1.0     1.0     1.0     1.0\n"
     ]
    }
   ],
   "source": [
    "#Pinto una tabla cruzada, distribución de periodo versus cuartiles\n",
    "for i in col_num:\n",
    "    print(pd.crosstab(pd.qcut(dataframe[i],3,duplicates='drop'),dataframe['PERIODO'],normalize='columns'))"
   ]
  },
  {
   "cell_type": "markdown",
   "metadata": {},
   "source": [
    "#### No existen diferencias en la distribución de la variable monto a los largo de los periodos"
   ]
  },
  {
   "cell_type": "code",
   "execution_count": 12,
   "metadata": {},
   "outputs": [
    {
     "name": "stdout",
     "output_type": "stream",
     "text": [
      "PERIODO             202204    202205    202206    202207    202208    202209  \\\n",
      "CTD_OPE                                                                        \n",
      "(0.965, 12.667]   0.999721  0.999495  0.999602  0.999579  0.999545  0.999399   \n",
      "(12.667, 24.333]  0.000279  0.000505  0.000398  0.000281  0.000341  0.000601   \n",
      "(24.333, 36.0]    0.000000  0.000000  0.000000  0.000140  0.000114  0.000000   \n",
      "\n",
      "PERIODO            202210  \n",
      "CTD_OPE                    \n",
      "(0.965, 12.667]   0.99974  \n",
      "(12.667, 24.333]  0.00026  \n",
      "(24.333, 36.0]    0.00000  \n",
      "PERIODO             202204    202205    202206   202207    202208   202209  \\\n",
      "CTDEVAL                                                                      \n",
      "(-0.166, 55.333]   0.99986  0.999874  0.999867  0.99986  0.999773  0.99976   \n",
      "(55.333, 110.667]  0.00000  0.000000  0.000133  0.00000  0.000114  0.00012   \n",
      "(110.667, 166.0]   0.00014  0.000126  0.000000  0.00014  0.000114  0.00012   \n",
      "\n",
      "PERIODO             202210  \n",
      "CTDEVAL                     \n",
      "(-0.166, 55.333]   0.99987  \n",
      "(55.333, 110.667]  0.00013  \n",
      "(110.667, 166.0]   0.00000  \n"
     ]
    }
   ],
   "source": [
    "#Recalculadas como categóricas porque son numéricas con una baja variabilidad o un número que se repite mucho. Las categorías se hacen forzando  la división de su rango en 3\n",
    "col_cat2=['CTD_OPE', 'CTDEVAL']\n",
    "for i in col_cat2:\n",
    "        print(pd.crosstab(pd.cut(dataframe[i],3,duplicates='drop'),dataframe['PERIODO'],normalize='columns'))"
   ]
  },
  {
   "cell_type": "markdown",
   "metadata": {},
   "source": [
    "#### No existen diferencias en la distribución de estas 2 variables a los largo de los periodos"
   ]
  }
 ],
 "metadata": {
  "kernelspec": {
   "display_name": ".venv",
   "language": "python",
   "name": "python3"
  },
  "language_info": {
   "codemirror_mode": {
    "name": "ipython",
    "version": 3
   },
   "file_extension": ".py",
   "mimetype": "text/x-python",
   "name": "python",
   "nbconvert_exporter": "python",
   "pygments_lexer": "ipython3",
   "version": "3.9.12"
  },
  "orig_nbformat": 4,
  "vscode": {
   "interpreter": {
    "hash": "72eec4606e6c04cc8e93e45f096162633959ea3882dd3fa8cb9941b29dcd1cf0"
   }
  }
 },
 "nbformat": 4,
 "nbformat_minor": 2
}
