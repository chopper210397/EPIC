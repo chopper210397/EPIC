{
 "cells": [
  {
   "cell_type": "markdown",
   "metadata": {},
   "source": [
    "# Kmeans Siluetas"
   ]
  },
  {
   "cell_type": "markdown",
   "id": "2ad129f5",
   "metadata": {},
   "source": [
    "## 1. Importar librerías"
   ]
  },
  {
   "cell_type": "code",
   "execution_count": 1,
   "metadata": {},
   "outputs": [],
   "source": [
    "import numpy as np\n",
    "import pandas as pd\n",
    "import matplotlib.pyplot as plt\n",
    "from sklearn.preprocessing import MinMaxScaler\n",
    "import seaborn as sns\n",
    "from sklearn.cluster import KMeans\n",
    "from random import sample\n",
    "from sklearn.ensemble import IsolationForest\n",
    "from sklearn import metrics\n",
    "from sklearn.preprocessing import StandardScaler\n",
    "import shap\n",
    "\n",
    "#Mostrar todas las columnas de un dataframe\n",
    "pd.set_option('display.max_columns', None)\n",
    "\n",
    "import warnings\n",
    "warnings.filterwarnings('ignore')\n",
    "\n",
    "%matplotlib inline"
   ]
  },
  {
   "cell_type": "markdown",
   "id": "6ce7a193",
   "metadata": {},
   "source": [
    "## 2. Importación de data"
   ]
  },
  {
   "cell_type": "code",
   "execution_count": 2,
   "metadata": {},
   "outputs": [
    {
     "data": {
      "text/plain": [
       "(37639, 13)"
      ]
     },
     "execution_count": 2,
     "metadata": {},
     "output_type": "execute_result"
    }
   ],
   "source": [
    "#Seleccionar ruta de la data\n",
    "dataframe = pd.read_csv(r'C:\\GIT_Cumplimiento\\epic\\EPIC003\\data\\modeling\\03_train.csv', encoding='latin')\n",
    "dataframe.shape"
   ]
  },
  {
   "cell_type": "markdown",
   "id": "d43d4056",
   "metadata": {},
   "source": [
    "## 3. Análisis"
   ]
  },
  {
   "cell_type": "code",
   "execution_count": 8,
   "metadata": {},
   "outputs": [
    {
     "data": {
      "text/plain": [
       "Index(['Unnamed: 0', 'PERIODO', 'CODCLAVECIC', 'NBRCLIORDENANTE', 'SEGMENTO',\n",
       "       'MTO_TRANSF', 'CTD_OPE', 'FLG_PEP', 'FLG_PROF', 'FLG_PAR', 'FLG_PERFIL',\n",
       "       'CTDEVAL', 'FLG_PAIS'],\n",
       "      dtype='object')"
      ]
     },
     "execution_count": 8,
     "metadata": {},
     "output_type": "execute_result"
    }
   ],
   "source": [
    "#REviso columnas\n",
    "dataframe.columns"
   ]
  },
  {
   "cell_type": "markdown",
   "id": "e1efe813",
   "metadata": {},
   "source": [
    "### Model Test1: Variables modelo estándar (Todas las variables)"
   ]
  },
  {
   "cell_type": "code",
   "execution_count": 9,
   "id": "b531e3de",
   "metadata": {},
   "outputs": [
    {
     "name": "stdout",
     "output_type": "stream",
     "text": [
      " k= 5  SC= 0.9123123252873563\n",
      " k= 10  SC= 0.9716769481655693\n",
      " k= 11  SC= 0.9740027937634383\n",
      " k= 12  SC= 0.9753117272112013\n",
      " k= 13  SC= 0.9763299901994965\n",
      " k= 14  SC= 0.9767078122318232\n",
      " k= 15  SC= 0.9171947433816517\n",
      " k= 20  SC= 0.8757998908188942\n"
     ]
    }
   ],
   "source": [
    "#Selecciono variables\n",
    "ds=dataframe[['MTO_TRANSF', 'CTD_OPE', 'FLG_PEP', 'FLG_PROF', 'FLG_PERFIL','CTDEVAL', 'FLG_PAIS']]\n",
    "#Estandarizo variables\n",
    "data1_cluster = MinMaxScaler().fit_transform(ds)\n",
    "#Selecciono números de clusters a probar\n",
    "k = [5,10,11,12,13,14,15,20]\n",
    "#Calculo siluetas\n",
    "for ki in k:\n",
    "        outputKMeans = KMeans(n_clusters = ki, init='k-means++', random_state = 7).fit(data1_cluster)\n",
    "        scoreSilhoutte = metrics.silhouette_score(data1_cluster, outputKMeans.labels_, metric='euclidean')\n",
    "        print(\" k=\", ki,\" SC=\", scoreSilhoutte)"
   ]
  },
  {
   "cell_type": "markdown",
   "id": "e1efe813",
   "metadata": {},
   "source": [
    "### Model Test2: Variables modelo estándar sin variable CTDEVAL"
   ]
  },
  {
   "cell_type": "code",
   "execution_count": 10,
   "metadata": {},
   "outputs": [
    {
     "name": "stdout",
     "output_type": "stream",
     "text": [
      " k= 5  SC= 0.916215259137854\n",
      " k= 10  SC= 0.9760820833313893\n",
      " k= 11  SC= 0.9784607151860174\n",
      " k= 12  SC= 0.9798260183708536\n",
      " k= 13  SC= 0.9808628154137495\n",
      " k= 14  SC= 0.9812538774004375\n",
      " k= 15  SC= 0.9286525128654326\n",
      " k= 20  SC= 0.8867403730951317\n"
     ]
    }
   ],
   "source": [
    "#Selecciono variables\n",
    "ds=dataframe[['MTO_TRANSF', 'CTD_OPE', 'FLG_PEP', 'FLG_PROF', 'FLG_PERFIL','FLG_PAIS']]\n",
    "#Estandarizo variables\n",
    "data1_cluster = MinMaxScaler().fit_transform(ds)\n",
    "#Selecciono números de clusters a probar\n",
    "k = [5,10,11,12,13,14,15,20]\n",
    "#Calculo siluetas\n",
    "for ki in k:\n",
    "        outputKMeans = KMeans(n_clusters = ki, init='k-means++', random_state = 7).fit(data1_cluster)\n",
    "        scoreSilhoutte = metrics.silhouette_score(data1_cluster, outputKMeans.labels_, metric='euclidean')\n",
    "        print(\" k=\", ki,\" SC=\", scoreSilhoutte)"
   ]
  },
  {
   "cell_type": "markdown",
   "id": "e1efe813",
   "metadata": {},
   "source": [
    "### Model Test3: Variables modelo estándar sin variable FLG_PEP"
   ]
  },
  {
   "cell_type": "code",
   "execution_count": 11,
   "metadata": {},
   "outputs": [
    {
     "name": "stdout",
     "output_type": "stream",
     "text": [
      " k= 5  SC= 0.9349308520853286\n",
      " k= 10  SC= 0.901423441424071\n",
      " k= 11  SC= 0.9051985256186974\n",
      " k= 12  SC= 0.8447004172161534\n",
      " k= 13  SC= 0.8303790266119848\n",
      " k= 14  SC= 0.8495891599427943\n",
      " k= 15  SC= 0.8171400205298681\n",
      " k= 20  SC= 0.8277092290913125\n"
     ]
    }
   ],
   "source": [
    "#Selecciono variables\n",
    "ds=dataframe[['MTO_TRANSF', 'CTD_OPE', 'FLG_PROF', 'FLG_PERFIL','CTDEVAL', 'FLG_PAIS']]\n",
    "#Estandarizo variables\n",
    "data1_cluster = MinMaxScaler().fit_transform(ds)\n",
    "#Selecciono números de clusters a probar\n",
    "k = [5,10,11,12,13,14,15,20]\n",
    "#Calculo siluetas\n",
    "for ki in k:\n",
    "        outputKMeans = KMeans(n_clusters = ki, init='k-means++', random_state = 7).fit(data1_cluster)\n",
    "        scoreSilhoutte = metrics.silhouette_score(data1_cluster, outputKMeans.labels_, metric='euclidean')\n",
    "        print(\" k=\", ki,\" SC=\", scoreSilhoutte)"
   ]
  },
  {
   "cell_type": "markdown",
   "id": "e1efe813",
   "metadata": {},
   "source": [
    "### Model Test4: Variables modelo estándar sin variables PEP ni CTDEVAL"
   ]
  },
  {
   "cell_type": "code",
   "execution_count": 12,
   "metadata": {},
   "outputs": [
    {
     "name": "stdout",
     "output_type": "stream",
     "text": [
      " k= 5  SC= 0.9400532026675391\n",
      " k= 10  SC= 0.8969749514466582\n",
      " k= 11  SC= 0.8678230813448403\n",
      " k= 12  SC= 0.8909336225676491\n",
      " k= 13  SC= 0.8747141678848768\n",
      " k= 14  SC= 0.8779360195694409\n",
      " k= 15  SC= 0.8846040911565799\n",
      " k= 20  SC= 0.8926538331835674\n"
     ]
    }
   ],
   "source": [
    "#Selecciono variables\n",
    "ds=dataframe[['MTO_TRANSF', 'CTD_OPE', 'FLG_PROF', 'FLG_PERFIL', 'FLG_PAIS']]\n",
    "#Estandarizo variables\n",
    "data1_cluster = MinMaxScaler().fit_transform(ds)\n",
    "#Selecciono números de clusters a probar\n",
    "k = [5,10,11,12,13,14,15,20]\n",
    "#Calculo siluetas\n",
    "for ki in k:\n",
    "        outputKMeans = KMeans(n_clusters = ki, init='k-means++', random_state = 7).fit(data1_cluster)\n",
    "        scoreSilhoutte = metrics.silhouette_score(data1_cluster, outputKMeans.labels_, metric='euclidean')\n",
    "        print(\" k=\", ki,\" SC=\", scoreSilhoutte)"
   ]
  },
  {
   "cell_type": "markdown",
   "id": "e1efe813",
   "metadata": {},
   "source": [
    "### Model Test 5: Solo variables cuantis"
   ]
  },
  {
   "cell_type": "code",
   "execution_count": 13,
   "metadata": {},
   "outputs": [
    {
     "name": "stdout",
     "output_type": "stream",
     "text": [
      " k= 5  SC= 0.8122018670129703\n",
      " k= 10  SC= 0.860252920564391\n",
      " k= 11  SC= 0.8667803698849708\n",
      " k= 12  SC= 0.8647961631234545\n",
      " k= 13  SC= 0.8751141592081502\n",
      " k= 14  SC= 0.8768509664557339\n",
      " k= 15  SC= 0.8718668681295962\n",
      " k= 20  SC= 0.8569018484461879\n"
     ]
    }
   ],
   "source": [
    "#Selecciono variables\n",
    "ds=dataframe[['MTO_TRANSF', 'CTD_OPE', 'CTDEVAL']]\n",
    "#Estandarizo variables\n",
    "data1_cluster = MinMaxScaler().fit_transform(ds)\n",
    "#Selecciono números de clusters a probar\n",
    "k = [5,10,11,12,13,14,15,20]\n",
    "#Calculo siluetas\n",
    "for ki in k:\n",
    "        outputKMeans = KMeans(n_clusters = ki, init='k-means++', random_state = 7).fit(data1_cluster)\n",
    "        scoreSilhoutte = metrics.silhouette_score(data1_cluster, outputKMeans.labels_, metric='euclidean')\n",
    "        print(\" k=\", ki,\" SC=\", scoreSilhoutte)"
   ]
  },
  {
   "cell_type": "markdown",
   "id": "cd824b38",
   "metadata": {},
   "source": [
    "### Model Test6: Variables modelo estándar sin variables PEP ni CTDEVAL ni PERFIL"
   ]
  },
  {
   "cell_type": "code",
   "execution_count": 3,
   "id": "d1f40604",
   "metadata": {},
   "outputs": [
    {
     "name": "stdout",
     "output_type": "stream",
     "text": [
      " k= 5  SC= 0.9288273858728606\n",
      " k= 10  SC= 0.8601554965577338\n",
      " k= 11  SC= 0.8686618371291474\n",
      " k= 12  SC= 0.8719732497356455\n",
      " k= 13  SC= 0.8885861110403468\n",
      " k= 14  SC= 0.8874819567179406\n",
      " k= 15  SC= 0.8884044514671041\n",
      " k= 20  SC= 0.9196298535592597\n"
     ]
    }
   ],
   "source": [
    "#Selecciono variables\n",
    "ds=dataframe[['MTO_TRANSF', 'CTD_OPE', 'FLG_PROF', 'FLG_PAIS']]\n",
    "#Estandarizo variables\n",
    "data1_cluster = MinMaxScaler().fit_transform(ds)\n",
    "#Selecciono números de clusters a probar\n",
    "k = [5,10,11,12,13,14,15,20]\n",
    "#Calculo siluetas\n",
    "for ki in k:\n",
    "        outputKMeans = KMeans(n_clusters = ki, init='k-means++', random_state = 7).fit(data1_cluster)\n",
    "        scoreSilhoutte = metrics.silhouette_score(data1_cluster, outputKMeans.labels_, metric='euclidean')\n",
    "        print(\" k=\", ki,\" SC=\", scoreSilhoutte)"
   ]
  },
  {
   "cell_type": "markdown",
   "id": "cd824b38",
   "metadata": {},
   "source": [
    "### Model Test7: Variables modelo estándar sin variables CTDOPE"
   ]
  },
  {
   "cell_type": "code",
   "execution_count": 4,
   "id": "d1f40604",
   "metadata": {},
   "outputs": [
    {
     "name": "stdout",
     "output_type": "stream",
     "text": [
      " k= 5  SC= 0.9266398776887439\n",
      " k= 10  SC= 0.9870829794004692\n",
      " k= 11  SC= 0.9894228359041476\n",
      " k= 12  SC= 0.9907495912493439\n",
      " k= 13  SC= 0.991795090764557\n",
      " k= 14  SC= 0.9921828883805116\n",
      " k= 15  SC= 0.9923291563550216\n",
      " k= 20  SC= 0.9593103271573493\n"
     ]
    }
   ],
   "source": [
    "#Selecciono variables\n",
    "ds=dataframe[['MTO_TRANSF', 'CTDEVAL', 'FLG_PEP', 'FLG_PROF', 'FLG_PERFIL','FLG_PAIS']]\n",
    "#Estandarizo variables\n",
    "data1_cluster = MinMaxScaler().fit_transform(ds)\n",
    "#Selecciono números de clusters a probar\n",
    "k = [5,10,11,12,13,14,15,20]\n",
    "#Calculo siluetas\n",
    "for ki in k:\n",
    "        outputKMeans = KMeans(n_clusters = ki, init='k-means++', random_state = 7).fit(data1_cluster)\n",
    "        scoreSilhoutte = metrics.silhouette_score(data1_cluster, outputKMeans.labels_, metric='euclidean')\n",
    "        print(\" k=\", ki,\" SC=\", scoreSilhoutte)"
   ]
  },
  {
   "cell_type": "markdown",
   "id": "1af19b9a",
   "metadata": {},
   "source": [
    "### Model Test7: Variables modelo estándar sin variables CTDOPE ni CTDEVAL"
   ]
  },
  {
   "cell_type": "code",
   "execution_count": 5,
   "id": "c1feee01",
   "metadata": {},
   "outputs": [
    {
     "name": "stdout",
     "output_type": "stream",
     "text": [
      " k= 5  SC= 0.9310349017483741\n",
      " k= 10  SC= 0.9927636903388356\n",
      " k= 11  SC= 0.9951676628489197\n",
      " k= 12  SC= 0.9962386430898547\n",
      " k= 13  SC= 0.9976328898767359\n",
      " k= 14  SC= 0.9980372319608003\n",
      " k= 15  SC= 0.9981954692113173\n",
      " k= 20  SC= 0.9882355870653478\n"
     ]
    }
   ],
   "source": [
    "#Selecciono variables\n",
    "ds=dataframe[['MTO_TRANSF', 'FLG_PEP', 'FLG_PROF', 'FLG_PERFIL','FLG_PAIS']]\n",
    "#Estandarizo variables\n",
    "data1_cluster = MinMaxScaler().fit_transform(ds)\n",
    "#Selecciono números de clusters a probar\n",
    "k = [5,10,11,12,13,14,15,20]\n",
    "#Calculo siluetas\n",
    "for ki in k:\n",
    "        outputKMeans = KMeans(n_clusters = ki, init='k-means++', random_state = 7).fit(data1_cluster)\n",
    "        scoreSilhoutte = metrics.silhouette_score(data1_cluster, outputKMeans.labels_, metric='euclidean')\n",
    "        print(\" k=\", ki,\" SC=\", scoreSilhoutte)"
   ]
  }
 ],
 "metadata": {
  "kernelspec": {
   "display_name": "Python 3.9.12 ('.venv')",
   "language": "python",
   "name": "python3"
  },
  "language_info": {
   "codemirror_mode": {
    "name": "ipython",
    "version": 3
   },
   "file_extension": ".py",
   "mimetype": "text/x-python",
   "name": "python",
   "nbconvert_exporter": "python",
   "pygments_lexer": "ipython3",
   "version": "3.9.12"
  },
  "vscode": {
   "interpreter": {
    "hash": "b242feb0aef104c2266b2693cd4405d5594b415b11330a5eec412a2784966402"
   }
  }
 },
 "nbformat": 4,
 "nbformat_minor": 5
}
