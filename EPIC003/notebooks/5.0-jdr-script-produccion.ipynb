{
 "cells": [
  {
   "attachments": {},
   "cell_type": "markdown",
   "metadata": {},
   "source": [
    "## Modelos IForest Seleccionado"
   ]
  },
  {
   "cell_type": "markdown",
   "metadata": {},
   "source": [
    "## 1. Importación de librerías"
   ]
  },
  {
   "cell_type": "code",
   "execution_count": 17,
   "metadata": {},
   "outputs": [],
   "source": [
    "import numpy as np\n",
    "import pandas as pd\n",
    "import matplotlib.pyplot as plt\n",
    "from sklearn.preprocessing import MinMaxScaler\n",
    "import seaborn as sns\n",
    "from sklearn.cluster import KMeans\n",
    "from random import sample\n",
    "from sklearn.ensemble import IsolationForest\n",
    "from sklearn import metrics\n",
    "\n",
    "\n",
    "#Mostrar todas las columnas de un dataframe\n",
    "pd.set_option('display.max_columns', None)\n",
    "\n",
    "import warnings\n",
    "warnings.filterwarnings('ignore')\n",
    "\n",
    "%matplotlib inline"
   ]
  },
  {
   "cell_type": "markdown",
   "metadata": {},
   "source": [
    "## 2. Importación data"
   ]
  },
  {
   "cell_type": "code",
   "execution_count": 18,
   "metadata": {},
   "outputs": [
    {
     "data": {
      "text/plain": [
       "(13516, 13)"
      ]
     },
     "execution_count": 18,
     "metadata": {},
     "output_type": "execute_result"
    }
   ],
   "source": [
    "#Seleccionar ruta de la data\n",
    "dataframe = pd.read_csv(r'C:\\GIT_Cump\\epic\\EPIC003\\data\\modeling\\02_preprocessed.csv', encoding='latin')\n",
    "dataframe.shape"
   ]
  },
  {
   "cell_type": "code",
   "execution_count": 19,
   "metadata": {},
   "outputs": [
    {
     "data": {
      "text/plain": [
       "(13516, 13)"
      ]
     },
     "execution_count": 19,
     "metadata": {},
     "output_type": "execute_result"
    }
   ],
   "source": [
    "dataframe=dataframe.loc[(dataframe['MTO_TRANSF']>10000) & (dataframe['MTO_TRANSF']<500000)]\n",
    "dataframe.shape"
   ]
  },
  {
   "attachments": {},
   "cell_type": "markdown",
   "metadata": {},
   "source": [
    "## 3. Feature engineering"
   ]
  },
  {
   "cell_type": "code",
   "execution_count": 20,
   "metadata": {},
   "outputs": [],
   "source": [
    "#Corrijo nombre de variable PERIODO\n",
    "dataframe.rename(columns = {'ï»¿PERIODO':'PERIODO'}, inplace = True)\n",
    "\n",
    "\n",
    "#Creo variable FLG_PAIS que une las categorías de riesgo 1 y missing 2 de la variable FLG_PAR\n",
    "#Inicializo la variable en cero\n",
    "dataframe['FLG_PAIS']=0\n",
    "#Creo las condicionales donde dependiendo de la  categoría de la variable inical pinto como 1\n",
    "dataframe.loc[(dataframe.FLG_PAR==0),'FLG_PAIS' ] = 0\n",
    "dataframe.loc[(dataframe.FLG_PAR==1), 'FLG_PAIS' ] = 1\n",
    "dataframe.loc[(dataframe.FLG_PAR==2) ,'FLG_PAIS' ] = 1"
   ]
  },
  {
   "attachments": {},
   "cell_type": "markdown",
   "metadata": {},
   "source": [
    "## 4. Modelamiento para universo de riesgo"
   ]
  },
  {
   "cell_type": "code",
   "execution_count": 21,
   "metadata": {},
   "outputs": [],
   "source": [
    "#Importo modelo kmeans final\n",
    "import pickle \n",
    "loaded_KM = pickle.load(open(r'C:\\GIT_CUMP\\epic\\EPIC003\\src\\03_models\\KMeans1_9seg_stairs.model', \"rb\"))"
   ]
  },
  {
   "cell_type": "code",
   "execution_count": 22,
   "metadata": {},
   "outputs": [],
   "source": [
    "#Selecciono solo las variables que necesita el modelo\n",
    "dataset=dataframe[['MTO_TRANSF', 'CTD_OPE', 'FLG_PEP', 'FLG_PROF', 'FLG_PERFIL','CTDEVAL', 'FLG_PAIS']]\n",
    "\n",
    "#Estandarizo variables\n",
    "dataset_cluster = MinMaxScaler().fit_transform(dataset)"
   ]
  },
  {
   "cell_type": "code",
   "execution_count": 23,
   "metadata": {},
   "outputs": [
    {
     "data": {
      "text/html": [
       "<div>\n",
       "<style scoped>\n",
       "    .dataframe tbody tr th:only-of-type {\n",
       "        vertical-align: middle;\n",
       "    }\n",
       "\n",
       "    .dataframe tbody tr th {\n",
       "        vertical-align: top;\n",
       "    }\n",
       "\n",
       "    .dataframe thead th {\n",
       "        text-align: right;\n",
       "    }\n",
       "</style>\n",
       "<table border=\"1\" class=\"dataframe\">\n",
       "  <thead>\n",
       "    <tr style=\"text-align: right;\">\n",
       "      <th></th>\n",
       "      <th>Unnamed: 0</th>\n",
       "      <th>PERIODO</th>\n",
       "      <th>CODCLAVECIC</th>\n",
       "      <th>NBRCLIORDENANTE</th>\n",
       "      <th>SEGMENTO</th>\n",
       "      <th>MTO_TRANSF</th>\n",
       "      <th>CTD_OPE</th>\n",
       "      <th>FLG_PEP</th>\n",
       "      <th>FLG_PROF</th>\n",
       "      <th>FLG_PAR</th>\n",
       "      <th>FLG_PERFIL</th>\n",
       "      <th>CTDEVAL</th>\n",
       "      <th>FLG_PAIS</th>\n",
       "      <th>N_CLUSTER</th>\n",
       "    </tr>\n",
       "  </thead>\n",
       "  <tbody>\n",
       "    <tr>\n",
       "      <th>0</th>\n",
       "      <td>0</td>\n",
       "      <td>202206</td>\n",
       "      <td>812</td>\n",
       "      <td>CORTES DE POLAR SANDRA MIRIAN</td>\n",
       "      <td>ENALTA</td>\n",
       "      <td>100000.00</td>\n",
       "      <td>1</td>\n",
       "      <td>0</td>\n",
       "      <td>1</td>\n",
       "      <td>2</td>\n",
       "      <td>0</td>\n",
       "      <td>0</td>\n",
       "      <td>1</td>\n",
       "      <td>1</td>\n",
       "    </tr>\n",
       "    <tr>\n",
       "      <th>1</th>\n",
       "      <td>8</td>\n",
       "      <td>202209</td>\n",
       "      <td>1750</td>\n",
       "      <td>CONROY DE MARSANO MARIA TERESA</td>\n",
       "      <td>PRIVADA</td>\n",
       "      <td>17357.00</td>\n",
       "      <td>1</td>\n",
       "      <td>0</td>\n",
       "      <td>0</td>\n",
       "      <td>0</td>\n",
       "      <td>0</td>\n",
       "      <td>15</td>\n",
       "      <td>0</td>\n",
       "      <td>2</td>\n",
       "    </tr>\n",
       "    <tr>\n",
       "      <th>2</th>\n",
       "      <td>9</td>\n",
       "      <td>202204</td>\n",
       "      <td>1973</td>\n",
       "      <td>APARCANA HERRERA MARIELA VILMA</td>\n",
       "      <td>CONSUMO</td>\n",
       "      <td>13931.65</td>\n",
       "      <td>1</td>\n",
       "      <td>0</td>\n",
       "      <td>1</td>\n",
       "      <td>0</td>\n",
       "      <td>0</td>\n",
       "      <td>0</td>\n",
       "      <td>0</td>\n",
       "      <td>3</td>\n",
       "    </tr>\n",
       "    <tr>\n",
       "      <th>3</th>\n",
       "      <td>12</td>\n",
       "      <td>202204</td>\n",
       "      <td>2249</td>\n",
       "      <td>DANERI PREIS GUSTAVO</td>\n",
       "      <td>ENALTA</td>\n",
       "      <td>13275.00</td>\n",
       "      <td>1</td>\n",
       "      <td>0</td>\n",
       "      <td>1</td>\n",
       "      <td>0</td>\n",
       "      <td>0</td>\n",
       "      <td>5</td>\n",
       "      <td>0</td>\n",
       "      <td>3</td>\n",
       "    </tr>\n",
       "    <tr>\n",
       "      <th>4</th>\n",
       "      <td>14</td>\n",
       "      <td>202208</td>\n",
       "      <td>2374</td>\n",
       "      <td>FIEDLER VASQUEZ-MEJIA PAUL</td>\n",
       "      <td>ENALTA</td>\n",
       "      <td>10670.96</td>\n",
       "      <td>2</td>\n",
       "      <td>0</td>\n",
       "      <td>1</td>\n",
       "      <td>0</td>\n",
       "      <td>0</td>\n",
       "      <td>0</td>\n",
       "      <td>0</td>\n",
       "      <td>3</td>\n",
       "    </tr>\n",
       "  </tbody>\n",
       "</table>\n",
       "</div>"
      ],
      "text/plain": [
       "   Unnamed: 0  PERIODO  CODCLAVECIC                 NBRCLIORDENANTE SEGMENTO  \\\n",
       "0           0   202206          812   CORTES DE POLAR SANDRA MIRIAN   ENALTA   \n",
       "1           8   202209         1750  CONROY DE MARSANO MARIA TERESA  PRIVADA   \n",
       "2           9   202204         1973  APARCANA HERRERA MARIELA VILMA  CONSUMO   \n",
       "3          12   202204         2249            DANERI PREIS GUSTAVO   ENALTA   \n",
       "4          14   202208         2374      FIEDLER VASQUEZ-MEJIA PAUL   ENALTA   \n",
       "\n",
       "   MTO_TRANSF  CTD_OPE  FLG_PEP  FLG_PROF  FLG_PAR  FLG_PERFIL  CTDEVAL  \\\n",
       "0   100000.00        1        0         1        2           0        0   \n",
       "1    17357.00        1        0         0        0           0       15   \n",
       "2    13931.65        1        0         1        0           0        0   \n",
       "3    13275.00        1        0         1        0           0        5   \n",
       "4    10670.96        2        0         1        0           0        0   \n",
       "\n",
       "   FLG_PAIS  N_CLUSTER  \n",
       "0         1          1  \n",
       "1         0          2  \n",
       "2         0          3  \n",
       "3         0          3  \n",
       "4         0          3  "
      ]
     },
     "execution_count": 23,
     "metadata": {},
     "output_type": "execute_result"
    }
   ],
   "source": [
    "#Aplico el modelo cargado sobre la data. Columna N_CLuster es la que tiene el resultado del modelo\n",
    "dataframe['N_CLUSTER']=loaded_KM.predict(dataset_cluster)\n",
    "dataframe.head()\n"
   ]
  },
  {
   "cell_type": "code",
   "execution_count": 24,
   "metadata": {},
   "outputs": [
    {
     "data": {
      "text/plain": [
       "(13516, 14)"
      ]
     },
     "execution_count": 24,
     "metadata": {},
     "output_type": "execute_result"
    }
   ],
   "source": [
    "dataframe.shape"
   ]
  },
  {
   "cell_type": "code",
   "execution_count": 35,
   "metadata": {},
   "outputs": [],
   "source": [
    "#Exporto la data con la columna adicional\n",
    "dataframe.to_csv(r'C:\\GIT_CUMP\\epic\\EPIC003\\data\\modeling\\03_predicted.csv',index=False)\n",
    "\n",
    "#Código si se necesita separador \"|\"\"\n",
    "#dataset.to_csv(r'Output_model.csv',index=False,sep='|')"
   ]
  },
  {
   "cell_type": "code",
   "execution_count": 27,
   "metadata": {},
   "outputs": [
    {
     "data": {
      "text/plain": [
       "(1217, 14)"
      ]
     },
     "execution_count": 27,
     "metadata": {},
     "output_type": "execute_result"
    }
   ],
   "source": [
    "#Defino Universo basado en clusters de riesgo seleccionados\n",
    "dataseg=dataframe[dataframe['N_CLUSTER'].isin([4,5,6,7,8])]\n",
    "dataseg.shape"
   ]
  },
  {
   "attachments": {},
   "cell_type": "markdown",
   "metadata": {},
   "source": [
    "## 5. Modelamiento para obtención de alertas"
   ]
  },
  {
   "cell_type": "code",
   "execution_count": 28,
   "metadata": {},
   "outputs": [],
   "source": [
    "#Selecciono las variables para el seundo modelo de IForest\n",
    "dsrisk=dataseg[['MTO_TRANSF', 'CTD_OPE', 'FLG_PEP', 'FLG_PROF', 'FLG_PERFIL','CTDEVAL', 'FLG_PAIS']]"
   ]
  },
  {
   "cell_type": "code",
   "execution_count": 29,
   "metadata": {},
   "outputs": [],
   "source": [
    "#Cargo el modelo de IForest\n",
    "loaded_IF = pickle.load(open(r'C:\\GIT_CUMP\\epic\\EPIC003\\src\\03_models\\IF_EPIC003_alerta.model', \"rb\"))"
   ]
  },
  {
   "cell_type": "code",
   "execution_count": 30,
   "metadata": {},
   "outputs": [
    {
     "data": {
      "text/html": [
       "<div>\n",
       "<style scoped>\n",
       "    .dataframe tbody tr th:only-of-type {\n",
       "        vertical-align: middle;\n",
       "    }\n",
       "\n",
       "    .dataframe tbody tr th {\n",
       "        vertical-align: top;\n",
       "    }\n",
       "\n",
       "    .dataframe thead th {\n",
       "        text-align: right;\n",
       "    }\n",
       "</style>\n",
       "<table border=\"1\" class=\"dataframe\">\n",
       "  <thead>\n",
       "    <tr style=\"text-align: right;\">\n",
       "      <th></th>\n",
       "      <th>Unnamed: 0</th>\n",
       "      <th>PERIODO</th>\n",
       "      <th>CODCLAVECIC</th>\n",
       "      <th>NBRCLIORDENANTE</th>\n",
       "      <th>SEGMENTO</th>\n",
       "      <th>MTO_TRANSF</th>\n",
       "      <th>CTD_OPE</th>\n",
       "      <th>FLG_PEP</th>\n",
       "      <th>FLG_PROF</th>\n",
       "      <th>FLG_PAR</th>\n",
       "      <th>FLG_PERFIL</th>\n",
       "      <th>CTDEVAL</th>\n",
       "      <th>FLG_PAIS</th>\n",
       "      <th>N_CLUSTER</th>\n",
       "      <th>OUTLIER</th>\n",
       "    </tr>\n",
       "  </thead>\n",
       "  <tbody>\n",
       "    <tr>\n",
       "      <th>8</th>\n",
       "      <td>39</td>\n",
       "      <td>202206</td>\n",
       "      <td>4319</td>\n",
       "      <td>SORIA SUAREZ ALCIDES WILLIAM</td>\n",
       "      <td>ENALTA</td>\n",
       "      <td>100000.00</td>\n",
       "      <td>1</td>\n",
       "      <td>0</td>\n",
       "      <td>0</td>\n",
       "      <td>0</td>\n",
       "      <td>1</td>\n",
       "      <td>0</td>\n",
       "      <td>0</td>\n",
       "      <td>4</td>\n",
       "      <td>1</td>\n",
       "    </tr>\n",
       "    <tr>\n",
       "      <th>14</th>\n",
       "      <td>62</td>\n",
       "      <td>202209</td>\n",
       "      <td>6083</td>\n",
       "      <td>CALMET PAPANICOLAU GONZALO</td>\n",
       "      <td>ENALTA</td>\n",
       "      <td>102653.00</td>\n",
       "      <td>3</td>\n",
       "      <td>0</td>\n",
       "      <td>1</td>\n",
       "      <td>0</td>\n",
       "      <td>1</td>\n",
       "      <td>1</td>\n",
       "      <td>0</td>\n",
       "      <td>6</td>\n",
       "      <td>1</td>\n",
       "    </tr>\n",
       "    <tr>\n",
       "      <th>15</th>\n",
       "      <td>64</td>\n",
       "      <td>202205</td>\n",
       "      <td>6420</td>\n",
       "      <td>ARAUJO ZAPATA MILAGRITOS FRANCISCA</td>\n",
       "      <td>EXCLUSIVO</td>\n",
       "      <td>20000.00</td>\n",
       "      <td>1</td>\n",
       "      <td>1</td>\n",
       "      <td>0</td>\n",
       "      <td>0</td>\n",
       "      <td>0</td>\n",
       "      <td>0</td>\n",
       "      <td>0</td>\n",
       "      <td>8</td>\n",
       "      <td>1</td>\n",
       "    </tr>\n",
       "    <tr>\n",
       "      <th>30</th>\n",
       "      <td>115</td>\n",
       "      <td>202208</td>\n",
       "      <td>9940</td>\n",
       "      <td>LEGUIA OREZZOLI JOAQUIN FELIPE</td>\n",
       "      <td>ENALTA</td>\n",
       "      <td>42096.52</td>\n",
       "      <td>3</td>\n",
       "      <td>0</td>\n",
       "      <td>0</td>\n",
       "      <td>0</td>\n",
       "      <td>1</td>\n",
       "      <td>1</td>\n",
       "      <td>0</td>\n",
       "      <td>4</td>\n",
       "      <td>1</td>\n",
       "    </tr>\n",
       "    <tr>\n",
       "      <th>51</th>\n",
       "      <td>184</td>\n",
       "      <td>202204</td>\n",
       "      <td>12810</td>\n",
       "      <td>RUBIN DE-COL JOSE ANTONIO</td>\n",
       "      <td>ENALTA</td>\n",
       "      <td>30000.00</td>\n",
       "      <td>1</td>\n",
       "      <td>0</td>\n",
       "      <td>1</td>\n",
       "      <td>0</td>\n",
       "      <td>1</td>\n",
       "      <td>0</td>\n",
       "      <td>0</td>\n",
       "      <td>6</td>\n",
       "      <td>1</td>\n",
       "    </tr>\n",
       "  </tbody>\n",
       "</table>\n",
       "</div>"
      ],
      "text/plain": [
       "    Unnamed: 0  PERIODO  CODCLAVECIC                     NBRCLIORDENANTE  \\\n",
       "8           39   202206         4319        SORIA SUAREZ ALCIDES WILLIAM   \n",
       "14          62   202209         6083          CALMET PAPANICOLAU GONZALO   \n",
       "15          64   202205         6420  ARAUJO ZAPATA MILAGRITOS FRANCISCA   \n",
       "30         115   202208         9940      LEGUIA OREZZOLI JOAQUIN FELIPE   \n",
       "51         184   202204        12810           RUBIN DE-COL JOSE ANTONIO   \n",
       "\n",
       "     SEGMENTO  MTO_TRANSF  CTD_OPE  FLG_PEP  FLG_PROF  FLG_PAR  FLG_PERFIL  \\\n",
       "8      ENALTA   100000.00        1        0         0        0           1   \n",
       "14     ENALTA   102653.00        3        0         1        0           1   \n",
       "15  EXCLUSIVO    20000.00        1        1         0        0           0   \n",
       "30     ENALTA    42096.52        3        0         0        0           1   \n",
       "51     ENALTA    30000.00        1        0         1        0           1   \n",
       "\n",
       "    CTDEVAL  FLG_PAIS  N_CLUSTER  OUTLIER  \n",
       "8         0         0          4        1  \n",
       "14        1         0          6        1  \n",
       "15        0         0          8        1  \n",
       "30        1         0          4        1  \n",
       "51        0         0          6        1  "
      ]
     },
     "execution_count": 30,
     "metadata": {},
     "output_type": "execute_result"
    }
   ],
   "source": [
    "#Aplico el modelo cargado sobre la data. Columna Outlier es la que tiene el resultado del modelo\n",
    "\n",
    "dataseg['OUTLIER']=loaded_IF.predict(dsrisk)\n",
    "\n",
    "dataseg.head()"
   ]
  },
  {
   "cell_type": "code",
   "execution_count": 31,
   "metadata": {},
   "outputs": [
    {
     "data": {
      "text/plain": [
       " 1    1095\n",
       "-1     122\n",
       "Name: OUTLIER, dtype: int64"
      ]
     },
     "execution_count": 31,
     "metadata": {},
     "output_type": "execute_result"
    }
   ],
   "source": [
    "#Valido número de outliers obtenidos\n",
    "dataseg['OUTLIER'].value_counts()"
   ]
  },
  {
   "cell_type": "code",
   "execution_count": 33,
   "metadata": {},
   "outputs": [],
   "source": [
    "#Exporto la data con la columna adicional\n",
    "dataseg.to_csv(r'C:\\GIT_CUMP\\epic\\EPIC003\\data\\modeling\\04_predicted.csv',index=False)\n",
    "\n",
    "#Código si se necesita separador \"|\"\"\n",
    "#dataset.to_csv(r'Output_model.csv',index=False,sep='|')"
   ]
  },
  {
   "cell_type": "code",
   "execution_count": 34,
   "metadata": {},
   "outputs": [
    {
     "name": "stdout",
     "output_type": "stream",
     "text": [
      "The scikit-learn version is 1.2.0.\n"
     ]
    }
   ],
   "source": [
    "#Pinto version de scikit en el que fue realizado el modelo\n",
    "import sklearn\n",
    "print('The scikit-learn version is {}.'.format(sklearn.__version__))"
   ]
  }
 ],
 "metadata": {
  "kernelspec": {
   "display_name": "Python 3.9.12 ('.venv': venv)",
   "language": "python",
   "name": "python3"
  },
  "language_info": {
   "codemirror_mode": {
    "name": "ipython",
    "version": 3
   },
   "file_extension": ".py",
   "mimetype": "text/x-python",
   "name": "python",
   "nbconvert_exporter": "python",
   "pygments_lexer": "ipython3",
   "version": "3.9.12"
  },
  "orig_nbformat": 4,
  "vscode": {
   "interpreter": {
    "hash": "83a965fbd9caaef1ac669cb00158f62aa8637cbd3fed5f3f120d8d27184c7387"
   }
  }
 },
 "nbformat": 4,
 "nbformat_minor": 2
}
