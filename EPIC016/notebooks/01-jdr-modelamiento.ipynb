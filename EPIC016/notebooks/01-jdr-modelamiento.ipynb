{
 "cells": [
  {
   "cell_type": "markdown",
   "metadata": {},
   "source": [
    "# EPIC016: Isolation Forest modelo final"
   ]
  },
  {
   "cell_type": "markdown",
   "id": "dbb9804a",
   "metadata": {},
   "source": [
    "## 1.Importación de librerías"
   ]
  },
  {
   "cell_type": "code",
   "execution_count": 16,
   "metadata": {},
   "outputs": [],
   "source": [
    "from random import sample\n",
    "\n",
    "import matplotlib.pyplot as plt\n",
    "import numpy as np\n",
    "import pandas as pd\n",
    "import seaborn as sns\n",
    "from sklearn import metrics\n",
    "#import seaborn as sns\n",
    "from sklearn.cluster import KMeans\n",
    "from sklearn.ensemble import IsolationForest\n",
    "from sklearn.preprocessing import MinMaxScaler, StandardScaler\n",
    "import pickle\n",
    "\n",
    "#Mostrar todas las columnas de un dataframe\n",
    "pd.set_option('display.max_columns', None)\n",
    "\n",
    "import warnings\n",
    "\n",
    "warnings.filterwarnings('ignore')\n",
    "\n",
    "%matplotlib inline"
   ]
  },
  {
   "cell_type": "markdown",
   "id": "cb5a1b3e",
   "metadata": {},
   "source": [
    "## 2. Importación data"
   ]
  },
  {
   "cell_type": "code",
   "execution_count": 2,
   "metadata": {},
   "outputs": [
    {
     "data": {
      "text/plain": [
       "(52568, 12)"
      ]
     },
     "execution_count": 2,
     "metadata": {},
     "output_type": "execute_result"
    }
   ],
   "source": [
    "#Seleccionar ruta de la data\n",
    "dataframe = pd.read_csv(r'../data/modeling/01_raw.csv', encoding='latin')\n",
    "dataframe.shape"
   ]
  },
  {
   "cell_type": "markdown",
   "id": "f712e996",
   "metadata": {},
   "source": [
    "## 3. Feature engineering"
   ]
  },
  {
   "cell_type": "code",
   "execution_count": 3,
   "metadata": {},
   "outputs": [
    {
     "data": {
      "text/plain": [
       "(52568, 16)"
      ]
     },
     "execution_count": 3,
     "metadata": {},
     "output_type": "execute_result"
    }
   ],
   "source": [
    "#Cambio nombre de columna\n",
    "dataframe.rename(columns = {'NUMPERIODO':'PERIODO'}, inplace = True)\n",
    "\n",
    "#Creo variable FLG_ANSLBNP que es la unión de las variables FLG_AN y FLG_LSBNP\n",
    "#Inicializo la variable en cero\n",
    "dataframe['FLG_ANLSBNP']=0\n",
    "#Creo las condicionales donde dependiendo de la  categoría de la variable inical pinto como 1\n",
    "dataframe.loc[(dataframe.FLG_AN==1) & (dataframe.FLG_LSB_NP==1),'FLG_ANLSBNP' ] = 1\n",
    "dataframe.loc[(dataframe.FLG_AN==1) & (dataframe.FLG_LSB_NP==0),'FLG_ANLSBNP' ] = 1\n",
    "dataframe.loc[(dataframe.FLG_AN==0) & (dataframe.FLG_LSB_NP==1),'FLG_ANLSBNP' ] = 1\n",
    "#Creo variables dummy de los tipos de persona para luego analizarlo en el perfilamiento (No es parte del modelamiento esta variable)\n",
    "data_dummies=pd.get_dummies(dataframe['TIPPER_AGRUP']).astype(int)\n",
    "#Agrego las variables dummies creadas al dataframe original\n",
    "dataframe = pd.concat([dataframe, data_dummies], axis = 1)\n",
    "\n",
    "dataframe.shape"
   ]
  },
  {
   "cell_type": "markdown",
   "id": "cd826308",
   "metadata": {},
   "source": [
    "## 3. Universo"
   ]
  },
  {
   "cell_type": "code",
   "execution_count": 4,
   "metadata": {},
   "outputs": [
    {
     "data": {
      "text/plain": [
       "(28680, 16)"
      ]
     },
     "execution_count": 4,
     "metadata": {},
     "output_type": "execute_result"
    }
   ],
   "source": [
    "#Selecciono el periodo de modelamiento y monto de ingresos mayor a 1000\n",
    "dataset=dataframe.loc[(dataframe['PERIODO']>=202203) & (dataframe['PERIODO']<=202207) & (dataframe['MTO_INGRESOS']>1000)]\n",
    "dataset.shape"
   ]
  },
  {
   "cell_type": "code",
   "execution_count": 5,
   "id": "e7126501",
   "metadata": {},
   "outputs": [],
   "source": [
    "dataset.to_csv(r'../data/modeling/02_train_preprocessed.csv',index=False,sep='|')"
   ]
  },
  {
   "cell_type": "code",
   "execution_count": 6,
   "metadata": {},
   "outputs": [],
   "source": [
    "#No necesario por poca data\n",
    "# datasample=dataset.sample(n=20000, random_state=7)\n",
    "# datasample.shape"
   ]
  },
  {
   "cell_type": "markdown",
   "id": "d43d4056",
   "metadata": {},
   "source": [
    "## 4. Análisis de datos"
   ]
  },
  {
   "cell_type": "code",
   "execution_count": 7,
   "metadata": {},
   "outputs": [
    {
     "data": {
      "text/plain": [
       "Index(['PERIODO', 'CODCLAVECIC', 'TIPPER_AGRUP', 'MTO_INGRESOS', 'MTO_EGRESOS',\n",
       "       'RATIO_ING_TOT', 'POR_CASH', 'FLG_PERFIL_3DESVT_TRX', 'FLG_AN',\n",
       "       'FLG_LSB_NP', 'MEDIA_DEP', 'DESV_DEP', 'FLG_ANLSBNP', 'PJ', 'PN_CN',\n",
       "       'PN_SN'],\n",
       "      dtype='object')"
      ]
     },
     "execution_count": 7,
     "metadata": {},
     "output_type": "execute_result"
    }
   ],
   "source": [
    "#Reviso columnas\n",
    "dataset.columns"
   ]
  },
  {
   "cell_type": "markdown",
   "id": "46f96790",
   "metadata": {},
   "source": [
    "### Modelo 1: Todas las variables"
   ]
  },
  {
   "cell_type": "code",
   "execution_count": 19,
   "metadata": {},
   "outputs": [
    {
     "name": "stdout",
     "output_type": "stream",
     "text": [
      "Silueta: 0.6446430121066279\n"
     ]
    },
    {
     "data": {
      "text/plain": [
       "PERIODO  IF_LABEL\n",
       "202203   -1           608\n",
       "          1          4962\n",
       "202204   -1           519\n",
       "          1          5129\n",
       "202205   -1           557\n",
       "          1          5186\n",
       "202206   -1           583\n",
       "          1          5244\n",
       "202207   -1           601\n",
       "          1          5291\n",
       "dtype: int64"
      ]
     },
     "execution_count": 19,
     "metadata": {},
     "output_type": "execute_result"
    }
   ],
   "source": [
    "#Variable\n",
    "a=['MTO_INGRESOS', 'MTO_EGRESOS','RATIO_ING_TOT', 'POR_CASH', 'FLG_PERFIL_3DESVT_TRX', 'FLG_ANLSBNP']\n",
    "\n",
    "#Modelo base IF\n",
    "ds=dataset[a]\n",
    "clf_base = IsolationForest(n_estimators = 500, contamination=0.1,random_state=7)\n",
    "clf_base.fit(ds)\n",
    "\n",
    "#score de silueta\n",
    "datasetv1 = dataset.copy()\n",
    "datasetv1['IF_LABEL']=clf_base.predict(ds)\n",
    "scoreSilhoutte = metrics.silhouette_score(ds, datasetv1['IF_LABEL'], metric='euclidean')  \n",
    "print('Silueta:',scoreSilhoutte)\n",
    "\n",
    "#Casos estimados\n",
    "ds=dataset[a]\n",
    "datasetv2 = dataset.copy()\n",
    "datasetv2['IF_LABEL']=clf_base.predict(ds)\n",
    "datasetv2.groupby(['PERIODO','IF_LABEL']).size()"
   ]
  },
  {
   "cell_type": "markdown",
   "id": "ed0e210a",
   "metadata": {},
   "source": [
    "### Modelo 2: Todas las variables y bajando contaminación a 0.05"
   ]
  },
  {
   "cell_type": "code",
   "execution_count": 20,
   "metadata": {},
   "outputs": [
    {
     "name": "stdout",
     "output_type": "stream",
     "text": [
      "Silueta: 0.7500615372252972\n"
     ]
    },
    {
     "data": {
      "text/plain": [
       "PERIODO  IF_LABEL\n",
       "202203   -1           281\n",
       "          1          5289\n",
       "202204   -1           255\n",
       "          1          5393\n",
       "202205   -1           277\n",
       "          1          5466\n",
       "202206   -1           283\n",
       "          1          5544\n",
       "202207   -1           338\n",
       "          1          5554\n",
       "dtype: int64"
      ]
     },
     "execution_count": 20,
     "metadata": {},
     "output_type": "execute_result"
    }
   ],
   "source": [
    "#Variable\n",
    "a=['MTO_INGRESOS', 'MTO_EGRESOS','RATIO_ING_TOT', 'POR_CASH', 'FLG_PERFIL_3DESVT_TRX', 'FLG_ANLSBNP']\n",
    "\n",
    "#Modelo base IF\n",
    "ds=dataset[a]\n",
    "clf_base = IsolationForest(n_estimators = 500, contamination=0.05,random_state=7)\n",
    "clf_base.fit(ds)\n",
    "\n",
    "#score de silueta\n",
    "datasetv1 = dataset.copy()\n",
    "datasetv1['IF_LABEL']=clf_base.predict(ds)\n",
    "scoreSilhoutte = metrics.silhouette_score(ds, datasetv1['IF_LABEL'], metric='euclidean') \n",
    "print('Silueta:',scoreSilhoutte)\n",
    "\n",
    "#Casos estimados\n",
    "ds=dataset[a]\n",
    "datasetv2 = dataset.copy()\n",
    "datasetv2['IF_LABEL']=clf_base.predict(ds)\n",
    "datasetv2.groupby(['PERIODO','IF_LABEL']).size()"
   ]
  },
  {
   "cell_type": "markdown",
   "id": "a4f5a00b",
   "metadata": {},
   "source": [
    "### Model 3: Todas las variables sin MTO_EGRESO"
   ]
  },
  {
   "cell_type": "code",
   "execution_count": 21,
   "metadata": {},
   "outputs": [
    {
     "name": "stdout",
     "output_type": "stream",
     "text": [
      "Silueta: 0.7192429888213406\n"
     ]
    },
    {
     "data": {
      "text/plain": [
       "PERIODO  IF_LABEL\n",
       "202203   -1           272\n",
       "          1          5298\n",
       "202204   -1           262\n",
       "          1          5386\n",
       "202205   -1           268\n",
       "          1          5475\n",
       "202206   -1           289\n",
       "          1          5538\n",
       "202207   -1           342\n",
       "          1          5550\n",
       "dtype: int64"
      ]
     },
     "execution_count": 21,
     "metadata": {},
     "output_type": "execute_result"
    }
   ],
   "source": [
    "#Variable\n",
    "a=['MTO_INGRESOS', 'RATIO_ING_TOT', 'POR_CASH', 'FLG_PERFIL_3DESVT_TRX', 'FLG_ANLSBNP']\n",
    "\n",
    "#Modelo base IF\n",
    "ds=dataset[a]\n",
    "clf_base = IsolationForest(n_estimators = 500, contamination=0.05,random_state=7)\n",
    "clf_base.fit(ds)\n",
    "\n",
    "#score de silueta\n",
    "datasetv1 = dataset.copy()\n",
    "datasetv1['IF_LABEL']=clf_base.predict(ds)\n",
    "scoreSilhoutte = metrics.silhouette_score(ds, datasetv1['IF_LABEL'], metric='euclidean')\n",
    "print('Silueta:',scoreSilhoutte)\n",
    "\n",
    "#Casos estimados\n",
    "ds=dataset[a]\n",
    "datasetv2 = dataset.copy()\n",
    "datasetv2['IF_LABEL']=clf_base.predict(ds)\n",
    "datasetv2.groupby(['PERIODO','IF_LABEL']).size()"
   ]
  },
  {
   "cell_type": "markdown",
   "id": "a4f5a00b",
   "metadata": {},
   "source": [
    "### Model 4: Todas las variables usadas en el modelo K-Means final"
   ]
  },
  {
   "cell_type": "code",
   "execution_count": 22,
   "metadata": {},
   "outputs": [
    {
     "name": "stdout",
     "output_type": "stream",
     "text": [
      "Silueta: 0.7304843261735888\n"
     ]
    },
    {
     "data": {
      "text/plain": [
       "PERIODO  IF_LABEL\n",
       "202203   -1           248\n",
       "          1          5322\n",
       "202204   -1           264\n",
       "          1          5384\n",
       "202205   -1           275\n",
       "          1          5468\n",
       "202206   -1           292\n",
       "          1          5535\n",
       "202207   -1           355\n",
       "          1          5537\n",
       "dtype: int64"
      ]
     },
     "execution_count": 22,
     "metadata": {},
     "output_type": "execute_result"
    }
   ],
   "source": [
    "#Variable\n",
    "a=['MTO_INGRESOS', 'POR_CASH', 'FLG_PERFIL_3DESVT_TRX', 'FLG_ANLSBNP']\n",
    "\n",
    "#Modelo base IF\n",
    "ds=dataset[a]\n",
    "clf_base = IsolationForest(n_estimators = 500, contamination=0.05,random_state=7)\n",
    "clf_base.fit(ds)\n",
    "\n",
    "#score de silueta\n",
    "datasetv1 = dataset.copy()\n",
    "datasetv1['IF_LABEL']=clf_base.predict(ds)\n",
    "scoreSilhoutte = metrics.silhouette_score(ds, datasetv1['IF_LABEL'], metric='euclidean')\n",
    "print('Silueta:',scoreSilhoutte)\n",
    "\n",
    "#Casos estimados\n",
    "ds=dataset[a]\n",
    "datasetv2 = dataset.copy()\n",
    "datasetv2['IF_LABEL']=clf_base.predict(ds)\n",
    "datasetv2.groupby(['PERIODO','IF_LABEL']).size()"
   ]
  },
  {
   "cell_type": "markdown",
   "id": "a4f5a00b",
   "metadata": {},
   "source": [
    "### Model 5: Todas las variables usadas en el modelo K-Means final + variable RATIO"
   ]
  },
  {
   "cell_type": "code",
   "execution_count": 23,
   "metadata": {},
   "outputs": [
    {
     "name": "stdout",
     "output_type": "stream",
     "text": [
      "Silueta: 0.8099008994793859\n"
     ]
    },
    {
     "data": {
      "text/plain": [
       "PERIODO  IF_LABEL\n",
       "202203   -1            42\n",
       "          1          5528\n",
       "202204   -1            57\n",
       "          1          5591\n",
       "202205   -1            40\n",
       "          1          5703\n",
       "202206   -1            69\n",
       "          1          5758\n",
       "202207   -1            79\n",
       "          1          5813\n",
       "dtype: int64"
      ]
     },
     "execution_count": 23,
     "metadata": {},
     "output_type": "execute_result"
    }
   ],
   "source": [
    "#Variable\n",
    "a=['MTO_INGRESOS', 'RATIO_ING_TOT','POR_CASH', 'FLG_PERFIL_3DESVT_TRX', 'FLG_ANLSBNP']\n",
    "\n",
    "#Modelo base IF\n",
    "ds=dataset[a]\n",
    "clf_base = IsolationForest(n_estimators = 500, contamination=0.01,random_state=7)\n",
    "clf_base.fit(ds)\n",
    "\n",
    "#score de silueta\n",
    "datasetv1 = dataset.copy()\n",
    "datasetv1['IF_LABEL']=clf_base.predict(ds)\n",
    "scoreSilhoutte = metrics.silhouette_score(ds, datasetv1['IF_LABEL'], metric='euclidean')  \n",
    "print('Silueta:',scoreSilhoutte)\n",
    "\n",
    "#Casos estimados\n",
    "ds=dataset[a]\n",
    "datasetv2 = dataset.copy()\n",
    "datasetv2['IF_LABEL']=clf_base.predict(ds)\n",
    "datasetv2.groupby(['PERIODO','IF_LABEL']).size()"
   ]
  },
  {
   "cell_type": "markdown",
   "id": "a4f5a00b",
   "metadata": {},
   "source": [
    "### Model 6: Variables de Model Test 5 pero con contaminación 0.005 (MODELO FINAL)"
   ]
  },
  {
   "cell_type": "code",
   "execution_count": null,
   "metadata": {},
   "outputs": [],
   "source": [
    "#Variable\n",
    "a=['MTO_INGRESOS', 'RATIO_ING_TOT','POR_CASH', 'FLG_PERFIL_3DESVT_TRX', 'FLG_ANLSBNP']\n",
    "\n",
    "#Modelo base IF\n",
    "ds=dataset[a]\n",
    "clf_base = IsolationForest(n_estimators = 500, contamination=0.005,random_state=7)\n",
    "clf_base.fit(ds)\n",
    "\n",
    "#score de silueta\n",
    "datasetv1 = dataset.copy()\n",
    "datasetv1['IF_LABEL']=clf_base.predict(ds)\n",
    "scoreSilhoutte = metrics.silhouette_score(ds, datasetv1['IF_LABEL'], metric='euclidean')  \n",
    "print('Silueta:',scoreSilhoutte)\n",
    "\n",
    "#Casos estimados\n",
    "ds=dataset[a]\n",
    "datasetv2 = dataset.copy()\n",
    "datasetv2['IF_LABEL']=clf_base.predict(ds)\n",
    "datasetv2.groupby(['PERIODO','IF_LABEL']).size()"
   ]
  },
  {
   "cell_type": "code",
   "execution_count": 10,
   "metadata": {},
   "outputs": [
    {
     "data": {
      "text/plain": [
       "IF_LABEL\n",
       "-1      144\n",
       " 1    28536\n",
       "dtype: int64"
      ]
     },
     "execution_count": 10,
     "metadata": {},
     "output_type": "execute_result"
    }
   ],
   "source": [
    "#REviso el total de outliers\n",
    "datasetv1.groupby(['IF_LABEL']).size()"
   ]
  },
  {
   "cell_type": "code",
   "execution_count": 11,
   "metadata": {},
   "outputs": [],
   "source": [
    "#Copio a excel tabla de medias por grupo\n",
    "datasetv1.groupby('IF_LABEL').mean().round(3).to_clipboard(excel=True)"
   ]
  },
  {
   "cell_type": "code",
   "execution_count": 27,
   "metadata": {},
   "outputs": [
    {
     "data": {
      "text/html": [
       "<div>\n",
       "<style scoped>\n",
       "    .dataframe tbody tr th:only-of-type {\n",
       "        vertical-align: middle;\n",
       "    }\n",
       "\n",
       "    .dataframe tbody tr th {\n",
       "        vertical-align: top;\n",
       "    }\n",
       "\n",
       "    .dataframe thead th {\n",
       "        text-align: right;\n",
       "    }\n",
       "</style>\n",
       "<table border=\"1\" class=\"dataframe\">\n",
       "  <thead>\n",
       "    <tr style=\"text-align: right;\">\n",
       "      <th></th>\n",
       "      <th>PERIODO</th>\n",
       "      <th>CODCLAVECIC</th>\n",
       "      <th>MTO_INGRESOS</th>\n",
       "      <th>MTO_EGRESOS</th>\n",
       "      <th>RATIO_ING_TOT</th>\n",
       "      <th>POR_CASH</th>\n",
       "      <th>FLG_PERFIL_3DESVT_TRX</th>\n",
       "      <th>FLG_AN</th>\n",
       "      <th>FLG_LSB_NP</th>\n",
       "      <th>MEDIA_DEP</th>\n",
       "      <th>DESV_DEP</th>\n",
       "      <th>FLG_ANLSBNP</th>\n",
       "    </tr>\n",
       "    <tr>\n",
       "      <th>IF_LABEL</th>\n",
       "      <th></th>\n",
       "      <th></th>\n",
       "      <th></th>\n",
       "      <th></th>\n",
       "      <th></th>\n",
       "      <th></th>\n",
       "      <th></th>\n",
       "      <th></th>\n",
       "      <th></th>\n",
       "      <th></th>\n",
       "      <th></th>\n",
       "      <th></th>\n",
       "    </tr>\n",
       "  </thead>\n",
       "  <tbody>\n",
       "    <tr>\n",
       "      <th>-1</th>\n",
       "      <td>202205.465</td>\n",
       "      <td>1.727763e+07</td>\n",
       "      <td>613070.849</td>\n",
       "      <td>123893.240</td>\n",
       "      <td>0.459</td>\n",
       "      <td>0.696</td>\n",
       "      <td>0.646</td>\n",
       "      <td>0.583</td>\n",
       "      <td>0.535</td>\n",
       "      <td>222869.635</td>\n",
       "      <td>114125.584</td>\n",
       "      <td>0.722</td>\n",
       "    </tr>\n",
       "    <tr>\n",
       "      <th>1</th>\n",
       "      <td>202205.026</td>\n",
       "      <td>1.496480e+07</td>\n",
       "      <td>75669.613</td>\n",
       "      <td>27859.478</td>\n",
       "      <td>0.544</td>\n",
       "      <td>0.022</td>\n",
       "      <td>0.132</td>\n",
       "      <td>0.217</td>\n",
       "      <td>0.295</td>\n",
       "      <td>60221.776</td>\n",
       "      <td>33441.407</td>\n",
       "      <td>0.392</td>\n",
       "    </tr>\n",
       "  </tbody>\n",
       "</table>\n",
       "</div>"
      ],
      "text/plain": [
       "             PERIODO   CODCLAVECIC  MTO_INGRESOS  MTO_EGRESOS  RATIO_ING_TOT  \\\n",
       "IF_LABEL                                                                       \n",
       "-1        202205.465  1.727763e+07    613070.849   123893.240          0.459   \n",
       " 1        202205.026  1.496480e+07     75669.613    27859.478          0.544   \n",
       "\n",
       "          POR_CASH  FLG_PERFIL_3DESVT_TRX  FLG_AN  FLG_LSB_NP   MEDIA_DEP  \\\n",
       "IF_LABEL                                                                    \n",
       "-1           0.696                  0.646   0.583       0.535  222869.635   \n",
       " 1           0.022                  0.132   0.217       0.295   60221.776   \n",
       "\n",
       "            DESV_DEP  FLG_ANLSBNP  \n",
       "IF_LABEL                           \n",
       "-1        114125.584        0.722  \n",
       " 1         33441.407        0.392  "
      ]
     },
     "execution_count": 27,
     "metadata": {},
     "output_type": "execute_result"
    }
   ],
   "source": [
    "#Tabla de medias por grupo\n",
    "datasetv1.groupby('IF_LABEL').mean().round(3)"
   ]
  },
  {
   "cell_type": "code",
   "execution_count": 12,
   "metadata": {},
   "outputs": [],
   "source": [
    "#Exporto a excel tabla scoreada\n",
    "datasetv1.to_excel(r'IF_MEpic16.xlsx',index=False,header=True)"
   ]
  },
  {
   "cell_type": "markdown",
   "id": "608cdb7a",
   "metadata": {},
   "source": [
    "### Modelo 7 : FINAL"
   ]
  },
  {
   "cell_type": "code",
   "execution_count": 8,
   "metadata": {},
   "outputs": [
    {
     "name": "stdout",
     "output_type": "stream",
     "text": [
      "Silueta: 0.8891759007880911\n"
     ]
    }
   ],
   "source": [
    "#Variable\n",
    "a=['MTO_INGRESOS', 'POR_CASH', 'FLG_PERFIL_3DESVT_TRX', 'FLG_ANLSBNP']\n",
    "\n",
    "#Modelo base IF\n",
    "ds=dataset[a].copy()\n",
    "clf_base = IsolationForest(n_estimators = 500, contamination=0.005,random_state=7,max_features=4)\n",
    "clf_base.fit(ds)\n",
    "\n",
    "#score de silueta\n",
    "datasetv1 = dataset.copy()\n",
    "datasetv1['IF_LABEL']=clf_base.predict(ds)\n",
    "scoreSilhoutte = metrics.silhouette_score(ds, datasetv1['IF_LABEL'], metric='euclidean')\n",
    "print('Silueta:',scoreSilhoutte)"
   ]
  },
  {
   "cell_type": "code",
   "execution_count": 9,
   "id": "e964921f",
   "metadata": {},
   "outputs": [
    {
     "data": {
      "text/plain": [
       "PERIODO  IF_LABEL\n",
       "202203   -1            12\n",
       "          1          5558\n",
       "202204   -1            31\n",
       "          1          5617\n",
       "202205   -1            19\n",
       "          1          5724\n",
       "202206   -1            38\n",
       "          1          5789\n",
       "202207   -1            44\n",
       "          1          5848\n",
       "dtype: int64"
      ]
     },
     "execution_count": 9,
     "metadata": {},
     "output_type": "execute_result"
    }
   ],
   "source": [
    "\n",
    "#Casos estimados\n",
    "ds=dataset[a]\n",
    "datasetv2 = dataset.copy()\n",
    "datasetv2['IF_LABEL']=clf_base.predict(ds)\n",
    "datasetv2.groupby(['PERIODO','IF_LABEL']).size()"
   ]
  },
  {
   "cell_type": "code",
   "execution_count": 19,
   "id": "dd1ae517",
   "metadata": {},
   "outputs": [],
   "source": [
    "datasetv2.to_csv(r'../data/modeling/03_train_output.csv',index=False)"
   ]
  },
  {
   "cell_type": "code",
   "execution_count": 11,
   "metadata": {},
   "outputs": [],
   "source": [
    "#Guardar el modelo\n",
    "model_output = r'../src/03_models/IF_MEpic16v2.model'\n",
    "pickle.dump(clf_base, open(model_output, 'wb'))"
   ]
  },
  {
   "cell_type": "code",
   "execution_count": 12,
   "metadata": {},
   "outputs": [
    {
     "data": {
      "text/plain": [
       "IF_LABEL\n",
       "-1      144\n",
       " 1    28536\n",
       "dtype: int64"
      ]
     },
     "execution_count": 12,
     "metadata": {},
     "output_type": "execute_result"
    }
   ],
   "source": [
    "#Valido total de outliers\n",
    "datasetv1.groupby(['IF_LABEL']).size()"
   ]
  },
  {
   "cell_type": "code",
   "execution_count": 13,
   "metadata": {},
   "outputs": [],
   "source": [
    "#Copio a excel tabla de medias por grupo\n",
    "datasetv1.groupby('IF_LABEL').mean().round(3).to_clipboard(excel=True)"
   ]
  },
  {
   "cell_type": "code",
   "execution_count": 14,
   "metadata": {},
   "outputs": [
    {
     "data": {
      "text/html": [
       "<div>\n",
       "<style scoped>\n",
       "    .dataframe tbody tr th:only-of-type {\n",
       "        vertical-align: middle;\n",
       "    }\n",
       "\n",
       "    .dataframe tbody tr th {\n",
       "        vertical-align: top;\n",
       "    }\n",
       "\n",
       "    .dataframe thead th {\n",
       "        text-align: right;\n",
       "    }\n",
       "</style>\n",
       "<table border=\"1\" class=\"dataframe\">\n",
       "  <thead>\n",
       "    <tr style=\"text-align: right;\">\n",
       "      <th></th>\n",
       "      <th>PERIODO</th>\n",
       "      <th>CODCLAVECIC</th>\n",
       "      <th>MTO_INGRESOS</th>\n",
       "      <th>MTO_EGRESOS</th>\n",
       "      <th>RATIO_ING_TOT</th>\n",
       "      <th>POR_CASH</th>\n",
       "      <th>FLG_PERFIL_3DESVT_TRX</th>\n",
       "      <th>FLG_AN</th>\n",
       "      <th>FLG_LSB_NP</th>\n",
       "      <th>MEDIA_DEP</th>\n",
       "      <th>DESV_DEP</th>\n",
       "      <th>FLG_ANLSBNP</th>\n",
       "      <th>PJ</th>\n",
       "      <th>PN_CN</th>\n",
       "      <th>PN_SN</th>\n",
       "    </tr>\n",
       "    <tr>\n",
       "      <th>IF_LABEL</th>\n",
       "      <th></th>\n",
       "      <th></th>\n",
       "      <th></th>\n",
       "      <th></th>\n",
       "      <th></th>\n",
       "      <th></th>\n",
       "      <th></th>\n",
       "      <th></th>\n",
       "      <th></th>\n",
       "      <th></th>\n",
       "      <th></th>\n",
       "      <th></th>\n",
       "      <th></th>\n",
       "      <th></th>\n",
       "      <th></th>\n",
       "    </tr>\n",
       "  </thead>\n",
       "  <tbody>\n",
       "    <tr>\n",
       "      <th>-1</th>\n",
       "      <td>202205.493</td>\n",
       "      <td>1.750069e+07</td>\n",
       "      <td>860242.105</td>\n",
       "      <td>172487.366</td>\n",
       "      <td>0.574</td>\n",
       "      <td>0.635</td>\n",
       "      <td>0.660</td>\n",
       "      <td>0.556</td>\n",
       "      <td>0.562</td>\n",
       "      <td>442942.267</td>\n",
       "      <td>150670.588</td>\n",
       "      <td>0.722</td>\n",
       "      <td>0.250</td>\n",
       "      <td>0.049</td>\n",
       "      <td>0.701</td>\n",
       "    </tr>\n",
       "    <tr>\n",
       "      <th>1</th>\n",
       "      <td>202205.026</td>\n",
       "      <td>1.496367e+07</td>\n",
       "      <td>74422.324</td>\n",
       "      <td>27614.259</td>\n",
       "      <td>0.544</td>\n",
       "      <td>0.022</td>\n",
       "      <td>0.132</td>\n",
       "      <td>0.217</td>\n",
       "      <td>0.295</td>\n",
       "      <td>59111.233</td>\n",
       "      <td>33256.992</td>\n",
       "      <td>0.392</td>\n",
       "      <td>0.052</td>\n",
       "      <td>0.164</td>\n",
       "      <td>0.784</td>\n",
       "    </tr>\n",
       "  </tbody>\n",
       "</table>\n",
       "</div>"
      ],
      "text/plain": [
       "             PERIODO   CODCLAVECIC  MTO_INGRESOS  MTO_EGRESOS  RATIO_ING_TOT  \\\n",
       "IF_LABEL                                                                       \n",
       "-1        202205.493  1.750069e+07    860242.105   172487.366          0.574   \n",
       " 1        202205.026  1.496367e+07     74422.324    27614.259          0.544   \n",
       "\n",
       "          POR_CASH  FLG_PERFIL_3DESVT_TRX  FLG_AN  FLG_LSB_NP   MEDIA_DEP  \\\n",
       "IF_LABEL                                                                    \n",
       "-1           0.635                  0.660   0.556       0.562  442942.267   \n",
       " 1           0.022                  0.132   0.217       0.295   59111.233   \n",
       "\n",
       "            DESV_DEP  FLG_ANLSBNP     PJ  PN_CN  PN_SN  \n",
       "IF_LABEL                                                \n",
       "-1        150670.588        0.722  0.250  0.049  0.701  \n",
       " 1         33256.992        0.392  0.052  0.164  0.784  "
      ]
     },
     "execution_count": 14,
     "metadata": {},
     "output_type": "execute_result"
    }
   ],
   "source": [
    "#Tabla de medias por grupo\n",
    "datasetv1.groupby('IF_LABEL').mean().round(3)"
   ]
  },
  {
   "cell_type": "code",
   "execution_count": 16,
   "metadata": {},
   "outputs": [],
   "source": [
    "#Exporto a excel la tabla scoreada\n",
    "datasetv1.to_excel(r'../data/modeling/tmp/IF_MEpic16_v2.xlsx',index=False,header=True)"
   ]
  },
  {
   "cell_type": "code",
   "execution_count": 17,
   "metadata": {},
   "outputs": [
    {
     "data": {
      "text/plain": [
       "<seaborn.axisgrid.FacetGrid at 0x1c47ffc2f70>"
      ]
     },
     "execution_count": 17,
     "metadata": {},
     "output_type": "execute_result"
    },
    {
     "data": {
      "image/png": "[encoded data removed]",
      "text/plain": [
       "<Figure size 1113.86x800 with 1 Axes>"
      ]
     },
     "metadata": {},
     "output_type": "display_data"
    }
   ],
   "source": [
    "#Valido distribución por tipo de persona\n",
    "sns.displot(dataset, x='MTO_INGRESOS', hue='TIPPER_AGRUP',height = 8, aspect = 1.25)"
   ]
  },
  {
   "cell_type": "code",
   "execution_count": 18,
   "metadata": {},
   "outputs": [
    {
     "data": {
      "text/plain": [
       "<AxesSubplot: xlabel='MTO_INGRESOS', ylabel='TIPPER_AGRUP'>"
      ]
     },
     "execution_count": 18,
     "metadata": {},
     "output_type": "execute_result"
    },
    {
     "data": {
      "image/png": "[encoded data removed]",
      "text/plain": [
       "<Figure size 640x480 with 1 Axes>"
      ]
     },
     "metadata": {},
     "output_type": "display_data"
    }
   ],
   "source": [
    "#Boxplot para ver la distribución del monto por tipo de persona\n",
    "sns.boxplot(x=\"MTO_INGRESOS\",  y=\"TIPPER_AGRUP\", data=dataset)"
   ]
  },
  {
   "cell_type": "code",
   "execution_count": null,
   "id": "1b8046c5",
   "metadata": {},
   "outputs": [],
   "source": []
  }
 ],
 "metadata": {
  "kernelspec": {
   "display_name": "Python 3.9.12 ('.venv': venv)",
   "language": "python",
   "name": "python3"
  },
  "language_info": {
   "codemirror_mode": {
    "name": "ipython",
    "version": 3
   },
   "file_extension": ".py",
   "mimetype": "text/x-python",
   "name": "python",
   "nbconvert_exporter": "python",
   "pygments_lexer": "ipython3",
   "version": "3.9.12"
  },
  "vscode": {
   "interpreter": {
    "hash": "83a965fbd9caaef1ac669cb00158f62aa8637cbd3fed5f3f120d8d27184c7387"
   }
  }
 },
 "nbformat": 4,
 "nbformat_minor": 5
}
