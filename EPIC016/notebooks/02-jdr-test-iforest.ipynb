{
 "cells": [
  {
   "cell_type": "markdown",
   "metadata": {},
   "source": [
    "# Producción EPIC016 - Isolation Forest"
   ]
  },
  {
   "cell_type": "markdown",
   "metadata": {},
   "source": [
    "## 1. Importación de librerías"
   ]
  },
  {
   "cell_type": "code",
   "execution_count": 11,
   "metadata": {},
   "outputs": [],
   "source": [
    "from random import sample\n",
    "\n",
    "import matplotlib.pyplot as plt\n",
    "import numpy as np\n",
    "import pandas as pd\n",
    "import seaborn as sns\n",
    "from sklearn import metrics\n",
    "from sklearn.cluster import KMeans\n",
    "from sklearn.ensemble import IsolationForest\n",
    "from sklearn.preprocessing import MinMaxScaler\n",
    "import pickle\n",
    "\n",
    "#Mostrar todas las columnas de un dataframe\n",
    "pd.set_option('display.max_columns', None)\n",
    "\n",
    "import warnings\n",
    "\n",
    "warnings.filterwarnings('ignore')\n",
    "\n",
    "%matplotlib inline"
   ]
  },
  {
   "cell_type": "markdown",
   "metadata": {},
   "source": [
    "## 2. Importación data"
   ]
  },
  {
   "cell_type": "code",
   "execution_count": 6,
   "metadata": {},
   "outputs": [
    {
     "data": {
      "text/plain": [
       "(52568, 12)"
      ]
     },
     "execution_count": 6,
     "metadata": {},
     "output_type": "execute_result"
    }
   ],
   "source": [
    "#Seleccionar ruta de la data\n",
    "dataframe = pd.read_csv(r'../data/modeling/01_raw.csv', encoding='latin')\n",
    "dataframe.shape"
   ]
  },
  {
   "cell_type": "markdown",
   "metadata": {},
   "source": [
    "## 3. Feature engineering"
   ]
  },
  {
   "cell_type": "code",
   "execution_count": 7,
   "metadata": {},
   "outputs": [
    {
     "data": {
      "text/plain": [
       "(52568, 16)"
      ]
     },
     "execution_count": 7,
     "metadata": {},
     "output_type": "execute_result"
    }
   ],
   "source": [
    "#Cambio nombre de columna\n",
    "dataframe.rename(columns = {'NUMPERIODO':'PERIODO'}, inplace = True)\n",
    "\n",
    "#Creo variable FLG_ANSLBNP que es la unión de las variables FLG_AN y FLG_LSBNP\n",
    "#Inicializo la variable en cero\n",
    "dataframe['FLG_ANLSBNP']=0\n",
    "#Creo las condicionales donde dependiendo de la  categoría de la variable inical pinto como 1\n",
    "dataframe.loc[(dataframe.FLG_AN==1) & (dataframe.FLG_LSB_NP==1),'FLG_ANLSBNP' ] = 1\n",
    "dataframe.loc[(dataframe.FLG_AN==1) & (dataframe.FLG_LSB_NP==0),'FLG_ANLSBNP' ] = 1\n",
    "dataframe.loc[(dataframe.FLG_AN==0) & (dataframe.FLG_LSB_NP==1),'FLG_ANLSBNP' ] = 1\n",
    "#Creo variables dummy de los tipos de persona para luego analizarlo en el perfilamiento (No es parte del modelamiento esta variable)\n",
    "data_dummies=pd.get_dummies(dataframe['TIPPER_AGRUP']).astype(int)\n",
    "#Agrego las variables dummies creadas al dataframe original\n",
    "dataframe = pd.concat([dataframe, data_dummies], axis = 1)\n",
    "\n",
    "dataframe.shape"
   ]
  },
  {
   "cell_type": "markdown",
   "metadata": {},
   "source": [
    "## 3. Universo"
   ]
  },
  {
   "cell_type": "code",
   "execution_count": 8,
   "metadata": {},
   "outputs": [
    {
     "data": {
      "text/plain": [
       "(5892, 16)"
      ]
     },
     "execution_count": 8,
     "metadata": {},
     "output_type": "execute_result"
    }
   ],
   "source": [
    "#Por ser test, ultimo periodo y monto de ingresos mayor a 1000\n",
    "dataset=dataframe.loc[(dataframe['PERIODO']==202207) & (dataframe['MTO_INGRESOS']>1000)]\n",
    "dataset.shape"
   ]
  },
  {
   "cell_type": "code",
   "execution_count": 9,
   "metadata": {},
   "outputs": [],
   "source": [
    "dataset.to_csv(r'../data/modeling/02_test_preprocessed.csv',index=False,sep='|')"
   ]
  },
  {
   "cell_type": "code",
   "execution_count": 10,
   "metadata": {},
   "outputs": [],
   "source": [
    "#Selecciono solo las variables que necesita el modelo\n",
    "ds=dataset[['MTO_INGRESOS', 'POR_CASH', 'FLG_PERFIL_3DESVT_TRX', 'FLG_ANLSBNP']]"
   ]
  },
  {
   "cell_type": "markdown",
   "metadata": {},
   "source": [
    "## 4. Ejecución de modelo"
   ]
  },
  {
   "cell_type": "code",
   "execution_count": 14,
   "metadata": {},
   "outputs": [],
   "source": [
    "#Cargo modelo:\n",
    "model_path = r'../src/03_models/IF_MEpic16.model'\n",
    "loaded_model = pickle.load(open(model_path, \"rb\"))"
   ]
  },
  {
   "cell_type": "code",
   "execution_count": 15,
   "metadata": {},
   "outputs": [
    {
     "data": {
      "text/html": [
       "<div>\n",
       "<style scoped>\n",
       "    .dataframe tbody tr th:only-of-type {\n",
       "        vertical-align: middle;\n",
       "    }\n",
       "\n",
       "    .dataframe tbody tr th {\n",
       "        vertical-align: top;\n",
       "    }\n",
       "\n",
       "    .dataframe thead th {\n",
       "        text-align: right;\n",
       "    }\n",
       "</style>\n",
       "<table border=\"1\" class=\"dataframe\">\n",
       "  <thead>\n",
       "    <tr style=\"text-align: right;\">\n",
       "      <th></th>\n",
       "      <th>PERIODO</th>\n",
       "      <th>CODCLAVECIC</th>\n",
       "      <th>TIPPER_AGRUP</th>\n",
       "      <th>MTO_INGRESOS</th>\n",
       "      <th>MTO_EGRESOS</th>\n",
       "      <th>RATIO_ING_TOT</th>\n",
       "      <th>POR_CASH</th>\n",
       "      <th>FLG_PERFIL_3DESVT_TRX</th>\n",
       "      <th>FLG_AN</th>\n",
       "      <th>FLG_LSB_NP</th>\n",
       "      <th>MEDIA_DEP</th>\n",
       "      <th>DESV_DEP</th>\n",
       "      <th>FLG_ANLSBNP</th>\n",
       "      <th>PJ</th>\n",
       "      <th>PN_CN</th>\n",
       "      <th>PN_SN</th>\n",
       "      <th>Outlier</th>\n",
       "    </tr>\n",
       "  </thead>\n",
       "  <tbody>\n",
       "    <tr>\n",
       "      <th>7</th>\n",
       "      <td>202207</td>\n",
       "      <td>654705</td>\n",
       "      <td>PN_SN</td>\n",
       "      <td>195066.42</td>\n",
       "      <td>325352.23</td>\n",
       "      <td>0.37</td>\n",
       "      <td>0.31</td>\n",
       "      <td>0</td>\n",
       "      <td>1</td>\n",
       "      <td>0</td>\n",
       "      <td>483924.06</td>\n",
       "      <td>227490.43</td>\n",
       "      <td>1</td>\n",
       "      <td>0</td>\n",
       "      <td>0</td>\n",
       "      <td>1</td>\n",
       "      <td>1</td>\n",
       "    </tr>\n",
       "    <tr>\n",
       "      <th>15</th>\n",
       "      <td>202207</td>\n",
       "      <td>661429</td>\n",
       "      <td>PN_SN</td>\n",
       "      <td>4849.95</td>\n",
       "      <td>18483.54</td>\n",
       "      <td>0.21</td>\n",
       "      <td>0.00</td>\n",
       "      <td>0</td>\n",
       "      <td>0</td>\n",
       "      <td>0</td>\n",
       "      <td>4615.55</td>\n",
       "      <td>6369.96</td>\n",
       "      <td>0</td>\n",
       "      <td>0</td>\n",
       "      <td>0</td>\n",
       "      <td>1</td>\n",
       "      <td>1</td>\n",
       "    </tr>\n",
       "    <tr>\n",
       "      <th>37</th>\n",
       "      <td>202207</td>\n",
       "      <td>614713</td>\n",
       "      <td>PN_SN</td>\n",
       "      <td>10021.17</td>\n",
       "      <td>22351.98</td>\n",
       "      <td>0.31</td>\n",
       "      <td>0.00</td>\n",
       "      <td>0</td>\n",
       "      <td>0</td>\n",
       "      <td>0</td>\n",
       "      <td>85813.06</td>\n",
       "      <td>41125.28</td>\n",
       "      <td>0</td>\n",
       "      <td>0</td>\n",
       "      <td>0</td>\n",
       "      <td>1</td>\n",
       "      <td>1</td>\n",
       "    </tr>\n",
       "    <tr>\n",
       "      <th>42</th>\n",
       "      <td>202207</td>\n",
       "      <td>622915</td>\n",
       "      <td>PN_CN</td>\n",
       "      <td>66696.89</td>\n",
       "      <td>1576.32</td>\n",
       "      <td>0.98</td>\n",
       "      <td>0.00</td>\n",
       "      <td>0</td>\n",
       "      <td>0</td>\n",
       "      <td>0</td>\n",
       "      <td>53336.22</td>\n",
       "      <td>16484.24</td>\n",
       "      <td>0</td>\n",
       "      <td>0</td>\n",
       "      <td>1</td>\n",
       "      <td>0</td>\n",
       "      <td>1</td>\n",
       "    </tr>\n",
       "    <tr>\n",
       "      <th>51</th>\n",
       "      <td>202207</td>\n",
       "      <td>628945</td>\n",
       "      <td>PN_SN</td>\n",
       "      <td>9365.05</td>\n",
       "      <td>1248.76</td>\n",
       "      <td>0.88</td>\n",
       "      <td>0.00</td>\n",
       "      <td>0</td>\n",
       "      <td>0</td>\n",
       "      <td>0</td>\n",
       "      <td>30163.98</td>\n",
       "      <td>23838.18</td>\n",
       "      <td>0</td>\n",
       "      <td>0</td>\n",
       "      <td>0</td>\n",
       "      <td>1</td>\n",
       "      <td>1</td>\n",
       "    </tr>\n",
       "  </tbody>\n",
       "</table>\n",
       "</div>"
      ],
      "text/plain": [
       "    PERIODO  CODCLAVECIC TIPPER_AGRUP  MTO_INGRESOS  MTO_EGRESOS  \\\n",
       "7    202207       654705        PN_SN     195066.42    325352.23   \n",
       "15   202207       661429        PN_SN       4849.95     18483.54   \n",
       "37   202207       614713        PN_SN      10021.17     22351.98   \n",
       "42   202207       622915        PN_CN      66696.89      1576.32   \n",
       "51   202207       628945        PN_SN       9365.05      1248.76   \n",
       "\n",
       "    RATIO_ING_TOT  POR_CASH  FLG_PERFIL_3DESVT_TRX  FLG_AN  FLG_LSB_NP  \\\n",
       "7            0.37      0.31                      0       1           0   \n",
       "15           0.21      0.00                      0       0           0   \n",
       "37           0.31      0.00                      0       0           0   \n",
       "42           0.98      0.00                      0       0           0   \n",
       "51           0.88      0.00                      0       0           0   \n",
       "\n",
       "    MEDIA_DEP   DESV_DEP  FLG_ANLSBNP  PJ  PN_CN  PN_SN  Outlier  \n",
       "7   483924.06  227490.43            1   0      0      1        1  \n",
       "15    4615.55    6369.96            0   0      0      1        1  \n",
       "37   85813.06   41125.28            0   0      0      1        1  \n",
       "42   53336.22   16484.24            0   0      1      0        1  \n",
       "51   30163.98   23838.18            0   0      0      1        1  "
      ]
     },
     "execution_count": 15,
     "metadata": {},
     "output_type": "execute_result"
    }
   ],
   "source": [
    "#Aplico el modelo cargado sobre la data. Columna Outlier es la que tiene el resultado del modelo\n",
    "dataset['Outlier']=loaded_model.predict(ds)\n",
    "dataset.head()"
   ]
  },
  {
   "cell_type": "code",
   "execution_count": 16,
   "metadata": {},
   "outputs": [
    {
     "data": {
      "text/plain": [
       "Outlier\n",
       "-1      44\n",
       " 1    5848\n",
       "dtype: int64"
      ]
     },
     "execution_count": 16,
     "metadata": {},
     "output_type": "execute_result"
    }
   ],
   "source": [
    "#Verifico casos considerados como outlier\n",
    "dataset.groupby(['Outlier']).size()"
   ]
  },
  {
   "cell_type": "code",
   "execution_count": 17,
   "metadata": {},
   "outputs": [],
   "source": [
    "#Exporto la data con la columna Outlier recién creada\n",
    "dataset.to_csv(r'../data/modeling/03_test_output.csv',index=False)\n",
    "\n",
    "\n",
    "#Línea si se necesita separador |\n",
    "#dataset.to_csv(r'Output_model.csv',index=False,sep='|')"
   ]
  },
  {
   "cell_type": "code",
   "execution_count": 19,
   "metadata": {},
   "outputs": [
    {
     "name": "stdout",
     "output_type": "stream",
     "text": [
      "The scikit-learn version is 1.1.3.\n"
     ]
    }
   ],
   "source": [
    "#Registro de versión de python y scikit-learn con la que fue hecho el modelo\n",
    "import sklearn\n",
    "\n",
    "print('The scikit-learn version is {}.'.format(sklearn.__version__))"
   ]
  }
 ],
 "metadata": {
  "kernelspec": {
   "display_name": "Python 3.9.12 64-bit",
   "language": "python",
   "name": "python3"
  },
  "language_info": {
   "codemirror_mode": {
    "name": "ipython",
    "version": 3
   },
   "file_extension": ".py",
   "mimetype": "text/x-python",
   "name": "python",
   "nbconvert_exporter": "python",
   "pygments_lexer": "ipython3",
   "version": "3.9.12"
  },
  "vscode": {
   "interpreter": {
    "hash": "12ce5fc30f6e3bab3ee56af768ed9428bb14776786055db73b88e0c48a08ffd4"
   }
  }
 },
 "nbformat": 4,
 "nbformat_minor": 2
}
