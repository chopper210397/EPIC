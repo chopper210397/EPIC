{
 "cells": [
  {
   "cell_type": "code",
   "execution_count": null,
   "metadata": {},
   "outputs": [],
   "source": [
    "import numpy as np\n",
    "import pandas as pd\n",
    "\n",
    "import warnings\n",
    "warnings.filterwarnings('ignore')"
   ]
  },
  {
   "cell_type": "code",
   "execution_count": null,
   "metadata": {},
   "outputs": [],
   "source": [
    "base = pd.read_csv('../data/modeling/01_raw.csv')\n",
    "print(base.shape)\n",
    "base.head()"
   ]
  },
  {
   "cell_type": "code",
   "execution_count": null,
   "metadata": {},
   "outputs": [],
   "source": [
    "base=base[base.NUMPERIODO>=201911]\n",
    "base=base[base.MTO_EGRESOS>50000]"
   ]
  },
  {
   "cell_type": "code",
   "execution_count": null,
   "metadata": {},
   "outputs": [],
   "source": [
    "variables_modelo = ['MTO_EGRESOS', 'MTO_EXT', 'PCTJE_EXT', 'CTD_DIAS_DEBAJOLAVA02', 'FLG_PERFIL_3DESVT', 'FLG_ROS_REL', 'FLG_REL_EXTRANJ', 'FLG_AN_BEN', 'FLG_REL_PEP', 'FLG_LSB_NP_BEN']"
   ]
  },
  {
   "cell_type": "code",
   "execution_count": null,
   "metadata": {},
   "outputs": [],
   "source": [
    "base2 = base[[\"NUMPERIODO\",\"CODCLAVECIC\"]+variables_modelo]\n",
    "base2[\"FLG_REL_PEP\"] = base2[\"FLG_REL_PEP\"].fillna(0)\n",
    "base2.FLG_REL_PEP.value_counts()"
   ]
  },
  {
   "cell_type": "code",
   "execution_count": null,
   "metadata": {},
   "outputs": [],
   "source": [
    "base2.loc[base2[\"FLG_REL_EXTRANJ\"]==9,\"FLG_REL_EXTRANJ\"]=0"
   ]
  },
  {
   "cell_type": "code",
   "execution_count": null,
   "metadata": {},
   "outputs": [],
   "source": [
    "base2.to_csv(\"../data/modeling/02_preprocessed.csv\", sep=\"|\", index = False)"
   ]
  },
  {
   "cell_type": "code",
   "execution_count": null,
   "metadata": {},
   "outputs": [],
   "source": []
  }
 ],
 "metadata": {
  "kernelspec": {
   "display_name": ".venv",
   "language": "python",
   "name": "python3"
  },
  "language_info": {
   "codemirror_mode": {
    "name": "ipython",
    "version": 3
   },
   "file_extension": ".py",
   "mimetype": "text/x-python",
   "name": "python",
   "nbconvert_exporter": "python",
   "pygments_lexer": "ipython3",
   "version": "3.9.12"
  },
  "orig_nbformat": 4
 },
 "nbformat": 4,
 "nbformat_minor": 2
}
