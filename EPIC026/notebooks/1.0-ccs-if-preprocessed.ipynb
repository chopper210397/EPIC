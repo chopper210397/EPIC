{
 "cells": [
  {
   "cell_type": "code",
   "execution_count": null,
   "metadata": {},
   "outputs": [],
   "source": [
    "import numpy as np\n",
    "import pandas as pd\n",
    "import warnings\n",
    "warnings.filterwarnings('ignore')"
   ]
  },
  {
   "cell_type": "code",
   "execution_count": null,
   "metadata": {},
   "outputs": [],
   "source": [
    "#Seleccionar ruta de la data\n",
    "dataframe =  pd.read_csv('../data/modeling/01_raw.csv',encoding='latin')\n",
    "print(dataframe.shape)"
   ]
  },
  {
   "cell_type": "code",
   "execution_count": null,
   "metadata": {},
   "outputs": [],
   "source": [
    "conditions = [(dataframe.TIPPER == \"E\") & (dataframe.CATPROFESION == 2), (dataframe.TIPPER == \"P\") & ((dataframe.CATPROFESION == 1) | (dataframe.CATPROFESION == 2))]\n",
    "values = [0, 1]\n",
    "dataframe[\"PROFESION_DUMMY\"] = np.select(conditions, values, default=0)"
   ]
  },
  {
   "cell_type": "code",
   "execution_count": null,
   "metadata": {},
   "outputs": [],
   "source": [
    "#Transformo variables\n",
    "dataframe['TIPPER'].replace(['P','E'],[0,1],inplace=True)\n",
    "dataframe['FLGARCHIVONEGATIVO'].replace([0,1],[0,50],inplace=True)\n",
    "dataframe['FLG_PERFIL_3DS'].replace([0,1],[0,50],inplace=True)\n",
    "dataframe[\"ACTECO_DUMMY\"] = np.where(np.isin(dataframe.ACT_ECONOMICA_GRUPOSINTERES,(1,2,3)), 1, 0)"
   ]
  },
  {
   "cell_type": "code",
   "execution_count": null,
   "metadata": {},
   "outputs": [],
   "source": [
    "dataframe['PROFECIIU']= dataframe['ACTECO_DUMMY']+dataframe['PROFESION_DUMMY']\n",
    "dataframe['PROFECIIU'].replace([0,1,2],[0,50,50],inplace=True)"
   ]
  },
  {
   "cell_type": "code",
   "execution_count": null,
   "metadata": {},
   "outputs": [],
   "source": [
    "dataframe.to_csv('../data/modeling/02_preprocessed.csv', sep=\"|\", index = False)"
   ]
  }
 ],
 "metadata": {
  "kernelspec": {
   "display_name": ".venv",
   "language": "python",
   "name": "python3"
  },
  "language_info": {
   "codemirror_mode": {
    "name": "ipython",
    "version": 3
   },
   "file_extension": ".py",
   "mimetype": "text/x-python",
   "name": "python",
   "nbconvert_exporter": "python",
   "pygments_lexer": "ipython3",
   "version": "3.9.12"
  },
  "orig_nbformat": 4
 },
 "nbformat": 4,
 "nbformat_minor": 2
}
