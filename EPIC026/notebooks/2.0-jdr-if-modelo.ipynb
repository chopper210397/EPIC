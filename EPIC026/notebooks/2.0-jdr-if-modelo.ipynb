{
 "cells": [
  {
   "attachments": {},
   "cell_type": "markdown",
   "metadata": {},
   "source": [
    "## Isolation Forest HBK"
   ]
  },
  {
   "cell_type": "code",
   "execution_count": null,
   "metadata": {},
   "outputs": [],
   "source": [
    "import numpy as np\n",
    "import pandas as pd\n",
    "from sklearn.ensemble import IsolationForest\n",
    "import pickle\n",
    "import warnings\n",
    "warnings.filterwarnings('ignore')\n",
    "#Mostrar todas las columnas de un dataframe\n",
    "pd.set_option('display.max_columns', None)"
   ]
  },
  {
   "cell_type": "code",
   "execution_count": null,
   "metadata": {},
   "outputs": [],
   "source": [
    "#Seleccionar ruta de la data\n",
    "dataframe = pd.read_csv('../data/modeling/02_preprocessed.csv',sep= \"|\", encoding='latin')\n",
    "dataframe.shape"
   ]
  },
  {
   "cell_type": "code",
   "execution_count": null,
   "metadata": {},
   "outputs": [],
   "source": [
    "#Validador\n",
    "c = dataframe['PROFECIIU'].value_counts(sort=False,dropna=False)\n",
    "p = dataframe['PROFECIIU'].value_counts(sort=False,dropna=False, normalize=True).mul(100).round(2)\n",
    "pd.concat([c,p], axis=1, keys=['counts', '%'])"
   ]
  },
  {
   "cell_type": "code",
   "execution_count": null,
   "metadata": {},
   "outputs": [],
   "source": [
    "dataset=dataframe.loc[((dataframe['MTODOLARIZADO']>10000) & (dataframe['MTODOLARIZADO']<200000)) & ((dataframe['PERIODO']>202102) & (dataframe['PERIODO']<202108))]\n",
    "dataset.shape"
   ]
  },
  {
   "cell_type": "code",
   "execution_count": null,
   "metadata": {
    "tags": []
   },
   "outputs": [],
   "source": [
    "ds=dataset[['MTODOLARIZADO','PAISRIESGO_MONTO','TIPPER','FLGARCHIVONEGATIVO','CTDEVAL','CTD_BENEFICIARIO','INDICE_CONCENTRADOR','RATIO']]"
   ]
  },
  {
   "cell_type": "code",
   "execution_count": null,
   "metadata": {},
   "outputs": [],
   "source": [
    "#Modelo base IF\n",
    "clf_base = IsolationForest(n_estimators = 500, contamination=0.001, random_state=7)\n",
    "clf_base.fit(ds)"
   ]
  },
  {
   "cell_type": "code",
   "execution_count": null,
   "metadata": {},
   "outputs": [],
   "source": [
    "#score de silueta\n",
    "datasetv1 = dataset.copy()\n",
    "datasetv1['IF_LABEL']=clf_base.predict(ds)"
   ]
  },
  {
   "cell_type": "code",
   "execution_count": null,
   "metadata": {},
   "outputs": [],
   "source": [
    "datasetv1.groupby(['PERIODO','IF_LABEL']).size()"
   ]
  },
  {
   "attachments": {},
   "cell_type": "markdown",
   "metadata": {},
   "source": [
    "### Test"
   ]
  },
  {
   "cell_type": "code",
   "execution_count": null,
   "metadata": {},
   "outputs": [],
   "source": [
    "df_test=dataframe.loc[((dataframe['MTODOLARIZADO']>10000) & (dataframe['MTODOLARIZADO']<200000)) & (dataframe['PERIODO']==202108)]\n",
    "df_test.shape"
   ]
  },
  {
   "cell_type": "code",
   "execution_count": null,
   "metadata": {},
   "outputs": [],
   "source": [
    "ds_test=df_test[['MTODOLARIZADO','PAISRIESGO_MONTO','TIPPER','FLGARCHIVONEGATIVO','CTDEVAL','CTD_BENEFICIARIO','INDICE_CONCENTRADOR', 'RATIO']]"
   ]
  },
  {
   "cell_type": "code",
   "execution_count": null,
   "metadata": {},
   "outputs": [],
   "source": [
    "#Aplico el modelo cargado sobre la data std\n",
    "df_test['Outlier']=clf_base.predict(ds_test)\n",
    "df_test.head()"
   ]
  },
  {
   "cell_type": "code",
   "execution_count": null,
   "metadata": {},
   "outputs": [],
   "source": [
    "#Guardar el modelo\n",
    "pickle.dump(clf_base, open('../src/02_models/if_model_39.model', 'wb'))"
   ]
  },
  {
   "cell_type": "code",
   "execution_count": null,
   "metadata": {},
   "outputs": [],
   "source": [
    "#Tamaño clusters\n",
    "df_test.groupby('Outlier').Outlier.count()"
   ]
  },
  {
   "cell_type": "code",
   "execution_count": null,
   "metadata": {},
   "outputs": [],
   "source": [
    "df_test.to_csv('../data/modeling/04_predicted.csv',index=False,sep='|',header=True)"
   ]
  },
  {
   "cell_type": "code",
   "execution_count": null,
   "metadata": {},
   "outputs": [],
   "source": []
  }
 ],
 "metadata": {
  "kernelspec": {
   "display_name": "Python 3",
   "language": "python",
   "name": "python3"
  },
  "language_info": {
   "codemirror_mode": {
    "name": "ipython",
    "version": 3
   },
   "file_extension": ".py",
   "mimetype": "text/x-python",
   "name": "python",
   "nbconvert_exporter": "python",
   "pygments_lexer": "ipython3",
   "version": "3.9.12"
  }
 },
 "nbformat": 4,
 "nbformat_minor": 4
}
