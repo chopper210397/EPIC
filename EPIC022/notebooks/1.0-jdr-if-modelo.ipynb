{
 "cells": [
  {
   "cell_type": "code",
   "execution_count": null,
   "metadata": {},
   "outputs": [],
   "source": [
    "import numpy as np\n",
    "import pandas as pd\n",
    "from math import sqrt\n",
    "from sklearn.ensemble import IsolationForest\n",
    "import pickle\n",
    "import warnings\n",
    "warnings.filterwarnings('ignore')"
   ]
  },
  {
   "cell_type": "code",
   "execution_count": null,
   "metadata": {},
   "outputs": [],
   "source": [
    "#Seleccionar ruta de la data\n",
    "dataframe = pd.read_csv('../data/modeling/01_raw.csv',encoding='latin_1',infer_datetime_format=True)\n",
    "print('Nro filas: ' + str(dataframe.shape[0]))\n"
   ]
  },
  {
   "cell_type": "code",
   "execution_count": null,
   "metadata": {},
   "outputs": [],
   "source": [
    "#Opcional: Filtrar data\n",
    "dataset= dataframe[(dataframe.MTO_TOTAL_CASH>10000) & (dataframe.PERIODO<=202002) & (dataframe.FLGNACIONALIDAD.notna())]\n",
    "test= dataframe[(dataframe.MTO_TOTAL_CASH>10000) & (dataframe.PERIODO==202003) & (dataframe.FLGNACIONALIDAD.notna())]"
   ]
  },
  {
   "cell_type": "code",
   "execution_count": null,
   "metadata": {},
   "outputs": [],
   "source": [
    "ds=dataset[['ANTIGUEDADCLI','EDAD','CODPAISNACIONALIDAD','FLGNACIONALIDAD','CATPROFESION','MTO_TOTAL_CASH','MTO_TOTAL','CTD_TOTAL_CASH',\n",
    "            'MTO_CHQGEN','PORC_CHQGEN','FLGAGENTE','MTO_TOTAL_CASH_ZAED', 'CTD_CASH_ZAED', 'CTD_DIAS_DEBAJOLAVA']]"
   ]
  },
  {
   "cell_type": "code",
   "execution_count": null,
   "metadata": {},
   "outputs": [],
   "source": [
    "ds_test=test[['ANTIGUEDADCLI','EDAD','CODPAISNACIONALIDAD','FLGNACIONALIDAD','CATPROFESION','MTO_TOTAL_CASH','MTO_TOTAL','CTD_TOTAL_CASH',\n",
    "              'MTO_CHQGEN','PORC_CHQGEN','FLGAGENTE','MTO_TOTAL_CASH_ZAED','CTD_CASH_ZAED','CTD_DIAS_DEBAJOLAVA']]"
   ]
  },
  {
   "cell_type": "code",
   "execution_count": null,
   "metadata": {},
   "outputs": [],
   "source": [
    "ds['EDAD'] = dataset['EDAD'].fillna(dataset['EDAD'].mean())\n",
    "ds_test['EDAD'] = test['EDAD'].fillna(test['EDAD'].mean())"
   ]
  },
  {
   "cell_type": "code",
   "execution_count": null,
   "metadata": {},
   "outputs": [],
   "source": [
    "ds_exp2=ds[['ANTIGUEDADCLI','EDAD','MTO_TOTAL_CASH','MTO_TOTAL','CTD_TOTAL_CASH','MTO_CHQGEN','PORC_CHQGEN','MTO_TOTAL_CASH_ZAED','CTD_CASH_ZAED','CTD_DIAS_DEBAJOLAVA']]"
   ]
  },
  {
   "cell_type": "code",
   "execution_count": null,
   "metadata": {},
   "outputs": [],
   "source": [
    "#Escogemos contamination = 0.02\n",
    "ki = 0.02\n",
    "clf_exp2 = IsolationForest(n_estimators = 1000, contamination = ki, random_state=18, max_samples = 'auto', max_features = 1.0, bootstrap = False)\n",
    "\n",
    "#Genera modelo\n",
    "clf_exp2.fit(ds_exp2)\n",
    "#Corre sobre data\n",
    "y_pred_exp2 = clf_exp2.predict(ds_exp2)\n",
    "\n",
    "#Copio dataset\n",
    "dataset_exp2 = dataset.copy()\n",
    "#Creo nueva variable \n",
    "dataset_exp2['if_pred']=clf_exp2.predict(ds_exp2)\n",
    "print(\"cantidad de contaminacion: \",ki)\n",
    "print(dataset_exp2.groupby(['if_pred']).size())"
   ]
  },
  {
   "cell_type": "code",
   "execution_count": null,
   "metadata": {},
   "outputs": [],
   "source": [
    "#Guardar el modelo\n",
    "pickle.dump(clf_exp2, open('../src/02_models/isolation_forest_model_39.model', 'wb'))"
   ]
  },
  {
   "cell_type": "code",
   "execution_count": null,
   "metadata": {},
   "outputs": [],
   "source": [
    "dataset_exp2.to_csv(r'../data/modeling/04_predicted.csv', sep='|', index = False)"
   ]
  },
  {
   "cell_type": "code",
   "execution_count": null,
   "metadata": {},
   "outputs": [],
   "source": []
  }
 ],
 "metadata": {
  "kernelspec": {
   "display_name": "Python 3",
   "language": "python",
   "name": "python3"
  },
  "language_info": {
   "codemirror_mode": {
    "name": "ipython",
    "version": 3
   },
   "file_extension": ".py",
   "mimetype": "text/x-python",
   "name": "python",
   "nbconvert_exporter": "python",
   "pygments_lexer": "ipython3",
   "version": "3.9.12"
  }
 },
 "nbformat": 4,
 "nbformat_minor": 4
}
