{
 "cells": [
  {
   "cell_type": "markdown",
   "metadata": {},
   "source": [
    "## Producción Modelo PEP"
   ]
  },
  {
   "cell_type": "code",
   "execution_count": null,
   "metadata": {},
   "outputs": [],
   "source": [
    "#Set up\n",
    "import numpy as np\n",
    "import pandas as pd\n",
    "import matplotlib.pyplot as plt\n",
    "from sklearn.preprocessing import scale\n",
    "from sklearn.preprocessing import StandardScaler\n",
    "from scipy import stats\n",
    "from sklearn.cluster import KMeans\n",
    "from random import sample\n",
    "import warnings\n",
    "warnings.filterwarnings('ignore')\n",
    "%matplotlib inline"
   ]
  },
  {
   "cell_type": "code",
   "execution_count": null,
   "metadata": {},
   "outputs": [],
   "source": [
    "#Importo la data\n",
    "dataframe = pd.read_csv('../data/modeling/02_preprocessed.csv',encoding='ansi',infer_datetime_format=True,sep=\"|\")\n",
    "print('Nro filas: ' + str(dataframe.shape[0]))"
   ]
  },
  {
   "cell_type": "code",
   "execution_count": null,
   "metadata": {},
   "outputs": [],
   "source": [
    "#Selecciono las variables que utiliza el modelo\n",
    "dataset = dataframe[['CTDNP',\n",
    "                    'CTDLSB',\n",
    "                    'CTDEVALS', 'FLGARCHIVONEGATIVO',\n",
    "                    'CTD_CTAS_NUEVAS',\n",
    "                    'MTO_TOTAL',\n",
    "                    'MTO_CASH',\n",
    "                    'MTO_TIB',\n",
    "                    'MTO_DEL_TTEE',\n",
    "                    'MTO_EMP_REL_NOPDH',\n",
    "                    'FLG_INGR_TER_NP_LSB',\n",
    "                    'FLG_INGR_TER_AN',\n",
    "                    'CTD_DEPO_10K',\n",
    "                    'CTD_INGR_REL_NPLSP',\n",
    "                    'MTO_EGRESO',\n",
    "                    'MTO_AL_TTEE',\n",
    "                    'FLG_PERFIL_INGTOTAL_3DS',\n",
    "                    'FLG_PERFIL_INGCASH_3DS',\n",
    "                    'FLG_PERFIL_EGR_3DS',\n",
    "                    'FLG_PERFIL_ING_EGR_3DS',\n",
    "                    'FLG_PERFIL_AL_DEL_TTEE_3DS',\n",
    "                    'FLG_PERFIL_INGR_VS_ESTIM']]"
   ]
  },
  {
   "cell_type": "code",
   "execution_count": null,
   "metadata": {},
   "outputs": [],
   "source": [
    "#Separo para estandarización\n",
    "cuantis = dataset[[\n",
    "                    'CTDNP',\n",
    "                    'CTDLSB',\n",
    "                    'CTDEVALS',\n",
    "                    'CTD_CTAS_NUEVAS',\n",
    "                    'MTO_TOTAL',\n",
    "                    'MTO_CASH',\n",
    "                    'MTO_TIB',\n",
    "                    'MTO_DEL_TTEE',\n",
    "                    'MTO_EMP_REL_NOPDH',\n",
    "                    'CTD_DEPO_10K',\n",
    "                    'CTD_INGR_REL_NPLSP',\n",
    "                    'MTO_EGRESO',\n",
    "                    'MTO_AL_TTEE']]\n",
    "flags = dataset[[\n",
    "                'FLGARCHIVONEGATIVO',\n",
    "                'FLG_INGR_TER_NP_LSB',\n",
    "                'FLG_INGR_TER_AN',\n",
    "                'FLG_PERFIL_INGTOTAL_3DS',\n",
    "                'FLG_PERFIL_INGCASH_3DS',\n",
    "                'FLG_PERFIL_EGR_3DS',\n",
    "                'FLG_PERFIL_ING_EGR_3DS',\n",
    "                'FLG_PERFIL_AL_DEL_TTEE_3DS',\n",
    "                'FLG_PERFIL_INGR_VS_ESTIM']]"
   ]
  },
  {
   "cell_type": "code",
   "execution_count": null,
   "metadata": {},
   "outputs": [],
   "source": [
    "#Estandarizo la data\n",
    "cuantis_aux = StandardScaler().fit_transform(cuantis)\n",
    "cuantis_std = pd.DataFrame(cuantis_aux, index=cuantis.index, columns=cuantis.columns)"
   ]
  },
  {
   "cell_type": "code",
   "execution_count": null,
   "metadata": {},
   "outputs": [],
   "source": [
    "#Join df\n",
    "data_cluster = cuantis_std.join(flags)"
   ]
  },
  {
   "cell_type": "code",
   "execution_count": null,
   "metadata": {},
   "outputs": [],
   "source": [
    "clustering=KMeans(n_clusters=7, n_init=10, max_iter=300, init='k-means++',random_state = 18)\n",
    "clustering.fit(data_cluster)\n",
    "dataset['Kmeans_cluster']=clustering.labels_"
   ]
  },
  {
   "cell_type": "code",
   "execution_count": null,
   "metadata": {},
   "outputs": [],
   "source": [
    "dataset.head(5)"
   ]
  },
  {
   "cell_type": "code",
   "execution_count": null,
   "metadata": {},
   "outputs": [],
   "source": [
    "import pickle\n",
    "pickle.dump(clustering, open('../src/02_models/kmeans_model_39.model', 'wb'))"
   ]
  },
  {
   "cell_type": "code",
   "execution_count": null,
   "metadata": {},
   "outputs": [],
   "source": [
    "#dataset.to_csv(\"dataset_kmeans_csv.csv\",sep=';')\n",
    "dataset.to_csv(\"../data/modeling/04_predicted.csv\",sep='|')"
   ]
  }
 ],
 "metadata": {
  "kernelspec": {
   "display_name": "Python 3",
   "language": "python",
   "name": "python3"
  },
  "language_info": {
   "codemirror_mode": {
    "name": "ipython",
    "version": 3
   },
   "file_extension": ".py",
   "mimetype": "text/x-python",
   "name": "python",
   "nbconvert_exporter": "python",
   "pygments_lexer": "ipython3",
   "version": "3.9.12"
  }
 },
 "nbformat": 4,
 "nbformat_minor": 4
}
