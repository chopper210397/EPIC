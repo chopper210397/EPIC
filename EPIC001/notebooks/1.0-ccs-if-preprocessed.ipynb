{
 "cells": [
  {
   "cell_type": "code",
   "execution_count": null,
   "metadata": {},
   "outputs": [],
   "source": [
    "import numpy as np\n",
    "import pandas as pd\n",
    "import warnings\n",
    "warnings.filterwarnings('ignore')"
   ]
  },
  {
   "cell_type": "code",
   "execution_count": null,
   "metadata": {},
   "outputs": [],
   "source": [
    "#Seleccionar ruta de la data\n",
    "dataframe = pd.read_csv('../data/modeling/01_raw.csv', encoding='latin')\n",
    "print('Filas: ' + str(dataframe.shape[0]))"
   ]
  },
  {
   "cell_type": "code",
   "execution_count": null,
   "metadata": {},
   "outputs": [],
   "source": [
    "#transformacion de varaibles\n",
    "dataframe['FLG_PAISRIESGO'].replace([0,1],[0,50],inplace=True)\n",
    "dataframe['MTO_TOTAL_OPE']=dataframe['MTO_OPEPOS']+dataframe['MTO_OPEATM']\n",
    "dataframe['CTD_TOTAL_OPE']=dataframe['CTD_OPEPOS']+dataframe['CTD_OPEATM']"
   ]
  },
  {
   "cell_type": "code",
   "execution_count": null,
   "metadata": {},
   "outputs": [],
   "source": [
    "#universo\n",
    "dataset=dataframe.loc[(dataframe['PERIODO']<202111) & (dataframe['MTO_TOTAL_OPE']>1000)]\n",
    "dataset.shape"
   ]
  },
  {
   "cell_type": "code",
   "execution_count": null,
   "metadata": {},
   "outputs": [],
   "source": [
    "dataset.to_csv('../data/modeling/02_preprocessed.csv', sep=\"|\", index = False)"
   ]
  },
  {
   "cell_type": "code",
   "execution_count": null,
   "metadata": {},
   "outputs": [],
   "source": []
  }
 ],
 "metadata": {
  "kernelspec": {
   "display_name": ".venv",
   "language": "python",
   "name": "python3"
  },
  "language_info": {
   "codemirror_mode": {
    "name": "ipython",
    "version": 3
   },
   "file_extension": ".py",
   "mimetype": "text/x-python",
   "name": "python",
   "nbconvert_exporter": "python",
   "pygments_lexer": "ipython3",
   "version": "3.9.12"
  },
  "orig_nbformat": 4
 },
 "nbformat": 4,
 "nbformat_minor": 2
}
