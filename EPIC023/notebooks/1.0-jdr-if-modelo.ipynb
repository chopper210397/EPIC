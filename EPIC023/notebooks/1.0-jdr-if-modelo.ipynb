{
 "cells": [
  {
   "cell_type": "code",
   "execution_count": null,
   "metadata": {},
   "outputs": [],
   "source": [
    "import numpy as np\n",
    "import pandas as pd\n",
    "from sklearn.ensemble import IsolationForest\n",
    "import pickle\n",
    "#Mostrar todas las columnas de un dataframe\n",
    "pd.set_option('display.max_columns', None)\n",
    "\n",
    "import warnings\n",
    "warnings.filterwarnings('ignore')"
   ]
  },
  {
   "cell_type": "code",
   "execution_count": null,
   "metadata": {},
   "outputs": [],
   "source": [
    "#Seleccionar ruta de la data\n",
    "dataframe = pd.read_csv('../data/modeling/01_raw.csv')\n",
    "print('Filas: ' + str(dataframe.shape[0]))\n",
    "print('Columnas: ' + str(dataframe.shape[1]))"
   ]
  },
  {
   "cell_type": "code",
   "execution_count": null,
   "metadata": {},
   "outputs": [],
   "source": [
    "#Opcional: Filtrar data\n",
    "dataset= dataframe[(dataframe.PERIODO<=202002)]\n",
    "test= dataframe[(dataframe.PERIODO==202003)]"
   ]
  },
  {
   "cell_type": "code",
   "execution_count": null,
   "metadata": {},
   "outputs": [],
   "source": [
    "dataset['EDAD'] = dataset['EDAD'].fillna(dataset['EDAD'].median())\n",
    "test['EDAD'] = test['EDAD'].fillna(test['EDAD'].median())\n",
    "dataset['ANTIGUEDAD'] = dataset['ANTIGUEDAD'].fillna(dataset['ANTIGUEDAD'].median())\n",
    "test['ANTIGUEDAD'] = test['ANTIGUEDAD'].fillna(test['ANTIGUEDAD'].median())"
   ]
  },
  {
   "cell_type": "code",
   "execution_count": null,
   "metadata": {},
   "outputs": [],
   "source": [
    "ds=dataset[['EDAD','TIPPER','CATPROFESION','ANTIGUEDAD','TIPCLI','DESSEGMENTO','FLGNOCLIENTE',\n",
    "            'FLG_ACTECO_NODEF','CTD_AN_NP_LSB','CTDEVAL','CTD_ORDENATES_DISTINTOS','MTO_COMPRA',\n",
    "            'MTO_VENTA','CTD_COMPRA','CTD_VENTA','MTO_ZAED','CTD_ZAED','CTD_DIAS','FLG_PERFIL_DEPOSITOS_3DS',\n",
    "            'CTD_TRX_LIM']]"
   ]
  },
  {
   "cell_type": "code",
   "execution_count": null,
   "metadata": {},
   "outputs": [],
   "source": [
    "ds_test=test[['EDAD','TIPPER','CATPROFESION','ANTIGUEDAD','TIPCLI','DESSEGMENTO','FLGNOCLIENTE',\n",
    "              'FLG_ACTECO_NODEF','CTD_AN_NP_LSB','CTDEVAL','CTD_ORDENATES_DISTINTOS','MTO_COMPRA',\n",
    "              'MTO_VENTA','CTD_COMPRA','CTD_VENTA','MTO_ZAED','CTD_ZAED','CTD_DIAS','FLG_PERFIL_DEPOSITOS_3DS',\n",
    "              'CTD_TRX_LIM']]"
   ]
  },
  {
   "cell_type": "code",
   "execution_count": null,
   "metadata": {},
   "outputs": [],
   "source": [
    "ds_num=dataset[['EDAD','ANTIGUEDAD','FLGNOCLIENTE','CTD_AN_NP_LSB','CTDEVAL','CTD_ORDENATES_DISTINTOS','MTO_COMPRA',\n",
    "                'MTO_VENTA','CTD_COMPRA','CTD_VENTA','MTO_ZAED','CTD_ZAED','CTD_DIAS','FLG_PERFIL_DEPOSITOS_3DS',\n",
    "                'CTD_TRX_LIM']]"
   ]
  },
  {
   "cell_type": "code",
   "execution_count": null,
   "metadata": {},
   "outputs": [],
   "source": [
    "#Modelo con variables numéricas\n",
    "clf= IsolationForest(n_estimators = 1000, random_state=7, contamination=0.001, max_samples = 'auto', max_features = 1.0, bootstrap = False)\n",
    "clf.fit(ds_num)"
   ]
  },
  {
   "cell_type": "code",
   "execution_count": null,
   "metadata": {},
   "outputs": [],
   "source": [
    "#Guardar el modelo\n",
    "pickle.dump(clf, open('../src/02_models/isolation_forest_model_39.model', 'wb'))"
   ]
  },
  {
   "cell_type": "code",
   "execution_count": null,
   "metadata": {},
   "outputs": [],
   "source": [
    "test_num=test[['EDAD','ANTIGUEDAD','FLGNOCLIENTE','CTD_AN_NP_LSB','CTDEVAL','CTD_ORDENATES_DISTINTOS','MTO_COMPRA',\n",
    "               'MTO_VENTA','CTD_COMPRA','CTD_VENTA','MTO_ZAED','CTD_ZAED','CTD_DIAS','FLG_PERFIL_DEPOSITOS_3DS',\n",
    "               'CTD_TRX_LIM']]"
   ]
  },
  {
   "cell_type": "code",
   "execution_count": null,
   "metadata": {},
   "outputs": [],
   "source": [
    "datatest = test.copy()\n",
    "datatest['IF_LABEL']=clf.predict(test_num)\n",
    "datatest.head()"
   ]
  },
  {
   "cell_type": "code",
   "execution_count": null,
   "metadata": {},
   "outputs": [],
   "source": [
    "datatest.to_csv(r'../data/modeling/04_predicted.csv', sep='|', index = False, header=True)"
   ]
  },
  {
   "cell_type": "code",
   "execution_count": null,
   "metadata": {},
   "outputs": [],
   "source": []
  }
 ],
 "metadata": {
  "kernelspec": {
   "display_name": "Python 3",
   "language": "python",
   "name": "python3"
  },
  "language_info": {
   "codemirror_mode": {
    "name": "ipython",
    "version": 3
   },
   "file_extension": ".py",
   "mimetype": "text/x-python",
   "name": "python",
   "nbconvert_exporter": "python",
   "pygments_lexer": "ipython3",
   "version": "3.9.12"
  }
 },
 "nbformat": 4,
 "nbformat_minor": 4
}
