{
 "cells": [
  {
   "cell_type": "code",
   "execution_count": 1,
   "metadata": {},
   "outputs": [],
   "source": [
    "import numpy as np\n",
    "import pandas as pd\n",
    "import pickle\n",
    "from sklearn.cluster import KMeans\n",
    "pd.set_option(\"display.max_columns\",500)\n",
    "pd.set_option(\"display.max_rows\",500)\n",
    "from sklearn import metrics\n",
    "from sklearn.model_selection import train_test_split\n"
   ]
  },
  {
   "cell_type": "markdown",
   "metadata": {},
   "source": [
    "### Modelamiento"
   ]
  },
  {
   "cell_type": "code",
   "execution_count": 2,
   "metadata": {},
   "outputs": [],
   "source": [
    "#Seleccionar ruta de la data\n",
    "data =  pd.read_csv('../data/modeling/02_preprocessed.csv',sep= \"|\", encoding='latin')"
   ]
  },
  {
   "cell_type": "code",
   "execution_count": 3,
   "metadata": {},
   "outputs": [],
   "source": [
    "#Restringir la data con monto mayor a 100 mil Soles\n",
    "data2 = data.loc[(data[\"MTOTRANSACCION\"])>200000] "
   ]
  },
  {
   "cell_type": "code",
   "execution_count": 4,
   "metadata": {},
   "outputs": [],
   "source": [
    "#Modelamiento opcion cluster"
   ]
  },
  {
   "cell_type": "code",
   "execution_count": 5,
   "metadata": {},
   "outputs": [],
   "source": [
    "variables=['FLG_MTO_P50','FLG_MTO_P75','FLG_MTO_P90',\n",
    "'PERSONA_BEN','EMPRESA_BEN',\n",
    "'FLG_NOREL',\n",
    "'FLG_ROS_BEN','FLG_ROS_SOL'\n",
    "          ]"
   ]
  },
  {
   "cell_type": "code",
   "execution_count": 6,
   "metadata": {},
   "outputs": [
    {
     "data": {
      "text/plain": [
       "'list_dif=[]\\nfor i in range(0,1000000):\\n    data_train, data_test = train_test_split(data2, test_size=0.30,random_state=i)\\n    p25=np.percentile(data_train[\"MTOTRANSACCION\"], 25)\\n    p50=np.percentile(data_train[\"MTOTRANSACCION\"], 50)\\n    p75=np.percentile(data_train[\"MTOTRANSACCION\"], 75)\\n    p90=np.percentile(data_train[\"MTOTRANSACCION\"], 90)\\n    p95=np.percentile(data_train[\"MTOTRANSACCION\"], 95)\\n    #dif = (234500.0 - p25)**2+(290920.5 - p50)**2+(395242.2275 - p75)**2+(502918.1 - p90)**2+(650569.3875000001 - p95)**2\\n    dif = abs(234500.0 - p25)+abs(290920.5 - p50)+abs(395242.2275 - p75)+abs(502918.1 - p90)+abs(650569.3875000001 - p95)\\n    list_dif.append(dif)\\nlist_dif.index(min(list_dif))'"
      ]
     },
     "execution_count": 6,
     "metadata": {},
     "output_type": "execute_result"
    }
   ],
   "source": [
    "# obtencion de la semilla\n",
    "\"\"\"list_dif=[]\n",
    "for i in range(0,1000000):\n",
    "    data_train, data_test = train_test_split(data2, test_size=0.30,random_state=i)\n",
    "    p25=np.percentile(data_train[\"MTOTRANSACCION\"], 25)\n",
    "    p50=np.percentile(data_train[\"MTOTRANSACCION\"], 50)\n",
    "    p75=np.percentile(data_train[\"MTOTRANSACCION\"], 75)\n",
    "    p90=np.percentile(data_train[\"MTOTRANSACCION\"], 90)\n",
    "    p95=np.percentile(data_train[\"MTOTRANSACCION\"], 95)\n",
    "    #dif = (234500.0 - p25)**2+(290920.5 - p50)**2+(395242.2275 - p75)**2+(502918.1 - p90)**2+(650569.3875000001 - p95)**2\n",
    "    dif = abs(234500.0 - p25)+abs(290920.5 - p50)+abs(395242.2275 - p75)+abs(502918.1 - p90)+abs(650569.3875000001 - p95)\n",
    "    list_dif.append(dif)\n",
    "list_dif.index(min(list_dif))\"\"\""
   ]
  },
  {
   "cell_type": "code",
   "execution_count": 7,
   "metadata": {},
   "outputs": [],
   "source": [
    "#Separar la data en train y test \n",
    "data_train, data_test = train_test_split(data2, test_size=0.30,random_state=934081) "
   ]
  },
  {
   "cell_type": "code",
   "execution_count": 8,
   "metadata": {},
   "outputs": [],
   "source": [
    "data_train.to_csv('../data/modeling/03_train.csv',index=False,sep='|',header=True)\n",
    "data_test.to_csv('../data/modeling/03_test.csv',index=False,sep='|',header=True)"
   ]
  },
  {
   "cell_type": "code",
   "execution_count": 9,
   "metadata": {},
   "outputs": [
    {
     "name": "stdout",
     "output_type": "stream",
     "text": [
      "p25 =  234500.0 p50 =  290616.7 , p75 =  395315.0 , p90 =  503085.0  ,p95 =  650569.3875\n"
     ]
    }
   ],
   "source": [
    "p25=np.percentile(data_train[\"MTOTRANSACCION\"], 25)\n",
    "p50=np.percentile(data_train[\"MTOTRANSACCION\"], 50)\n",
    "p75=np.percentile(data_train[\"MTOTRANSACCION\"], 75)\n",
    "p90=np.percentile(data_train[\"MTOTRANSACCION\"], 90)\n",
    "p95=np.percentile(data_train[\"MTOTRANSACCION\"], 95)\n",
    "print('p25 = ',p25,'p50 = ',p50,', p75 = ',p75,', p90 = ',p90 ,' ,p95 = ',p95)"
   ]
  },
  {
   "cell_type": "code",
   "execution_count": 10,
   "metadata": {},
   "outputs": [],
   "source": [
    "data_train['FLG_MTO_P25']=0\n",
    "data_train.loc[(data_train['MTOTRANSACCION']>=p25)& (data_train['MTOTRANSACCION']<p50),'FLG_MTO_P25']=1\n",
    "\n",
    "data_train['FLG_MTO_P50']=0\n",
    "data_train.loc[(data_train['MTOTRANSACCION']>=p50)& (data_train['MTOTRANSACCION']<p75),'FLG_MTO_P50']=1\n",
    "\n",
    "data_train['FLG_MTO_P75']=0\n",
    "data_train.loc[(data_train['MTOTRANSACCION']>=p75)& (data_train['MTOTRANSACCION']<p90),'FLG_MTO_P75']=1\n",
    "\n",
    "data_train['FLG_MTO_P90']=0\n",
    "data_train.loc[(data_train['MTOTRANSACCION']>=p90),'FLG_MTO_P90']=1"
   ]
  },
  {
   "cell_type": "code",
   "execution_count": 11,
   "metadata": {},
   "outputs": [
    {
     "name": "stdout",
     "output_type": "stream",
     "text": [
      "p25 =  240000.0 p50 =  300000.0 , p75 =  399586.075 , p90 =  503480.86000000004  ,p95 =  665370.329999999\n"
     ]
    }
   ],
   "source": [
    "p25=np.percentile(data_test[\"MTOTRANSACCION\"], 25)\n",
    "p50=np.percentile(data_test[\"MTOTRANSACCION\"], 50)\n",
    "p75=np.percentile(data_test[\"MTOTRANSACCION\"], 75)\n",
    "p90=np.percentile(data_test[\"MTOTRANSACCION\"], 90)\n",
    "p95=np.percentile(data_test[\"MTOTRANSACCION\"], 95)\n",
    "print('p25 = ',p25,'p50 = ',p50,', p75 = ',p75,', p90 = ',p90 ,' ,p95 = ',p95)\n"
   ]
  },
  {
   "cell_type": "code",
   "execution_count": 12,
   "metadata": {},
   "outputs": [],
   "source": [
    "data_test['FLG_MTO_P25']=0\n",
    "data_test.loc[(data_train['MTOTRANSACCION']>=p25)& (data_test['MTOTRANSACCION']<p50),'FLG_MTO_P25']=1\n",
    "\n",
    "data_test['FLG_MTO_P50']=0\n",
    "data_test.loc[(data_test['MTOTRANSACCION']>=p50)& (data_test['MTOTRANSACCION']<p75),'FLG_MTO_P50']=1\n",
    "\n",
    "data_test['FLG_MTO_P75']=0\n",
    "data_test.loc[(data_test['MTOTRANSACCION']>=p75)& (data_test['MTOTRANSACCION']<p90),'FLG_MTO_P75']=1\n",
    "\n",
    "data_test['FLG_MTO_P90']=0\n",
    "data_test.loc[(data_test['MTOTRANSACCION']>=p90),'FLG_MTO_P90']=1"
   ]
  },
  {
   "cell_type": "code",
   "execution_count": 13,
   "metadata": {},
   "outputs": [],
   "source": [
    "#determinando el número de cluster optimo\n",
    "wcss=[]\n",
    "for i in range(1,30):\n",
    "    kmeans=KMeans(n_clusters=i,max_iter=300)\n",
    "    kmeans.fit(data_train[variables]) \n",
    "    wcss.append(kmeans.inertia_)"
   ]
  },
  {
   "cell_type": "code",
   "execution_count": 14,
   "metadata": {},
   "outputs": [
    {
     "name": "stdout",
     "output_type": "stream",
     "text": [
      " k= 5  SC= 0.4534572890931721\n",
      " k= 6  SC= 0.4877582362942243\n",
      " k= 7  SC= 0.5449254046434749\n",
      " k= 8  SC= 0.5691713570645172\n",
      " k= 9  SC= 0.6026068367125931\n",
      " k= 10  SC= 0.6285681601091432\n",
      " k= 11  SC= 0.6735724972613318\n",
      " k= 12  SC= 0.7081774340201127\n",
      " k= 13  SC= 0.7405219481586989\n",
      " k= 14  SC= 0.7841466744276302\n",
      " k= 15  SC= 0.8003635399527257\n",
      " k= 19  SC= 0.8916437751831026\n",
      " k= 30  SC= 0.9726079184515524\n",
      " k= 35  SC= 0.9831679850635586\n",
      " k= 50  SC= 0.9979474548440066\n"
     ]
    },
    {
     "name": "stderr",
     "output_type": "stream",
     "text": [
      "C:\\Users\\T39664\\AppData\\Local\\Temp\\ipykernel_1664\\2194329664.py:5: ConvergenceWarning: Number of distinct clusters (48) found smaller than n_clusters (50). Possibly due to duplicate points in X.\n",
      "  outputKMeans = KMeans(n_clusters = ki, init='k-means++', random_state = 33123413).fit(data_train[variables])\n"
     ]
    }
   ],
   "source": [
    "k = [5,6,7,8,9,10,11,12,13,14,15,19,30,35,50]\n",
    "resultsKMeans = []\n",
    "\n",
    "for ki in k:\n",
    "        outputKMeans = KMeans(n_clusters = ki, init='k-means++', random_state = 33123413).fit(data_train[variables])\n",
    "        scoreSilhoutte = metrics.silhouette_score(data_train[variables], outputKMeans.labels_, metric='euclidean')  \n",
    "        print(\" k=\", ki,\" SC=\", scoreSilhoutte) "
   ]
  },
  {
   "cell_type": "code",
   "execution_count": 15,
   "metadata": {},
   "outputs": [],
   "source": [
    "clustering=KMeans(n_clusters=19,max_iter=300, random_state = 33123413)\n",
    "clustering.fit(data_train[variables])\n",
    "data_train['N_Cluster']=clustering.labels_"
   ]
  },
  {
   "cell_type": "markdown",
   "metadata": {},
   "source": [
    "## Prediciendo"
   ]
  },
  {
   "cell_type": "code",
   "execution_count": 16,
   "metadata": {},
   "outputs": [],
   "source": [
    "# pickle.dump(clustering, open('../src/02_models/kmeans_model_39.model', 'wb'))"
   ]
  },
  {
   "cell_type": "code",
   "execution_count": 17,
   "metadata": {},
   "outputs": [
    {
     "name": "stderr",
     "output_type": "stream",
     "text": [
      "c:\\ProgramData\\Anaconda3\\lib\\site-packages\\sklearn\\base.py:329: UserWarning: Trying to unpickle estimator KMeans from version 1.1.3 when using version 1.0.2. This might lead to breaking code or invalid results. Use at your own risk. For more info please refer to:\n",
      "https://scikit-learn.org/stable/modules/model_persistence.html#security-maintainability-limitations\n",
      "  warnings.warn(\n"
     ]
    }
   ],
   "source": [
    "#Cargo modelo:\n",
    "loaded_model = pickle.load(open('../src/02_models/kmeans_model_39.model', \"rb\"))"
   ]
  },
  {
   "cell_type": "code",
   "execution_count": 18,
   "metadata": {},
   "outputs": [],
   "source": [
    "data_test['N_Cluster']=loaded_model.predict(data_test[variables]) \n",
    "data_train['N_Cluster']=loaded_model.predict(data_train[variables]) \n"
   ]
  },
  {
   "cell_type": "code",
   "execution_count": 19,
   "metadata": {},
   "outputs": [],
   "source": [
    "data_train.to_csv('../data/modeling/04_train_predicted.csv',index=False,sep='|',header=True)\n",
    "data_test.to_csv('../data/modeling/04_test_predicted.csv',index=False,sep='|',header=True)"
   ]
  },
  {
   "cell_type": "code",
   "execution_count": 20,
   "metadata": {},
   "outputs": [],
   "source": [
    "data2['N_Cluster']=loaded_model.predict(data2[variables]) "
   ]
  },
  {
   "cell_type": "code",
   "execution_count": 21,
   "metadata": {},
   "outputs": [],
   "source": [
    "data2.to_csv('../data/modeling/04_test_predicted_1.csv',index=False,sep='|',header=True)"
   ]
  }
 ],
 "metadata": {
  "kernelspec": {
   "display_name": "Python 3",
   "language": "python",
   "name": "python3"
  },
  "language_info": {
   "codemirror_mode": {
    "name": "ipython",
    "version": 3
   },
   "file_extension": ".py",
   "mimetype": "text/x-python",
   "name": "python",
   "nbconvert_exporter": "python",
   "pygments_lexer": "ipython3",
   "version": "3.9.12"
  }
 },
 "nbformat": 4,
 "nbformat_minor": 2
}
