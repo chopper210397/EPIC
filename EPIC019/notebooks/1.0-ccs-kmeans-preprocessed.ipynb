{
 "cells": [
  {
   "cell_type": "code",
   "execution_count": null,
   "metadata": {},
   "outputs": [],
   "source": [
    "import numpy as np\n",
    "import pandas as pd\n",
    "import warnings\n",
    "warnings.filterwarnings('ignore')"
   ]
  },
  {
   "cell_type": "code",
   "execution_count": null,
   "metadata": {},
   "outputs": [],
   "source": [
    "#Seleccionar ruta de la data\n",
    "dataframe = pd.read_csv('../data/modeling/01_raw.csv', encoding='ansi')\n",
    "dataframe.head()"
   ]
  },
  {
   "cell_type": "code",
   "execution_count": null,
   "metadata": {},
   "outputs": [],
   "source": [
    "data= dataframe[(dataframe.PERIODO==202001) | (dataframe.PERIODO==202003)]\n",
    "data= data[(data.SOLICITANTE>50000)]\n",
    "data.head()"
   ]
  },
  {
   "cell_type": "code",
   "execution_count": null,
   "metadata": {},
   "outputs": [],
   "source": [
    "p50=np.percentile(data[\"BENEFICIARIO\"], 50,)\n",
    "p75=np.percentile(data[\"BENEFICIARIO\"], 75)\n",
    "p90=np.percentile(data[\"BENEFICIARIO\"], 90)\n",
    "p99=np.percentile(data[\"BENEFICIARIO\"], 99)"
   ]
  },
  {
   "cell_type": "code",
   "execution_count": null,
   "metadata": {},
   "outputs": [],
   "source": [
    "data['BENEF_99']=np.where(data['BENEFICIARIO']>=p99,p99,data['BENEFICIARIO'])"
   ]
  },
  {
   "cell_type": "code",
   "execution_count": null,
   "metadata": {},
   "outputs": [],
   "source": [
    "p50=np.percentile(data[\"SOLICITANTE\"], 50,)\n",
    "p75=np.percentile(data[\"SOLICITANTE\"], 75)\n",
    "p90=np.percentile(data[\"SOLICITANTE\"], 90)\n",
    "p99=np.percentile(data[\"SOLICITANTE\"], 99)"
   ]
  },
  {
   "cell_type": "code",
   "execution_count": null,
   "metadata": {},
   "outputs": [],
   "source": [
    "data['SOLIC_99']=np.where(data['SOLICITANTE']>=p99,p99,data['SOLICITANTE'])"
   ]
  },
  {
   "cell_type": "code",
   "execution_count": null,
   "metadata": {},
   "outputs": [],
   "source": [
    "p50=np.percentile(data[\"EDAD_C\"], 50,)\n",
    "p75=np.percentile(data[\"EDAD_C\"], 75)\n",
    "p90=np.percentile(data[\"EDAD_C\"], 90)\n",
    "p99=np.percentile(data[\"EDAD_C\"], 99)"
   ]
  },
  {
   "cell_type": "code",
   "execution_count": null,
   "metadata": {},
   "outputs": [],
   "source": [
    "data['EDAD_99']=np.where(data['EDAD_C']>=p99,p99,data['EDAD_C'])"
   ]
  },
  {
   "cell_type": "code",
   "execution_count": null,
   "metadata": {},
   "outputs": [],
   "source": [
    "data['ZONA_LIMA']=data[\"CATFLGZAED\"].replace([1],1).replace([0],0).replace([2],0)\n",
    "data['ZONA_ZAED']=data[\"CATFLGZAED\"].replace([1],0).replace([0],0).replace([2],1)\n",
    "data['ZONA_NOZAED']=data[\"CATFLGZAED\"].replace([1],2).replace([2],2).replace([0],1).replace([2],0)"
   ]
  },
  {
   "cell_type": "code",
   "execution_count": null,
   "metadata": {},
   "outputs": [],
   "source": [
    "data['PROF_RIESGO']=data[\"CATPROFESION\"].replace([1],1).replace([3],0).replace([2],0)\n",
    "data['PROF_SININFO']=data[\"CATPROFESION\"].replace([1],0).replace([3],0).replace([2],1)\n",
    "data['PROF_OTRAS']=data[\"CATPROFESION\"].replace([1],0).replace([2],0).replace([3],1)"
   ]
  },
  {
   "cell_type": "code",
   "execution_count": null,
   "metadata": {},
   "outputs": [],
   "source": [
    "data['SEGM_PEQCON']=data[\"CATSEGMENTO\"].replace([2],0).replace([1],0).replace([3],1)\n",
    "data['SEGM_EXCNEG']=data[\"CATSEGMENTO\"].replace([1],0).replace([3],0).replace([2],1)\n",
    "data['SEGM_ENAPRIV']=data[\"CATSEGMENTO\"].replace([1],1).replace([2],0).replace([3],0)"
   ]
  },
  {
   "cell_type": "code",
   "execution_count": null,
   "metadata": {},
   "outputs": [],
   "source": [
    "data['OTROSNAC']=data[\"CATNACIONAL\"].replace([1],2).replace([2],2).replace([3],2).replace([0],1).replace([2],0)\n",
    "data['PERU']=data[\"CATNACIONAL\"].replace([1],1).replace([0],0).replace([2],0).replace([3],0)\n",
    "data['SIN_NAC']=data[\"CATNACIONAL\"].replace([0],0).replace([1],0).replace([3],0).replace([2],1)\n",
    "data['NAC_RIESGO']=data[\"CATNACIONAL\"].replace([0],0).replace([1],0).replace([2],0).replace([3],1)"
   ]
  },
  {
   "cell_type": "code",
   "execution_count": null,
   "metadata": {},
   "outputs": [],
   "source": [
    "data.to_csv(\"../data/modeling/02_preprocessed.csv\", sep = \"|\", index =False)"
   ]
  },
  {
   "cell_type": "code",
   "execution_count": null,
   "metadata": {},
   "outputs": [],
   "source": []
  }
 ],
 "metadata": {
  "kernelspec": {
   "display_name": ".venv",
   "language": "python",
   "name": "python3"
  },
  "language_info": {
   "codemirror_mode": {
    "name": "ipython",
    "version": 3
   },
   "file_extension": ".py",
   "mimetype": "text/x-python",
   "name": "python",
   "nbconvert_exporter": "python",
   "pygments_lexer": "ipython3",
   "version": "3.9.12"
  },
  "orig_nbformat": 4
 },
 "nbformat": 4,
 "nbformat_minor": 2
}
